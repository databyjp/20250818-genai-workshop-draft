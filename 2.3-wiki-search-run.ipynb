{
 "cells": [
  {
   "cell_type": "markdown",
   "metadata": {},
   "source": [
    "# Search Wikipedia data - Vector queries\n",
    "\n",
    "Explore semantic search capabilities using the imported Wikipedia collection with pre-computed embeddings."
   ]
  },
  {
   "cell_type": "markdown",
   "metadata": {},
   "source": [
    "## Connect to Weaviate\n",
    "\n",
    "Connect to the Weaviate instance containing our Wikipedia collection."
   ]
  },
  {
   "cell_type": "code",
   "execution_count": null,
   "metadata": {},
   "outputs": [],
   "source": [
    "import weaviate\n",
    "import os\n",
    "from weaviate.classes.init import Auth\n",
    "# from weaviate.classes.init import AdditionalConfig, Timeout\n",
    "\n",
    "# client = weaviate.connect_to_custom(\n",
    "#     http_host=\"<http_host>\",\n",
    "#     http_port=\"<http_port>\",\n",
    "#     grpc_host=\"<grpc_host>\",\n",
    "#     grpc_port=\"<grpc_port>\",\n",
    "# )\n",
    "\n",
    "client = weaviate.connect_to_weaviate_cloud(\n",
    "    cluster_url=os.environ[\"WCD_TEST_URL\"],\n",
    "    auth_credentials=os.environ[\"WCD_TEST_KEY\"]\n",
    ")\n",
    "\n",
    "client.is_ready()"
   ]
  },
  {
   "cell_type": "markdown",
   "metadata": {},
   "source": [
    "## Verify Wikipedia collection\n",
    "\n",
    "Check that our Wikipedia collection is available and populated."
   ]
  },
  {
   "cell_type": "code",
   "execution_count": null,
   "metadata": {},
   "outputs": [],
   "source": [
    "# Get collection and check size\n",
    "wiki = client.collections.get(\"Wiki\")\n",
    "total_articles = len(wiki)\n",
    "\n",
    "print(f\"Wikipedia collection contains {total_articles:,} articles\")\n",
    "\n",
    "# Quick preview of collection contents\n",
    "if total_articles > 0:\n",
    "    sample = wiki.query.fetch_objects(limit=1)\n",
    "    article = sample.objects[0].properties\n",
    "    print(f\"\\nSample article: '{article['title']}'\")\n",
    "    print(f\"Content preview: {article['text'][:100]}...\")\nelse:\n",
    "    print(\"⚠️  No articles found. Please run 2.2-wiki-import-complete.ipynb first.\")"
   ]
  },
  {
   "cell_type": "markdown",
   "metadata": {},
   "source": [
    "## Basic semantic search\n",
    "\n",
    "Perform vector-based searches on Wikipedia articles."
   ]
  },
  {
   "cell_type": "code",
   "execution_count": null,
   "metadata": {},
   "outputs": [],
   "source": [
    "# Search for articles about musical instruments\n",
    "response = wiki.query.near_text(\n",
    "    query=\"musical instruments\",\n",
    "    limit=5,\n",
    "    target_vector=\"main_vector\"\n",
    ")\n",
    "\n",
    "print(\"🎵 Articles about musical instruments:\")\n",
    "print(\"=\" * 40)\n",
    "\n",
    "for i, article in enumerate(response.objects, 1):\n",
    "    props = article.properties\n",
    "    print(f\"\\n{i}. {props['title']}\")\n",
    "    print(f\"   Preview: {props['text'][:120]}...\")\n",
    "    print(f\"   URL: {props['url']}\")"
   ]
  },
  {
   "cell_type": "markdown",
   "metadata": {},
   "source": [
    "## Advanced search examples\n",
    "\n",
    "Explore different types of queries and topics."
   ]
  },
  {
   "cell_type": "markdown",
   "metadata": {},
   "source": [
    "### Science and Technology"
   ]
  },
  {
   "cell_type": "code",
   "execution_count": null,
   "metadata": {},
   "outputs": [],
   "source": [
    "response = wiki.query.near_text(\n",
    "    query=\"artificial intelligence machine learning\",\n",
    "    limit=4,\n",
    "    target_vector=\"main_vector\"\n",
    ")\n",
    "\n",
    "print(\"🤖 AI and Machine Learning articles:\")\n",
    "for i, article in enumerate(response.objects, 1):\n",
    "    print(f\"{i}. {article.properties['title']}\")"
   ]
  },
  {
   "cell_type": "markdown",
   "metadata": {},
   "source": [
    "### Historical Topics"
   ]
  },
  {
   "cell_type": "code",
   "execution_count": null,
   "metadata": {},
   "outputs": [],
   "source": [
    "response = wiki.query.near_text(\n",
    "    query=\"ancient Rome Roman Empire history\",\n",
    "    limit=4,\n",
    "    target_vector=\"main_vector\"\n",
    ")\n",
    "\n",
    "print(\"🏛️  Roman Empire and ancient history:\")\n",
    "for i, article in enumerate(response.objects, 1):\n",
    "    print(f\"{i}. {article.properties['title']}\")"
   ]
  },
  {
   "cell_type": "markdown",
   "metadata": {},
   "source": [
    "### Natural Sciences"
   ]
  },
  {
   "cell_type": "code",
   "execution_count": null,
   "metadata": {},
   "outputs": [],
   "source": [
    "response = wiki.query.near_text(\n",
    "    query=\"biology evolution species animals\",\n",
    "    limit=4,\n",
    "    target_vector=\"main_vector\"\n",
    ")\n",
    "\n",
    "print(\"🧬 Biology and evolution articles:\")\n",
    "for i, article in enumerate(response.objects, 1):\n",
    "    print(f\"{i}. {article.properties['title']}\")"
   ]
  },
  {
   "cell_type": "markdown",
   "metadata": {},
   "source": [
    "## Search with metadata\n",
    "\n",
    "Include similarity scores and additional metadata in search results."
   ]
  },
  {
   "cell_type": "code",
   "execution_count": null,
   "metadata": {},
   "outputs": [],
   "source": [
    "from weaviate.classes.query import MetadataQuery\n",
    "\n",
    "response = wiki.query.near_text(\n",
    "    query=\"space exploration NASA astronauts\",\n",
    "    limit=5,\n",
    "    target_vector=\"main_vector\",\n",
    "    return_metadata=MetadataQuery(distance=True)\n",
    ")\n",
    "\n",
    "print(\"🚀 Space exploration articles with similarity scores:\")\n",
    "print(\"=\" * 55)\n",
    "\n",
    "for i, article in enumerate(response.objects, 1):\n",
    "    props = article.properties\n",
    "    distance = article.metadata.distance\n",
    "    similarity = 1 - distance  # Convert distance to similarity\n",
    "    \n",
    "    print(f\"\\n{i}. {props['title']}\")\n",
    "    print(f\"   Similarity: {similarity:.3f} (distance: {distance:.3f})\")\n",
    "    print(f\"   Preview: {props['text'][:100]}...\")"
   ]
  },
  {
   "cell_type": "markdown",
   "metadata": {},
   "source": [
    "## Comparative searches\n",
    "\n",
    "Compare search results for related but different topics."
   ]
  },
  {
   "cell_type": "code",
   "execution_count": null,
   "metadata": {},
   "outputs": [],
   "source": [
    "queries = [\n",
    "    \"classical music composers\",\n",
    "    \"jazz music musicians\",\n",
    "    \"rock music bands\"\n",
    "]\n",
    "\n",
    "print(\"🎼 Comparing different music genres:\")\n",
    "print(\"=\" * 40)\n",
    "\n",
    "for query in queries:\n",
    "    response = wiki.query.near_text(\n",
    "        query=query,\n",
    "        limit=3,\n",
    "        target_vector=\"main_vector\"\n",
    "    )\n",
    "    \n",
    "    print(f\"\\n📝 Query: '{query}'\")\n",
    "    for i, article in enumerate(response.objects, 1):\n",
    "        print(f\"  {i}. {article.properties['title']}\")"
   ]
  },
  {
   "cell_type": "markdown",
   "metadata": {},
   "source": [
    "## Explore collection diversity\n",
    "\n",
    "Sample random articles to understand the breadth of topics in our Wikipedia collection."
   ]
  },
  {
   "cell_type": "code",
   "execution_count": null,
   "metadata": {},
   "outputs": [],
   "source": [
    "# Get a diverse sample of articles\n",
    "import random\n",
    "\n",
    "response = wiki.query.fetch_objects(limit=20)\n",
    "sample_articles = random.sample(response.objects, min(8, len(response.objects)))\n",
    "\n",
    "print(\"🌍 Random sample of Wikipedia articles in our collection:\")\n",
    "print(\"=\" * 60)\n",
    "\n",
    "for i, article in enumerate(sample_articles, 1):\n",
    "    props = article.properties\n",
    "    print(f\"\\n{i}. {props['title']}\")\n",
    "    print(f\"   Wiki ID: {props['wiki_id']}\")\n",
    "    print(f\"   Content: {props['text'][:80]}...\")"
   ]
  },
  {
   "cell_type": "markdown",
   "metadata": {},
   "source": [
    "## Search quality analysis\n",
    "\n",
    "Test search precision with specific queries."
   ]
  },
  {
   "cell_type": "code",
   "execution_count": null,
   "metadata": {},
   "outputs": [],
   "source": [
    "test_queries = [\n",
    "    \"programming languages Python Java\",\n",
    "    \"European countries geography\",\n",
    "    \"Olympic sports athletics swimming\",\n",
    "    \"renewable energy solar wind power\"\n",
    "]\n",
    "\n",
    "print(\"🔍 Testing search quality across different domains:\")\n",
    "print(\"=\" * 55)\n",
    "\n",
    "for query in test_queries:\n",
    "    response = wiki.query.near_text(\n",
    "        query=query,\n",
    "        limit=2,\n",
    "        target_vector=\"main_vector\",\n",
    "        return_metadata=MetadataQuery(distance=True)\n",
    "    )\n",
    "    \n",
    "    print(f\"\\n🔎 '{query}'\")\n",
    "    for i, article in enumerate(response.objects, 1):\n",
    "        similarity = 1 - article.metadata.distance\n",
    "        print(f\"  {i}. {article.properties['title']} (similarity: {similarity:.3f})\")"
   ]
  },
  {
   "cell_type": "markdown",
   "metadata": {},
   "source": [
    "## Summary\n",
    "\n",
    "This notebook demonstrated:\n",
    "- Basic semantic search on Wikipedia articles\n",
    "- Advanced queries across different topics and domains\n",
    "- Similarity scoring and metadata analysis\n",
    "- Comparative searches to understand semantic relationships\n",
    "- Collection exploration and quality assessment\n",
    "\n",
    "The pre-vectorized Wikipedia collection provides a rich dataset for testing various vector search scenarios and understanding semantic similarity in practice."
   ]
  },
  {
   "cell_type": "markdown",
   "metadata": {},
   "source": [
    "## Close the client\n",
    "\n",
    "Always close your connection when finished."
   ]
  },
  {
   "cell_type": "code",
   "execution_count": null,
   "metadata": {},
   "outputs": [],
   "source": [
    "client.close()"
   ]
  }
 ],
 "metadata": {
  "kernelspec": {
   "display_name": "Python 3",
   "language": "python",
   "name": "python3"
  },
  "language_info": {
   "codemirror_mode": {
    "name": "ipython",
    "version": 3
   },
   "file_extension": ".py",
   "mimetype": "text/x-python",
   "name": "python",
   "nbconvert_exporter": "python",
   "pygments_lexer": "ipython3",
   "version": "3.11.0"
  }
 },
 "nbformat": 4,
 "nbformat_minor": 4
}