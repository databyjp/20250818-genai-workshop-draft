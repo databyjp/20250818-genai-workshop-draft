{
 "cells": [
  {
   "cell_type": "markdown",
   "metadata": {},
   "source": [
    "# Search Wikipedia data - Vector queries\n",
    "\n",
    "Explore semantic search capabilities using the imported Wikipedia collection with pre-computed embeddings."
   ]
  },
  {
   "cell_type": "markdown",
   "metadata": {},
   "source": [
    "## Connect to Weaviate\n",
    "\n",
    "Connect to the Weaviate instance containing our Wikipedia collection."
   ]
  },
  {
   "cell_type": "code",
   "execution_count": null,
   "metadata": {},
   "outputs": [],
   "source": [
    "# Refresh credentials & load the Weaviate IP\n",
    "from helpers import update_creds\n",
    "\n",
    "AWS_ACCESS_KEY, AWS_SECRET_KEY, AWS_SESSION_TOKEN = update_creds()\n",
    "\n",
    "%store -r WEAVIATE_IP"
   ]
  },
  {
   "cell_type": "code",
   "execution_count": 1,
   "metadata": {},
   "outputs": [
    {
     "data": {
      "text/plain": [
       "True"
      ]
     },
     "execution_count": 1,
     "metadata": {},
     "output_type": "execute_result"
    }
   ],
   "source": [
    "import weaviate\n",
    "\n",
    "client = weaviate.connect_to_local(\n",
    "    WEAVIATE_IP,\n",
    "    headers = {\n",
    "        \"X-AWS-Access-Key\": AWS_ACCESS_KEY,\n",
    "        \"X-AWS-Secret-Key\": AWS_SECRET_KEY,\n",
    "        \"X-AWS-Session-Token\": AWS_SESSION_TOKEN,\n",
    "    }        \n",
    ")\n",
    "\n",
    "client.is_ready()"
   ]
  },
  {
   "cell_type": "markdown",
   "metadata": {},
   "source": [
    "## Verify Wikipedia collection\n",
    "\n",
    "Check that our Wikipedia collection is available and populated."
   ]
  },
  {
   "cell_type": "code",
   "execution_count": null,
   "metadata": {},
   "outputs": [
    {
     "name": "stdout",
     "output_type": "stream",
     "text": [
      "Wikipedia collection contains 25,000 articles\n",
      "\n",
      "Sample article: 'Unicode'\n",
      "Content preview: The Unicode Standard includes more than just the base code. Alongside the character encodings, the C...\n"
     ]
    }
   ],
   "source": [
    "# Get collection and check size\n",
    "wiki = client.collections.use(\"Wiki\")\n",
    "total_articles = len(wiki)\n",
    "\n",
    "print(f\"Wikipedia collection contains {total_articles:,} articles\")\n",
    "\n",
    "# Quick preview of collection contents\n",
    "if total_articles > 0:\n",
    "    sample = wiki.query.fetch_objects(limit=1)\n",
    "    article = sample.objects[0].properties\n",
    "    print(f\"\\nSample article: '{article['title']}'\")\n",
    "    print(f\"Content preview: {article['text'][:100]}...\")\n",
    "else:\n",
    "    print(\"⚠️  No articles found. Please run 2.2-wiki-import-complete.ipynb first.\")"
   ]
  },
  {
   "cell_type": "markdown",
   "metadata": {},
   "source": [
    "## Basic semantic search\n",
    "\n",
    "Perform vector-based searches on Wikipedia articles."
   ]
  },
  {
   "cell_type": "code",
   "execution_count": 3,
   "metadata": {},
   "outputs": [
    {
     "name": "stdout",
     "output_type": "stream",
     "text": [
      "🎵 Articles about musical instruments:\n",
      "========================================\n",
      "\n",
      "1. Ensemble\n",
      "   Preview: The term is most used in music. A musical ensemble is a group of people who perform instrumental or vocal music. In clas...\n",
      "   URL: https://simple.wikipedia.org/wiki/Ensemble\n",
      "\n",
      "2. Saxophone\n",
      "   Preview: A saxophone is a type of musical instrument in the woodwind family. The saxophone uses a piece of wood, called a reed, t...\n",
      "   URL: https://simple.wikipedia.org/wiki/Saxophone\n",
      "\n",
      "3. Arrangement (music)\n",
      "   Preview: Arrangements are often made by people who play instruments that have not had much music written for them.  People who pl...\n",
      "   URL: https://simple.wikipedia.org/wiki/Arrangement%20%28music%29\n",
      "\n",
      "4. Cuban music\n",
      "   Preview: The African slaves and their descendants made many percussion instruments and preserved rhythms they had known in their ...\n",
      "   URL: https://simple.wikipedia.org/wiki/Cuban%20music\n",
      "\n",
      "5. Percussion instrument\n",
      "   Preview: Untuned percussion instruments include: bass drum, side drum (snare drum), maracas, castanets, cymbals, tambourine, clav...\n",
      "   URL: https://simple.wikipedia.org/wiki/Percussion%20instrument\n"
     ]
    }
   ],
   "source": [
    "# Search for articles about musical instruments\n",
    "response = wiki.query.near_text(\n",
    "    query=\"musical instruments\",\n",
    "    limit=5,\n",
    "    target_vector=\"main_vector\"\n",
    ")\n",
    "\n",
    "print(\"🎵 Articles about musical instruments:\")\n",
    "print(\"=\" * 40)\n",
    "\n",
    "for i, article in enumerate(response.objects, 1):\n",
    "    props = article.properties\n",
    "    print(f\"\\n{i}. {props['title']}\")\n",
    "    print(f\"   Preview: {props['text'][:120]}...\")\n",
    "    print(f\"   URL: {props['url']}\")"
   ]
  },
  {
   "cell_type": "markdown",
   "metadata": {},
   "source": [
    "## Advanced search examples\n",
    "\n",
    "Explore different types of queries and topics."
   ]
  },
  {
   "cell_type": "markdown",
   "metadata": {},
   "source": [
    "### Science and Technology"
   ]
  },
  {
   "cell_type": "code",
   "execution_count": 4,
   "metadata": {},
   "outputs": [
    {
     "name": "stdout",
     "output_type": "stream",
     "text": [
      "🤖 AI and Machine Learning articles:\n",
      "1. Natural language generation\n",
      "2. Artificial neural network\n",
      "3. Machine code\n",
      "4. Intelligence\n"
     ]
    }
   ],
   "source": [
    "response = wiki.query.near_text(\n",
    "    query=\"artificial intelligence machine learning\",\n",
    "    limit=4,\n",
    "    target_vector=\"main_vector\"\n",
    ")\n",
    "\n",
    "print(\"🤖 AI and Machine Learning articles:\")\n",
    "for i, article in enumerate(response.objects, 1):\n",
    "    print(f\"{i}. {article.properties['title']}\")"
   ]
  },
  {
   "cell_type": "markdown",
   "metadata": {},
   "source": [
    "### Historical Topics"
   ]
  },
  {
   "cell_type": "code",
   "execution_count": 5,
   "metadata": {},
   "outputs": [
    {
     "name": "stdout",
     "output_type": "stream",
     "text": [
      "🏛️  Roman Empire and ancient history:\n",
      "1. Religion in ancient Rome\n",
      "2. Rome\n",
      "3. Byzantine Empire\n",
      "4. Roman Republic\n"
     ]
    }
   ],
   "source": [
    "response = wiki.query.near_text(\n",
    "    query=\"ancient Rome Roman Empire history\",\n",
    "    limit=4,\n",
    "    target_vector=\"main_vector\"\n",
    ")\n",
    "\n",
    "print(\"🏛️  Roman Empire and ancient history:\")\n",
    "for i, article in enumerate(response.objects, 1):\n",
    "    print(f\"{i}. {article.properties['title']}\")"
   ]
  },
  {
   "cell_type": "markdown",
   "metadata": {},
   "source": [
    "### Natural Sciences"
   ]
  },
  {
   "cell_type": "code",
   "execution_count": 6,
   "metadata": {},
   "outputs": [
    {
     "name": "stdout",
     "output_type": "stream",
     "text": [
      "🧬 Biology and evolution articles:\n",
      "1. Charles Darwin\n",
      "2. Biological species concept\n",
      "3. Adaptation\n",
      "4. Mammalia (taxonomy)\n"
     ]
    }
   ],
   "source": [
    "response = wiki.query.near_text(\n",
    "    query=\"biology evolution species animals\",\n",
    "    limit=4,\n",
    "    target_vector=\"main_vector\"\n",
    ")\n",
    "\n",
    "print(\"🧬 Biology and evolution articles:\")\n",
    "for i, article in enumerate(response.objects, 1):\n",
    "    print(f\"{i}. {article.properties['title']}\")"
   ]
  },
  {
   "cell_type": "markdown",
   "metadata": {},
   "source": [
    "## Search with metadata\n",
    "\n",
    "Include similarity scores and additional metadata in search results."
   ]
  },
  {
   "cell_type": "code",
   "execution_count": 7,
   "metadata": {},
   "outputs": [
    {
     "name": "stdout",
     "output_type": "stream",
     "text": [
      "🚀 Space exploration articles with similarity scores:\n",
      "=======================================================\n",
      "\n",
      "1. University of Southern California\n",
      "   Similarity: 0.415 (distance: 0.585)\n",
      "   Preview: Neil Armstrong (1960s and 1970, graduate studies) (M.S. Aerospace Engineering) – astronaut and the f...\n",
      "\n",
      "2. Outer planet\n",
      "   Similarity: 0.393 (distance: 0.607)\n",
      "   Preview: Trautman and Bethke – Human Outer Planet Exploration (2003) – NASA Langley Research Center and Princ...\n",
      "\n",
      "3. Scott Kelly (astronaut)\n",
      "   Similarity: 0.393 (distance: 0.607)\n",
      "   Preview: Scott Joseph Kelly (born February 21, 1964) is an American engineer, retired astronaut, and naval av...\n",
      "\n",
      "4. Edward Gibson\n",
      "   Similarity: 0.391 (distance: 0.609)\n",
      "   Preview: Edward George \"Ed\" Gibson (born November 8, 1936) is a former NASA astronaut, pilot, engineer, and p...\n",
      "\n",
      "5. Ronald McNair\n",
      "   Similarity: 0.389 (distance: 0.611)\n",
      "   Preview: Ronald Erwin McNair (October 21, 1950 – January 28, 1986) was an American NASA astronaut and physici...\n"
     ]
    }
   ],
   "source": [
    "from weaviate.classes.query import MetadataQuery\n",
    "\n",
    "response = wiki.query.near_text(\n",
    "    query=\"space exploration NASA astronauts\",\n",
    "    limit=5,\n",
    "    target_vector=\"main_vector\",\n",
    "    return_metadata=MetadataQuery(distance=True)\n",
    ")\n",
    "\n",
    "print(\"🚀 Space exploration articles with similarity scores:\")\n",
    "print(\"=\" * 55)\n",
    "\n",
    "for i, article in enumerate(response.objects, 1):\n",
    "    props = article.properties\n",
    "    distance = article.metadata.distance\n",
    "    similarity = 1 - distance  # Convert distance to similarity\n",
    "\n",
    "    print(f\"\\n{i}. {props['title']}\")\n",
    "    print(f\"   Similarity: {similarity:.3f} (distance: {distance:.3f})\")\n",
    "    print(f\"   Preview: {props['text'][:100]}...\")"
   ]
  },
  {
   "cell_type": "markdown",
   "metadata": {},
   "source": [
    "## Comparative searches\n",
    "\n",
    "Compare search results for related but different topics."
   ]
  },
  {
   "cell_type": "code",
   "execution_count": 8,
   "metadata": {},
   "outputs": [
    {
     "name": "stdout",
     "output_type": "stream",
     "text": [
      "🎼 Comparing different music genres:\n",
      "========================================\n",
      "\n",
      "📝 Query: 'classical music composers'\n",
      "  1. Karl Böhm\n",
      "  2. Oliver Wallace\n",
      "  3. Richard Wagner\n",
      "\n",
      "📝 Query: 'jazz music musicians'\n",
      "  1. Music of Australia\n",
      "  2. Bill Tapia\n",
      "  3. Toots Thielemans\n",
      "\n",
      "📝 Query: 'rock music bands'\n",
      "  1. Rock music\n",
      "  2. New wave music\n",
      "  3. The Rolling Stones\n"
     ]
    }
   ],
   "source": [
    "queries = [\n",
    "    \"classical music composers\",\n",
    "    \"jazz music musicians\",\n",
    "    \"rock music bands\"\n",
    "]\n",
    "\n",
    "print(\"🎼 Comparing different music genres:\")\n",
    "print(\"=\" * 40)\n",
    "\n",
    "for query in queries:\n",
    "    response = wiki.query.near_text(\n",
    "        query=query,\n",
    "        limit=3,\n",
    "        target_vector=\"main_vector\"\n",
    "    )\n",
    "\n",
    "    print(f\"\\n📝 Query: '{query}'\")\n",
    "    for i, article in enumerate(response.objects, 1):\n",
    "        print(f\"  {i}. {article.properties['title']}\")"
   ]
  },
  {
   "cell_type": "markdown",
   "metadata": {},
   "source": [
    "## Explore collection diversity\n",
    "\n",
    "Sample random articles to understand the breadth of topics in our Wikipedia collection."
   ]
  },
  {
   "cell_type": "code",
   "execution_count": 9,
   "metadata": {},
   "outputs": [
    {
     "name": "stdout",
     "output_type": "stream",
     "text": [
      "🌍 Random sample of Wikipedia articles in our collection:\n",
      "============================================================\n",
      "\n",
      "1. Taliban insurgency\n",
      "   Wiki ID: 20231101.simple_586827_4\n",
      "   Content: Areas where the security situation is worse produce more Opium; areas that are m...\n",
      "\n",
      "2. Len Goodman\n",
      "   Wiki ID: 20231101.simple_963722_0\n",
      "   Content: Leonard \"Len\" Gordon Goodman (25 April 1944 – 22 April 2023) was an English prof...\n",
      "\n",
      "3. Nigel Haywood\n",
      "   Wiki ID: 20231101.simple_1033374_0\n",
      "   Content: Nigel Robert Haywood  (born 17 March 1955) is a British diplomat. He was the Bri...\n",
      "\n",
      "4. Habesha peoples\n",
      "   Wiki ID: 20231101.simple_839274_8\n",
      "   Content: Egyptian inscriptions refer to the people that they traded with in Punt as , \"th...\n",
      "\n",
      "5. One Wall Centre\n",
      "   Wiki ID: 20231101.simple_458654_0\n",
      "   Content: One Wall Centre, also known as the Sheraton Vancouver Wall Centre Hotel, is a mi...\n",
      "\n",
      "6. Satoshi Kukino\n",
      "   Wiki ID: 20231101.simple_241540_0\n",
      "   Content: |2006||rowspan=\"4\"|Kawasaki Frontale||rowspan=\"4\"|J. League 1||0||0||0||0||0||0|...\n",
      "\n",
      "7. Hilary Hahn\n",
      "   Wiki ID: 20231101.simple_63871_3\n",
      "   Content: By the age of sixteen, Hahn had completed the Curtis Institute's university requ...\n",
      "\n",
      "8. Miguel (singer)\n",
      "   Wiki ID: 20231101.simple_985291_3\n",
      "   Content: Miguel released his debut single titled \"All I Want Is You\", which features J. C...\n"
     ]
    }
   ],
   "source": [
    "# Get a diverse sample of articles\n",
    "import random\n",
    "\n",
    "response = wiki.query.fetch_objects(limit=20)\n",
    "sample_articles = random.sample(response.objects, min(8, len(response.objects)))\n",
    "\n",
    "print(\"🌍 Random sample of Wikipedia articles in our collection:\")\n",
    "print(\"=\" * 60)\n",
    "\n",
    "for i, article in enumerate(sample_articles, 1):\n",
    "    props = article.properties\n",
    "    print(f\"\\n{i}. {props['title']}\")\n",
    "    print(f\"   Wiki ID: {props['wiki_id']}\")\n",
    "    print(f\"   Content: {props['text'][:80]}...\")"
   ]
  },
  {
   "cell_type": "markdown",
   "metadata": {},
   "source": [
    "## Search quality analysis\n",
    "\n",
    "Test search precision with specific queries."
   ]
  },
  {
   "cell_type": "code",
   "execution_count": 10,
   "metadata": {},
   "outputs": [
    {
     "name": "stdout",
     "output_type": "stream",
     "text": [
      "🔍 Testing search quality across different domains:\n",
      "=======================================================\n",
      "\n",
      "🔎 'programming languages Python Java'\n",
      "  1. Object-oriented programming (similarity: 0.365)\n",
      "  2. PHP (similarity: 0.344)\n",
      "\n",
      "🔎 'European countries geography'\n",
      "  1. Western Europe (similarity: 0.510)\n",
      "  2. Balkans (similarity: 0.442)\n",
      "\n",
      "🔎 'Olympic sports athletics swimming'\n",
      "  1. Olympic Games (similarity: 0.491)\n",
      "  2. Michael Phelps (similarity: 0.481)\n",
      "\n",
      "🔎 'renewable energy solar wind power'\n",
      "  1. Solar energy (similarity: 0.512)\n",
      "  2. Sustainable energy (similarity: 0.443)\n"
     ]
    }
   ],
   "source": [
    "test_queries = [\n",
    "    \"programming languages Python Java\",\n",
    "    \"European countries geography\",\n",
    "    \"Olympic sports athletics swimming\",\n",
    "    \"renewable energy solar wind power\"\n",
    "]\n",
    "\n",
    "print(\"🔍 Testing search quality across different domains:\")\n",
    "print(\"=\" * 55)\n",
    "\n",
    "for query in test_queries:\n",
    "    response = wiki.query.near_text(\n",
    "        query=query,\n",
    "        limit=2,\n",
    "        target_vector=\"main_vector\",\n",
    "        return_metadata=MetadataQuery(distance=True)\n",
    "    )\n",
    "\n",
    "    print(f\"\\n🔎 '{query}'\")\n",
    "    for i, article in enumerate(response.objects, 1):\n",
    "        similarity = 1 - article.metadata.distance\n",
    "        print(f\"  {i}. {article.properties['title']} (similarity: {similarity:.3f})\")"
   ]
  },
  {
   "cell_type": "markdown",
   "metadata": {},
   "source": [
    "## Summary\n",
    "\n",
    "This notebook demonstrated:\n",
    "- Basic semantic search on Wikipedia articles\n",
    "- Advanced queries across different topics and domains\n",
    "- Similarity scoring and metadata analysis\n",
    "- Comparative searches to understand semantic relationships\n",
    "- Collection exploration and quality assessment\n",
    "\n",
    "The pre-vectorized Wikipedia collection provides a rich dataset for testing various vector search scenarios and understanding semantic similarity in practice."
   ]
  },
  {
   "cell_type": "markdown",
   "metadata": {},
   "source": [
    "## Close the client\n",
    "\n",
    "Always close your connection when finished."
   ]
  },
  {
   "cell_type": "code",
   "execution_count": 11,
   "metadata": {},
   "outputs": [],
   "source": [
    "client.close()"
   ]
  }
 ],
 "metadata": {
  "kernelspec": {
   "display_name": "Python 3 (ipykernel)",
   "language": "python",
   "name": "python3"
  },
  "language_info": {
   "codemirror_mode": {
    "name": "ipython",
    "version": 3
   },
   "file_extension": ".py",
   "mimetype": "text/x-python",
   "name": "python",
   "nbconvert_exporter": "python",
   "pygments_lexer": "ipython3",
   "version": "3.12.9"
  }
 },
 "nbformat": 4,
 "nbformat_minor": 4
}
