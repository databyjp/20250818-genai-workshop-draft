{
 "cells": [
  {
   "cell_type": "markdown",
   "metadata": {},
   "source": [
    "# Collection setup and data loading\n",
    "\n",
    "Learn how to create Weaviate collections and import data with vectorization. We'll create the FinancialArticles collection used in other notebooks."
   ]
  },
  {
   "cell_type": "code",
   "execution_count": 1,
   "metadata": {},
   "outputs": [
    {
     "name": "stdout",
     "output_type": "stream",
     "text": [
      "Weaviate IP: 44.244.93.188\n"
     ]
    }
   ],
   "source": [
    "%store -r WEAVIATE_IP\n",
    "print(f'Weaviate IP: {WEAVIATE_IP}')"
   ]
  },
  {
   "cell_type": "code",
   "execution_count": 2,
   "metadata": {},
   "outputs": [
    {
     "name": "stdout",
     "output_type": "stream",
     "text": [
      "AWS_ACCESS_KEY:\tASIAZQ3DRV23PMZUKOTI\n",
      "AWS_SECRET_KEY:\t8NnZP9mN3agqJ6kgarNKJhvSXFI2JjRRP/1PhAcT\n",
      "AWS_SESSION_TOKEN:\tIQoJb3JpZ2luX2VjEOT//////////wEaCXVzLXdlc3QtMiJHMEUCIQD/1xbqqLRN3uuP5ZLrZSEazXl2SrY2uS0AuG1HW3TQ9wIgEASIMAMkxAMi/LuqiPi3muMXoZXo5adEN0YK3VPHrcUqhQMITRAAGgw2NTQ2NTQ0MTg2MTQiDLplarkeA17IAJN4fCriAjsL6LAJ7TWiP3FHQReZ6R4y3opBUPm66VULDw6XzcI6J6GuuYOGTutOK5GR5eUdwqSPp9pG3dXYVEXS1xZh3MUgdk/ICHjfx097sTqBanr49z2PuaOn81yWlFm6awy5MMp7KkmUD8DMZbjfHY0DCRi3+fdVl2jtUNorWIgNy7ybWqBqTDXlOW6d6qBsjb+fEoOPsW13jBBjUO1iwXZIkeyOBm48w4LCdAH3vikNh0Aj6pHCJj+xDmypuzmG6acCts9Qgxkisz1pimf4VdY59d1mtHXssJDL0Gm1E0Ei3hd50Mcw6iRsztEB1gpOmGipjFCntXT9Do0OrHQNtMncfHG9Flx6zMrYBL1BLVRVpppQ1E09Lg+AEKyo5w5P0HrUl7FQ8E0Mv91fn79agmNU16Qk8boeSrXpTe+U6sDjU4XbEMl9FMs/K9hSqWl5j/yGZ2SVgIvzcx8mHW1xwVsUQda4PzDMw+LFBjqbATglhaJujZljFYqpT7xIMu88pDjTGC9rV9hZruow+TGJo6rnIBuV1ysHva68CVuhxUHxwrVj0kHbFIigxlVaZzVvekqCizs3quAzx6WDEMR4wX0Kzffu3TbY+nV8AhVDqKH82RNICBs9upxUx/MXhvCQE5gN9Js0YLip4WYPaWY20487X2rNIb0sw+vfyDCJ6y1L0sxFPE5rGj01\n",
      "WEAVIATE_IP:\t44.244.93.188\n",
      "Stored 'AWS_ACCESS_KEY' (str)\n",
      "Stored 'AWS_SECRET_KEY' (str)\n",
      "Stored 'AWS_SESSION_TOKEN' (str)\n"
     ]
    }
   ],
   "source": [
    "from boto3 import Session\n",
    "\n",
    "session = Session()\n",
    "credentials = session.get_credentials()\n",
    "current_credentials = credentials.get_frozen_credentials()\n",
    "\n",
    "AWS_ACCESS_KEY = current_credentials.access_key\n",
    "AWS_SECRET_KEY = current_credentials.secret_key\n",
    "AWS_SESSION_TOKEN = current_credentials.token\n",
    "\n",
    "print(f\"AWS_ACCESS_KEY:\\t{AWS_ACCESS_KEY}\")\n",
    "print(f\"AWS_SECRET_KEY:\\t{AWS_SECRET_KEY}\")\n",
    "print(f\"AWS_SESSION_TOKEN:\\t{AWS_SESSION_TOKEN}\")\n",
    "print(f\"WEAVIATE_IP:\\t{WEAVIATE_IP}\")\n",
    "\n",
    "%store AWS_ACCESS_KEY\n",
    "%store AWS_SECRET_KEY\n",
    "%store AWS_SESSION_TOKEN"
   ]
  },
  {
   "cell_type": "markdown",
   "metadata": {},
   "source": [
    "## Connect to Weaviate\n",
    "\n",
    "Connect to a Weaviate instance using environment variables."
   ]
  },
  {
   "cell_type": "code",
   "execution_count": 3,
   "metadata": {},
   "outputs": [
    {
     "data": {
      "text/plain": [
       "True"
      ]
     },
     "execution_count": 3,
     "metadata": {},
     "output_type": "execute_result"
    }
   ],
   "source": [
    "import weaviate\n",
    "import os\n",
    "from weaviate.classes.init import Auth\n",
    "\n",
    "client = weaviate.connect_to_local(\n",
    "    WEAVIATE_IP,\n",
    "    headers = {\n",
    "        \"X-AWS-Access-Key\": AWS_ACCESS_KEY,\n",
    "        \"X-AWS-Secret-Key\": AWS_SECRET_KEY,\n",
    "        \"X-AWS-Session-Token\": AWS_SESSION_TOKEN,\n",
    "    }        \n",
    ")\n",
    "\n",
    "client.is_ready()"
   ]
  },
  {
   "cell_type": "markdown",
   "metadata": {},
   "source": [
    "## Create collection with vectorizer\n",
    "\n",
    "Create a collection for financial articles with separate embeddings for title and content.\n",
    "\n",
    "[Docs - Collection configuration](https://weaviate.io/developers/weaviate/manage-data/collections)"
   ]
  },
  {
   "cell_type": "code",
   "execution_count": 4,
   "metadata": {},
   "outputs": [
    {
     "data": {
      "text/plain": [
       "<weaviate.collections.collection.sync.Collection at 0x7f855740aea0>"
      ]
     },
     "execution_count": 4,
     "metadata": {},
     "output_type": "execute_result"
    }
   ],
   "source": [
    "from weaviate.classes.config import Configure, Property, DataType\n",
    "\n",
    "# Delete collection if it exists\n",
    "if client.collections.exists(\"FinancialArticles\"):\n",
    "    client.collections.delete(\"FinancialArticles\")\n",
    "\n",
    "# Create collection with named vectors for title and content\n",
    "client.collections.create(\n",
    "    name=\"FinancialArticles\",\n",
    "\n",
    "    # Configure separate embeddings for title and article content\n",
    "    vector_config=[\n",
    "        Configure.Vectors.text2vec_aws(\n",
    "            name=\"title\",\n",
    "            source_properties=[\"article_title\"],\n",
    "            region=\"us-west-2\",\n",
    "            service=\"bedrock\",\n",
    "            model=\"amazon.titan-embed-text-v2:0\"            \n",
    "            # model=\"cohere.embed-multilingual-v3\"\n",
    "        ),\n",
    "        Configure.Vectors.text2vec_aws(\n",
    "            name=\"content\",\n",
    "            source_properties=[\"article\"],\n",
    "            region=\"us-west-2\",\n",
    "            service=\"bedrock\",\n",
    "            model=\"amazon.titan-embed-text-v2:0\"\n",
    "            # model=\"cohere.embed-multilingual-v3\"\n",
    "        )\n",
    "    ],\n",
    "\n",
    "    # Define property schema\n",
    "    properties=[\n",
    "        Property(name=\"article_title\", data_type=DataType.TEXT),\n",
    "        Property(name=\"article\", data_type=DataType.TEXT),\n",
    "        Property(name=\"url\", data_type=DataType.TEXT),\n",
    "    ],\n",
    ")"
   ]
  },
  {
   "cell_type": "markdown",
   "metadata": {},
   "source": [
    "## Load financial articles data\n",
    "\n",
    "Import the financial news dataset using batch processing for efficient loading."
   ]
  },
  {
   "cell_type": "code",
   "execution_count": 5,
   "metadata": {},
   "outputs": [
    {
     "name": "stdout",
     "output_type": "stream",
     "text": [
      "Loaded 5000 articles\n",
      "Sample data:\n"
     ]
    },
    {
     "data": {
      "text/html": [
       "<div>\n",
       "<style scoped>\n",
       "    .dataframe tbody tr th:only-of-type {\n",
       "        vertical-align: middle;\n",
       "    }\n",
       "\n",
       "    .dataframe tbody tr th {\n",
       "        vertical-align: top;\n",
       "    }\n",
       "\n",
       "    .dataframe thead th {\n",
       "        text-align: right;\n",
       "    }\n",
       "</style>\n",
       "<table border=\"1\" class=\"dataframe\">\n",
       "  <thead>\n",
       "    <tr style=\"text-align: right;\">\n",
       "      <th></th>\n",
       "      <th>date</th>\n",
       "      <th>article_title</th>\n",
       "      <th>stock_symbol</th>\n",
       "      <th>url</th>\n",
       "      <th>article</th>\n",
       "    </tr>\n",
       "  </thead>\n",
       "  <tbody>\n",
       "    <tr>\n",
       "      <th>0</th>\n",
       "      <td>2022-08-04 00:00:00 UTC</td>\n",
       "      <td>Ansys Q2 22 Earnings Conference Call At 8:30 A...</td>\n",
       "      <td>ANSS</td>\n",
       "      <td>https://www.nasdaq.com/articles/ansys-q2-22-ea...</td>\n",
       "      <td>(RTTNews) - Ansys Inc. (ANSS) will host a conf...</td>\n",
       "    </tr>\n",
       "    <tr>\n",
       "      <th>1</th>\n",
       "      <td>2012-11-26 00:00:00 UTC</td>\n",
       "      <td>Corrections Corporation of America (CXW) Ex-Di...</td>\n",
       "      <td>PAYX</td>\n",
       "      <td>https://www.nasdaq.com/articles/corrections-co...</td>\n",
       "      <td>Corrections Corporation of America ( CXW ) has...</td>\n",
       "    </tr>\n",
       "    <tr>\n",
       "      <th>2</th>\n",
       "      <td>2023-07-14 00:00:00 UTC</td>\n",
       "      <td>Technology Sector Update for 07/14/2023: ASML,...</td>\n",
       "      <td>ASML</td>\n",
       "      <td>https://www.nasdaq.com/articles/technology-sec...</td>\n",
       "      <td>Tech stocks were lower late Friday, with the T...</td>\n",
       "    </tr>\n",
       "    <tr>\n",
       "      <th>3</th>\n",
       "      <td>2020-02-16 00:00:00 UTC</td>\n",
       "      <td>3 Best Biotech Stocks to Buy for the Next Decade</td>\n",
       "      <td>VRTX</td>\n",
       "      <td>https://www.nasdaq.com/articles/3-best-biotech...</td>\n",
       "      <td>Let me start out by acknowledging that predict...</td>\n",
       "    </tr>\n",
       "    <tr>\n",
       "      <th>4</th>\n",
       "      <td>2021-08-24 00:00:00 UTC</td>\n",
       "      <td>iShares U.S. Transportation ETF Experiences Bi...</td>\n",
       "      <td>CSX</td>\n",
       "      <td>https://www.nasdaq.com/articles/ishares-u.s.-t...</td>\n",
       "      <td>Looking today at week-over-week shares outstan...</td>\n",
       "    </tr>\n",
       "  </tbody>\n",
       "</table>\n",
       "</div>"
      ],
      "text/plain": [
       "                      date                                      article_title  \\\n",
       "0  2022-08-04 00:00:00 UTC  Ansys Q2 22 Earnings Conference Call At 8:30 A...   \n",
       "1  2012-11-26 00:00:00 UTC  Corrections Corporation of America (CXW) Ex-Di...   \n",
       "2  2023-07-14 00:00:00 UTC  Technology Sector Update for 07/14/2023: ASML,...   \n",
       "3  2020-02-16 00:00:00 UTC   3 Best Biotech Stocks to Buy for the Next Decade   \n",
       "4  2021-08-24 00:00:00 UTC  iShares U.S. Transportation ETF Experiences Bi...   \n",
       "\n",
       "  stock_symbol                                                url  \\\n",
       "0         ANSS  https://www.nasdaq.com/articles/ansys-q2-22-ea...   \n",
       "1         PAYX  https://www.nasdaq.com/articles/corrections-co...   \n",
       "2         ASML  https://www.nasdaq.com/articles/technology-sec...   \n",
       "3         VRTX  https://www.nasdaq.com/articles/3-best-biotech...   \n",
       "4          CSX  https://www.nasdaq.com/articles/ishares-u.s.-t...   \n",
       "\n",
       "                                             article  \n",
       "0  (RTTNews) - Ansys Inc. (ANSS) will host a conf...  \n",
       "1  Corrections Corporation of America ( CXW ) has...  \n",
       "2  Tech stocks were lower late Friday, with the T...  \n",
       "3  Let me start out by acknowledging that predict...  \n",
       "4  Looking today at week-over-week shares outstan...  "
      ]
     },
     "execution_count": 5,
     "metadata": {},
     "output_type": "execute_result"
    }
   ],
   "source": [
    "import pandas as pd\n",
    "from tqdm import tqdm\n",
    "from weaviate.util import generate_uuid5\n",
    "\n",
    "# Load the financial articles dataset\n",
    "df = pd.read_parquet(\"data/fin_news_articles_5000.parquet\")\n",
    "\n",
    "print(f\"Loaded {len(df)} articles\")\n",
    "print(\"Sample data:\")\n",
    "df.head()"
   ]
  },
  {
   "cell_type": "code",
   "execution_count": 6,
   "metadata": {},
   "outputs": [
    {
     "name": "stderr",
     "output_type": "stream",
     "text": [
      "100%|██████████| 5000/5000 [01:09<00:00, 72.00it/s]\n"
     ]
    },
    {
     "name": "stdout",
     "output_type": "stream",
     "text": [
      "\n",
      "Imported 5000 articles\n"
     ]
    }
   ],
   "source": [
    "# Get collection reference\n",
    "articles = client.collections.use(\"FinancialArticles\")\n",
    "\n",
    "# Import data with batch processing\n",
    "with articles.batch.fixed_size(batch_size=100, concurrent_requests=2) as batch:\n",
    "    for _, row in tqdm(df.iterrows(), total=len(df)):\n",
    "        # Create object from dataframe row\n",
    "        obj = {\n",
    "            \"article_title\": row[\"article_title\"],\n",
    "            \"article\": row[\"article\"],\n",
    "            \"url\": row[\"url\"] if \"url\" in row else \"\"\n",
    "        }\n",
    "\n",
    "        # Generate UUID to prevent duplicates\n",
    "        uuid = generate_uuid5(row[\"article_title\"] + str(row.get(\"url\", \"\")))\n",
    "\n",
    "        batch.add_object(\n",
    "            properties=obj,\n",
    "            uuid=uuid\n",
    "        )\n",
    "\n",
    "        # Check for errors during import\n",
    "        if batch.number_errors > 10:\n",
    "            print(\"Too many errors during import\")\n",
    "            break\n",
    "\n",
    "print(f\"\\nImported {len(articles)} articles\")"
   ]
  },
  {
   "cell_type": "markdown",
   "metadata": {},
   "source": [
    "## Check for import errors"
   ]
  },
  {
   "cell_type": "code",
   "execution_count": 13,
   "metadata": {},
   "outputs": [
    {
     "name": "stdout",
     "output_type": "stream",
     "text": [
      "Import completed successfully with no errors\n"
     ]
    }
   ],
   "source": [
    "if len(articles.batch.failed_objects) > 0:\n",
    "    print(f\"Import completed with {len(articles.batch.failed_objects)} errors\")\n",
    "    for err in articles.batch.failed_objects[:5]:  # Show first 5 errors\n",
    "        print(err)\n",
    "else:\n",
    "    print(\"Import completed successfully with no errors\")"
   ]
  },
  {
   "cell_type": "markdown",
   "metadata": {},
   "source": [
    "## Verify the data\n",
    "\n",
    "Check that articles were imported correctly with embeddings."
   ]
  },
  {
   "cell_type": "code",
   "execution_count": 8,
   "metadata": {},
   "outputs": [
    {
     "name": "stdout",
     "output_type": "stream",
     "text": [
      "Total articles in collection: 5000\n",
      "Title: Here's Why Galapagos NV Is Skyrocketing 18.3% Today\n",
      "Content preview: What happened\n",
      "After the company reported that its oral rheumatoid arthritis drug, filgotinib, succes...\n",
      "\n",
      "Title: 8 'Beat the Market' Stocks to Buy\n",
      "Content preview: By Brian Nichols, InvestorPlace Contributor\n",
      "There’s a problem with tracking the entire S&P 500 with ...\n",
      "\n",
      "Title: 3 Things Every Investor Needs To Know\n",
      "Content preview: InvestorPlace - Stock Market News, Stock Advice & Trading Tips\n",
      "Flying an airplane is one of my passi...\n",
      "\n"
     ]
    }
   ],
   "source": [
    "# Check collection size\n",
    "print(f\"Total articles in collection: {len(articles)}\")\n",
    "\n",
    "# Show sample data\n",
    "response = articles.query.fetch_objects(limit=3)\n",
    "\n",
    "for item in response.objects:\n",
    "    print(f\"Title: {item.properties['article_title']}\")\n",
    "    print(f\"Content preview: {item.properties['article'][:100]}...\\n\")"
   ]
  },
  {
   "cell_type": "code",
   "execution_count": 9,
   "metadata": {},
   "outputs": [
    {
     "name": "stdout",
     "output_type": "stream",
     "text": [
      "Article: Here's Why Galapagos NV Is Skyrocketing 18.3% Today\n",
      "Title vector dimension: 1024\n",
      "Content vector dimension: 1024\n",
      "\n",
      "Article: 8 'Beat the Market' Stocks to Buy\n",
      "Title vector dimension: 1024\n",
      "Content vector dimension: 1024\n",
      "\n"
     ]
    }
   ],
   "source": [
    "# Verify embeddings were created\n",
    "response = articles.query.fetch_objects(\n",
    "    limit=2,\n",
    "    include_vector=[\"title\", \"content\"]\n",
    ")\n",
    "\n",
    "for item in response.objects:\n",
    "    print(f\"Article: {item.properties['article_title']}\")\n",
    "    print(f\"Title vector dimension: {len(item.vector['title'])}\")\n",
    "    print(f\"Content vector dimension: {len(item.vector['content'])}\\n\")"
   ]
  },
  {
   "cell_type": "markdown",
   "metadata": {},
   "source": [
    "## Test basic search\n",
    "\n",
    "Quick test to verify the collection works with semantic search."
   ]
  },
  {
   "cell_type": "code",
   "execution_count": 10,
   "metadata": {},
   "outputs": [
    {
     "name": "stdout",
     "output_type": "stream",
     "text": [
      "Search results for 'technology earnings':\n",
      "- A Review of Big Techs’ Earnings Results\n",
      "- Align Technology (ALGN) Q3 Earnings Lag Estimates, Margins Drop\n",
      "- Futures Buoyed by Upbeat Tech Earnings, Rally in Europe\n"
     ]
    }
   ],
   "source": [
    "# Test semantic search on titles\n",
    "response = articles.query.near_text(\n",
    "    query=\"technology earnings\",\n",
    "    target_vector=\"title\",\n",
    "    limit=3\n",
    ")\n",
    "\n",
    "print(\"Search results for 'technology earnings':\")\n",
    "for item in response.objects:\n",
    "    print(f\"- {item.properties['article_title']}\")"
   ]
  },
  {
   "cell_type": "markdown",
   "metadata": {},
   "source": [
    "## Close the client\n",
    "\n",
    "Always close your connection when finished."
   ]
  },
  {
   "cell_type": "code",
   "execution_count": 11,
   "metadata": {},
   "outputs": [],
   "source": [
    "client.close()"
   ]
  },
  {
   "cell_type": "code",
   "execution_count": null,
   "metadata": {},
   "outputs": [],
   "source": []
  }
 ],
 "metadata": {
  "kernelspec": {
   "display_name": "202508-aws-genai-workshop-material",
   "language": "python",
   "name": "python3"
  },
  "language_info": {
   "codemirror_mode": {
    "name": "ipython",
    "version": 3
   },
   "file_extension": ".py",
   "mimetype": "text/x-python",
   "name": "python",
   "nbconvert_exporter": "python",
   "pygments_lexer": "ipython3",
   "version": "3.12.9"
  }
 },
 "nbformat": 4,
 "nbformat_minor": 4
}
