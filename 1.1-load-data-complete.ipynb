{
 "cells": [
  {
   "cell_type": "markdown",
   "metadata": {},
   "source": [
    "# Collection setup and data loading\n",
    "\n",
    "Learn how to create Weaviate collections and import data with vectorization. We'll create the FinancialArticles collection used in other notebooks."
   ]
  },
  {
   "cell_type": "code",
   "execution_count": 1,
   "metadata": {},
   "outputs": [
    {
     "name": "stdout",
     "output_type": "stream",
     "text": [
      "Weaviate IP: 44.244.93.188\n"
     ]
    }
   ],
   "source": [
    "%store -r WEAVIATE_IP\n",
    "print(f'Weaviate IP: {WEAVIATE_IP}')"
   ]
  },
  {
   "cell_type": "code",
   "execution_count": 2,
   "metadata": {},
   "outputs": [
    {
     "name": "stdout",
     "output_type": "stream",
     "text": [
      "AWS_ACCESS_KEY:\tASIAZQ3DRV23M62CAX3O\n",
      "AWS_SECRET_KEY:\t8GIIhK6j1VLNiC4NLLwqqwByYv4Gcwj08DUZq86e\n",
      "AWS_SESSION_TOKEN:\tIQoJb3JpZ2luX2VjEOT//////////wEaCXVzLXdlc3QtMiJHMEUCIH7jBGqbZRB8+cbasyXv16WUuw6z0vCkDL/vTyP1PVF+AiEA/n07WlEFLVqYDOvNySKRdAZggC0AHAISRaUP3cv8RrIqhQMITRAAGgw2NTQ2NTQ0MTg2MTQiDKldH5lkmzYQy+DoYyriAoxcp7ZP2Vynn1bmL2h/MRumtoNzxAHMfX0yfmajcZagGzQSotu25YLgMdaj2xmk2Ec+dYYZv5VXDmzTuhfeKuWIlnx6zV5nAEh0aT9nU4sGVG44PvjfeDBqBlRbYUIeKpcAqfzSReGjHAP1hg1woE65tAuytdmV4zFgDAPdOjeNmWv/BW6dztPH0mruLiB5r3ibOef3vS4Mw7UW5C+klwSwrkTZspWW1CLdcl9TH+GA0ZalUX0ksyu7vSUY1C7Kd5igWEkCJy3FLj+qnZMBm6wyktDvmr7vGYhtSL07hNTY0SBUqh2FMUE3nYkoLmuGti1xe0Q4wyuMK/gCl5hZOZfvVxEZ6QCcRSlr80Izb9D8yH7Ouj8hDCJ8rfrUB8FNhhSMrXUWJIMSnEd3YvbcjDscAjlEE0kOYmD4QowYJLgeKQQ8YMvB6WSIjVSBEi+nf81TigcaPRdp9F8rNlir5Q96IjC/teLFBjqbAQT4BPZNCoCCFecxsbTPy+amB+6X5x3vTbaxLrFHQ/uqIuOAcxn0eXw6F53VicMoYLQb6JQhOS3uELAzy/TNQ29aRY4U8OfwBehPQLJdhBZB1qyIxjRoR7B2b2srIRZVvE6qC1kPeg4+Pbu8ghEhMSaVTP4LjllrbG9iTPadcEfe0QiFu75Nc4FhTUKCLd9zXXtGdCVtBT7fX+xH\n",
      "WEAVIATE_IP:\t44.244.93.188\n"
     ]
    }
   ],
   "source": [
    "from boto3 import Session\n",
    "\n",
    "session = Session()\n",
    "credentials = session.get_credentials()\n",
    "current_credentials = credentials.get_frozen_credentials()\n",
    "\n",
    "AWS_ACCESS_KEY = current_credentials.access_key\n",
    "AWS_SECRET_KEY = current_credentials.secret_key\n",
    "AWS_SESSION_TOKEN = current_credentials.token\n",
    "print(f\"AWS_ACCESS_KEY:\\t{AWS_ACCESS_KEY}\")\n",
    "print(f\"AWS_SECRET_KEY:\\t{AWS_SECRET_KEY}\")\n",
    "print(f\"AWS_SESSION_TOKEN:\\t{AWS_SESSION_TOKEN}\")\n",
    "print(f\"WEAVIATE_IP:\\t{WEAVIATE_IP}\")"
   ]
  },
  {
   "cell_type": "markdown",
   "metadata": {},
   "source": [
    "## Connect to Weaviate\n",
    "\n",
    "Connect to a Weaviate instance using environment variables."
   ]
  },
  {
   "cell_type": "code",
   "execution_count": 3,
   "metadata": {},
   "outputs": [
    {
     "data": {
      "text/plain": [
       "True"
      ]
     },
     "execution_count": 3,
     "metadata": {},
     "output_type": "execute_result"
    }
   ],
   "source": [
    "import weaviate\n",
    "import os\n",
    "from weaviate.classes.init import Auth\n",
    "\n",
    "client = weaviate.connect_to_local(\n",
    "    WEAVIATE_IP,\n",
    "    headers = {\n",
    "        \"X-AWS-Access-Key\": AWS_ACCESS_KEY,\n",
    "        \"X-AWS-Secret-Key\": AWS_SECRET_KEY,\n",
    "        \"X-AWS-Session-Token\": AWS_SESSION_TOKEN,\n",
    "    }        \n",
    ")\n",
    "\n",
    "client.is_ready()"
   ]
  },
  {
   "cell_type": "markdown",
   "metadata": {},
   "source": [
    "## Create collection with vectorizer\n",
    "\n",
    "Create a collection for financial articles with separate embeddings for title and content.\n",
    "\n",
    "[Docs - Collection configuration](https://weaviate.io/developers/weaviate/manage-data/collections)"
   ]
  },
  {
   "cell_type": "code",
   "execution_count": 13,
   "metadata": {},
   "outputs": [
    {
     "data": {
      "text/plain": [
       "<weaviate.collections.collection.sync.Collection at 0x7f84192937d0>"
      ]
     },
     "execution_count": 13,
     "metadata": {},
     "output_type": "execute_result"
    }
   ],
   "source": [
    "from weaviate.classes.config import Configure, Property, DataType\n",
    "\n",
    "# Delete collection if it exists\n",
    "if client.collections.exists(\"FinancialArticles\"):\n",
    "    client.collections.delete(\"FinancialArticles\")\n",
    "\n",
    "# Create collection with named vectors for title and content\n",
    "client.collections.create(\n",
    "    name=\"FinancialArticles\",\n",
    "\n",
    "    # Configure separate embeddings for title and article content\n",
    "    vector_config=[\n",
    "        Configure.Vectors.text2vec_aws(\n",
    "            name=\"title\",\n",
    "            source_properties=[\"article_title\"],\n",
    "            region=\"us-west-2\",\n",
    "            service=\"bedrock\",\n",
    "            model=\"amazon.titan-embed-text-v2:0\"            \n",
    "            # model=\"cohere.embed-multilingual-v3\"\n",
    "        ),\n",
    "        Configure.Vectors.text2vec_aws(\n",
    "            name=\"content\",\n",
    "            source_properties=[\"article\"],\n",
    "            region=\"us-west-2\",\n",
    "            service=\"bedrock\",\n",
    "            model=\"amazon.titan-embed-text-v2:0\"\n",
    "            # model=\"cohere.embed-multilingual-v3\"\n",
    "        )\n",
    "    ],\n",
    "\n",
    "    # Define property schema\n",
    "    properties=[\n",
    "        Property(name=\"article_title\", data_type=DataType.TEXT),\n",
    "        Property(name=\"article\", data_type=DataType.TEXT),\n",
    "        Property(name=\"url\", data_type=DataType.TEXT),\n",
    "    ],\n",
    ")"
   ]
  },
  {
   "cell_type": "markdown",
   "metadata": {},
   "source": [
    "## Load financial articles data\n",
    "\n",
    "Import the financial news dataset using batch processing for efficient loading."
   ]
  },
  {
   "cell_type": "code",
   "execution_count": 14,
   "metadata": {},
   "outputs": [
    {
     "name": "stdout",
     "output_type": "stream",
     "text": [
      "Loaded 100 articles\n",
      "Sample data:\n"
     ]
    },
    {
     "data": {
      "text/html": [
       "<div>\n",
       "<style scoped>\n",
       "    .dataframe tbody tr th:only-of-type {\n",
       "        vertical-align: middle;\n",
       "    }\n",
       "\n",
       "    .dataframe tbody tr th {\n",
       "        vertical-align: top;\n",
       "    }\n",
       "\n",
       "    .dataframe thead th {\n",
       "        text-align: right;\n",
       "    }\n",
       "</style>\n",
       "<table border=\"1\" class=\"dataframe\">\n",
       "  <thead>\n",
       "    <tr style=\"text-align: right;\">\n",
       "      <th></th>\n",
       "      <th>date</th>\n",
       "      <th>article_title</th>\n",
       "      <th>stock_symbol</th>\n",
       "      <th>url</th>\n",
       "      <th>article</th>\n",
       "    </tr>\n",
       "  </thead>\n",
       "  <tbody>\n",
       "    <tr>\n",
       "      <th>0</th>\n",
       "      <td>2022-08-04 00:00:00 UTC</td>\n",
       "      <td>Ansys Q2 22 Earnings Conference Call At 8:30 A...</td>\n",
       "      <td>ANSS</td>\n",
       "      <td>https://www.nasdaq.com/articles/ansys-q2-22-ea...</td>\n",
       "      <td>(RTTNews) - Ansys Inc. (ANSS) will host a conf...</td>\n",
       "    </tr>\n",
       "    <tr>\n",
       "      <th>1</th>\n",
       "      <td>2012-11-26 00:00:00 UTC</td>\n",
       "      <td>Corrections Corporation of America (CXW) Ex-Di...</td>\n",
       "      <td>PAYX</td>\n",
       "      <td>https://www.nasdaq.com/articles/corrections-co...</td>\n",
       "      <td>Corrections Corporation of America ( CXW ) has...</td>\n",
       "    </tr>\n",
       "    <tr>\n",
       "      <th>2</th>\n",
       "      <td>2023-07-14 00:00:00 UTC</td>\n",
       "      <td>Technology Sector Update for 07/14/2023: ASML,...</td>\n",
       "      <td>ASML</td>\n",
       "      <td>https://www.nasdaq.com/articles/technology-sec...</td>\n",
       "      <td>Tech stocks were lower late Friday, with the T...</td>\n",
       "    </tr>\n",
       "    <tr>\n",
       "      <th>3</th>\n",
       "      <td>2020-02-16 00:00:00 UTC</td>\n",
       "      <td>3 Best Biotech Stocks to Buy for the Next Decade</td>\n",
       "      <td>VRTX</td>\n",
       "      <td>https://www.nasdaq.com/articles/3-best-biotech...</td>\n",
       "      <td>Let me start out by acknowledging that predict...</td>\n",
       "    </tr>\n",
       "    <tr>\n",
       "      <th>4</th>\n",
       "      <td>2021-08-24 00:00:00 UTC</td>\n",
       "      <td>iShares U.S. Transportation ETF Experiences Bi...</td>\n",
       "      <td>CSX</td>\n",
       "      <td>https://www.nasdaq.com/articles/ishares-u.s.-t...</td>\n",
       "      <td>Looking today at week-over-week shares outstan...</td>\n",
       "    </tr>\n",
       "  </tbody>\n",
       "</table>\n",
       "</div>"
      ],
      "text/plain": [
       "                      date                                      article_title  \\\n",
       "0  2022-08-04 00:00:00 UTC  Ansys Q2 22 Earnings Conference Call At 8:30 A...   \n",
       "1  2012-11-26 00:00:00 UTC  Corrections Corporation of America (CXW) Ex-Di...   \n",
       "2  2023-07-14 00:00:00 UTC  Technology Sector Update for 07/14/2023: ASML,...   \n",
       "3  2020-02-16 00:00:00 UTC   3 Best Biotech Stocks to Buy for the Next Decade   \n",
       "4  2021-08-24 00:00:00 UTC  iShares U.S. Transportation ETF Experiences Bi...   \n",
       "\n",
       "  stock_symbol                                                url  \\\n",
       "0         ANSS  https://www.nasdaq.com/articles/ansys-q2-22-ea...   \n",
       "1         PAYX  https://www.nasdaq.com/articles/corrections-co...   \n",
       "2         ASML  https://www.nasdaq.com/articles/technology-sec...   \n",
       "3         VRTX  https://www.nasdaq.com/articles/3-best-biotech...   \n",
       "4          CSX  https://www.nasdaq.com/articles/ishares-u.s.-t...   \n",
       "\n",
       "                                             article  \n",
       "0  (RTTNews) - Ansys Inc. (ANSS) will host a conf...  \n",
       "1  Corrections Corporation of America ( CXW ) has...  \n",
       "2  Tech stocks were lower late Friday, with the T...  \n",
       "3  Let me start out by acknowledging that predict...  \n",
       "4  Looking today at week-over-week shares outstan...  "
      ]
     },
     "execution_count": 14,
     "metadata": {},
     "output_type": "execute_result"
    }
   ],
   "source": [
    "import pandas as pd\n",
    "from tqdm import tqdm\n",
    "from weaviate.util import generate_uuid5\n",
    "\n",
    "# Load the financial articles dataset\n",
    "df = pd.read_parquet(\"data/fin_news_articles_5000.parquet\")\n",
    "df = df[:100]\n",
    "\n",
    "print(f\"Loaded {len(df)} articles\")\n",
    "print(\"Sample data:\")\n",
    "df.head()"
   ]
  },
  {
   "cell_type": "code",
   "execution_count": 15,
   "metadata": {},
   "outputs": [
    {
     "name": "stderr",
     "output_type": "stream",
     "text": [
      "100%|██████████| 100/100 [00:00<00:00, 9666.75it/s]\n",
      "{'message': 'Failed to send 1 in a batch of 100', 'errors': {\"couldn't invoke amazon.titan-embed-text-v2:0 model: operation error Bedrock Runtime: InvokeModel, https response error StatusCode: 400, RequestID: d490e8af-937f-4ca5-b473-bf30d8dce2aa, ValidationException: 400 Bad Request: Too many input tokens. Max input tokens: 8192, request input token count: 9078 \"}}\n",
      "{'message': 'Failed to send 1 objects in a batch of 100. Please inspect client.batch.failed_objects or collection.batch.failed_objects for the failed objects.'}\n"
     ]
    },
    {
     "name": "stdout",
     "output_type": "stream",
     "text": [
      "\n",
      "Imported 99 articles\n"
     ]
    }
   ],
   "source": [
    "# Get collection reference\n",
    "articles = client.collections.use(\"FinancialArticles\")\n",
    "\n",
    "# Import data with batch processing\n",
    "with articles.batch.fixed_size(batch_size=100, concurrent_requests=2) as batch:\n",
    "    for _, row in tqdm(df.iterrows(), total=len(df)):\n",
    "        # Create object from dataframe row\n",
    "        obj = {\n",
    "            \"article_title\": row[\"article_title\"],\n",
    "            \"article\": row[\"article\"],\n",
    "            \"url\": row[\"url\"] if \"url\" in row else \"\"\n",
    "        }\n",
    "\n",
    "        # Generate UUID to prevent duplicates\n",
    "        uuid = generate_uuid5(row[\"article_title\"] + str(row.get(\"url\", \"\")))\n",
    "\n",
    "        batch.add_object(\n",
    "            properties=obj,\n",
    "            uuid=uuid\n",
    "        )\n",
    "\n",
    "        # Check for errors during import\n",
    "        if batch.number_errors > 10:\n",
    "            print(\"Too many errors during import\")\n",
    "            break\n",
    "\n",
    "print(f\"\\nImported {len(articles)} articles\")"
   ]
  },
  {
   "cell_type": "markdown",
   "metadata": {},
   "source": [
    "## Check for import errors"
   ]
  },
  {
   "cell_type": "code",
   "execution_count": 16,
   "metadata": {},
   "outputs": [
    {
     "name": "stdout",
     "output_type": "stream",
     "text": [
      "Import completed with 1 errors\n",
      "ErrorObject(message=\"couldn't invoke amazon.titan-embed-text-v2:0 model: operation error Bedrock Runtime: InvokeModel, https response error StatusCode: 400, RequestID: d490e8af-937f-4ca5-b473-bf30d8dce2aa, ValidationException: 400 Bad Request: Too many input tokens. Max input tokens: 8192, request input token count: 9078 \", object_=BatchObject(collection='FinancialArticles', properties={'article_title': 'Why a Dividend Cut Can Be a Good Sign', 'article': 'In this episode of Motley Fool Money, Chris Hill chats with Motley Fool analysts Jason Moser, Ron Gross, and Andy Cross about the latest news. They talk about:\\nThe potential impact of the slowdown over the coming year.\\nThe importance of value and price when hunting for stocks at a discount.\\nTwo great stock recommendations to put on you watch ist and much more.\\nTo catch full episodes of all The Motley Fool\\'s free podcasts, check out our podcast center. To get started investing, check out our quick-start guide to investing in stocks. A full transcript follows the video.\\nThis video was recorded on March 20, 2020.\\n10 stocks we like better than Walmart\\nWhen investing geniuses David and Tom Gardner have an investing tip, it can pay to listen. After all, the newsletter they have run for over a decade, Motley Fool Stock Advisor, has tripled the market.*\\nDavid and Tom just revealed what they believe are the ten best stocks for investors to buy right now... and Walmart wasn\\'t one of them! That\\'s right -- they think these 10 stocks are even better buys.\\nSee the 10 stocks\\nStock Advisor returns as of 2/1/20\\nThis video was recorded on March 20, 2020.\\nChris Hill: We\\'ve been doing this show for over a decade and it has never felt more important to pull back the curtain a little bit and timestamp what we\\'re doing and where we\\'re doing it. As of this moment, it is early in the afternoon on Friday, the Federal government has pushed the filing deadline for taxes back to July 15th, the Governor of New York has ordered nonessential businesses to keep a 100% of their workforce at home starting on Sunday, as his state deals with the worst coronavirus outbreak in the United States, and as of right now, the S&P 500 and Dow Jones Industrial Average, both, on-track to finish the week down more than 10% each.\\nSo, with all of that and everything else that\\'s going on; Ron Gross, let me start with you. Amidst everything going on, what are you thinking as an investor right now?\\nRon Gross: For me, first of all, the volatility has been just incredible. Up big one day, down big the next. Oil, in particular, all over the place. I think people are focusing mostly, and trading mostly on emotion at this point, I think. There\\'s just too much uncertainty out there, lack of data. I think this is going to continue until the government steps in a very big way because with businesses not opening and workers not going to work, this is going to continue to spiral and get worse till government intervention halts that. And until that happens, stocks are not only going to continue to be volatile but volatile on the downside.\\nJason Moser: Yeah, the word that comes to mind is, equanimity. You got to look at a period of time like this and understand that your advantage as an individual investor, like we are, the one thing you can do, and I\\'m not saying it\\'s easy, but you can keep your wits about you, you can keep your cool and recognize that there\\'s only so much you can control here. And I think ultimately, the greater point is, this is one of these things that it is essentially out of all of our control to a degree. We can do certain things that are prescribed to help stanch the spread of this virus, and so, we\\'re doing that to the extent that we can.\\nBut this is mother nature, I mean you can\\'t fight mother nature. And so, you got to, kind of, ride out the storm. Now, I was thinking about this morning, pulling back to some experience that I had back in 1989 in Charleston, South Carolina, when we went through Hurricane Hugo -- and I mean I know that Hugo wasn\\'t a pandemic, but there are some parallels there. And we were right in the middle of that storm. I mean, Charleston got pounded and we were out of school for a month, like, we were out of school for a month and it was not all fun and games either. I was up on rooftops cutting trees and stuff. It was a time that had -- no one had been through a time like that before, all you could do was try to keep your wits about you and understand that this too eventually shall pass.\\nI think, in this case, this too shall eventually pass. I think back then we had the luxury of no social media, so panic was probably a little bit lower. But, yeah, I think, this \"don\\'t panic\" is really more important now than ever before.\\nHill: Ron, we\\'re going to get into some of what\\'s happening with different industries, and certainly individual stocks as well, but broadly as an investor, what is your mindset right now, because we\\'re getting a lot of questions from listeners and from Motley Fool members asking in some way, shape or form, is this the bottom, should I be getting in now, should I be pulling my money out now? What are you thinking as an investor right now?\\nGross: Sure. So, this feels different to me, different than the dot-com crash, different than the Financial Crisis, because there\\'s a health scare involved here. So, this one feels a bit different to me. And on the average day, I\\'m actually more focused on the health part of this than I am on the financial. And then I get back to work and I see everything that\\'s going on, I say, \"Okay, so what am I going to do now as an investor?\" And more than a month ago, really, I took my cash and I looked at where I was. I divided my cash into five equal pieces and I said, \"I\\'m going to slowly deploy one-fifth [20%] of the cash as things continue to get worse.\" And I\\'m about two-and-a-half deployed now, so about 50%, I\\'ve got 50% of my cash left.\\nBut as we said last week on the show, I want to unburden investors from thinking they need to call the bottom, because I think that is just too stressful, you don\\'t need to do that to yourself. If you buy Microsoft at what you think is a great price and it still goes down 10% or 15% more, because we\\'re in unprecedented times, I think you\\'re still going to be OK, and you still can buy more then, if you like, if you continue to hold some cash on the sidelines.\\nBut even at down 10% to 15%, if the stock continues to go down; five or ten years from now, I think you\\'re going to really be happy that you put the money to work when you did, because bottoms are just impossible to call.\\nMoser: Yeah, I couldn\\'t agree more. It does seem like the volatility has made it impossible to really gauge any firm sentiment. But I mean, we have been stuck in this just horrible news cycle for a straight-up month now. I mean, every day the news is just not good. And so that clearly plays out on the markets to a degree. But to Ron\\'s point there, I mean, sitting there and trying to call the bottom is just a fruitless effort. You\\'re not going to be able do it sustainably, it doesn\\'t really matter. And so that\\'s why we continue to focus on just buying good businesses, businesses that we want to be owners of for long periods of time.\\nI know some people like to think, maybe that\\'s a copout, \"Oh, we\\'re in this for the long-haul,\" but it really does work when you look at it. And so, depending on your stage in life as an investor, if you can afford that time, if you can take that outlook, I think it really does make things a lot easier. But with that said, obviously, everyone\\'s situation is somewhat unique.\\nGross: Yeah, you\\'ll often hear us talk at The Fool about not selling, not selling, and in general, I think that\\'s a good policy. In times like this, it\\'s OK to sell in certain circumstances, and that \\'circumstances\\' is not panic, but it is OK to sell if you have companies in your portfolio that you no longer believe in and you just never got around to selling them. If you have companies that you think are going to be permanently impaired by what\\'s going on right now in the economy, it\\'s OK to sell those stocks and redeploy that capital into something that you think is better and that you\\'ll be happy to hold for the next five or ten years. That\\'s just prudent investing that quite frankly should happen all the time, but in times like this it gets a little bit exacerbated and you can perhaps focus on it a little bit more.\\nMoser: Yeah. And just one last thing to reiterate, because we talk about this a lot. I just want to make sure people out there understand. We are invested in this with you. We\\'re not just telling you what to do without actually doing it ourselves, we are feeling this pain with you. I personally, I\\'m not selling anything, I\\'ve made some methodical buys on the way down here, I\\'ll continue to do that as my cash allows. But we are feeling this pain with all of you investors out there. So, please understand, we\\'re in this together. It\\'s just going to take some time to work through it.\\nGross: Yeah, one thing I often say, perhaps you\\'ve heard it before is, I actually don\\'t look at my portfolio as a whole during times like this, I find it to be quite stressful. I don\\'t really need to see, in the aggregate, [laughs] how much I\\'m down; that\\'s not helpful to me. Instead, I focus on individual companies, individual stocks that I would like to either own or add to, and that helps me manage personally my stress level.\\nHill: Just like individuals and families across the country and around the world are thinking about their own financial situation, Ron, companies are doing the same thing. And I wanted to get your thoughts on what we\\'ve been seeing this week in terms of dividend cuts. We\\'ve seen some big ones already. Ford Motor, Darden Restaurants, both coming out this week saying, they\\'re suspending their dividends. This feels like only the beginning, and I\\'m curious what you think this means for people who are either dividend investors completely or they\\'ve got some portion of their portfolio that has allocation toward dividend payers?\\nGross: Yeah. In good times and bad, one of the main things a good manager or leader of a company can do is be a strong capital allocator, and that means deciding when to pay dividend, when not to pay dividend, when to buy back stock, when not to buy back stock. Especially in a crisis, there comes a time where it\\'s actually very prudent; and as a shareholder you should want your leadership team to preserve cash. And in certain circumstances, it means cutting a dividend or perhaps outright suspending a dividend. If it\\'s the right thing to do, then you should be actually very pleased that that\\'s happening.\\nNow, if you\\'re an income investor and you\\'re relying on income as part of your investment strategy, I would say, you should be focused on companies with very strong balance sheets that typically wouldn\\'t need to cut or suspend a dividend in a time of a downturn or times of crisis. If you\\'re a total return investor and you\\'re looking mostly for appreciation, but a dividend yield is nice as well, it\\'s perhaps not as essential, but just in general, we always like to focus on companies with strong leaders, strong target markets, great balance sheets. And if you stick to owning mostly companies like that, you should be OK in good times and bad. But you\\'ve got to see Ford and Occidental and even Marriott taking prudent measures here to preserve cash. The dividend will come back when appropriate, but times are tough right now and you need to, kind of, batten down the hatches.\\nHill: Our email address is Radio@Fool.com. From Keaton Deal, who writes, \"Hey, guys, I\\'m a brand-new investor, trying to get into the market with all these low prices. I don\\'t have much cash on hand to invest, around $1,000 tops. I\\'ve been listening to your shows for about two weeks now and while I\\'m learning a lot, I\\'m stuck on this question, \"Should I take my few hundred dollars and invest in a ton of cheap stocks or should I diversify more by buying fewer stocks that cost more upfront. PS: Love the show, tons of great information. Thanks.\"\\nThank you for the question. Thank you for listening. Jason, a good reminder that, yeah, there are a lot of things that look inexpensive out there that doesn\\'t necessarily mean they are inexpensive. I think we\\'ve talked before about how it doesn\\'t matter how cheap the oil stocks are, I don\\'t think any one of us is looking to jump into those. But I\\'m curious how you think about his question.\\nMoser: Yeah, I mean, it\\'s a good question, one we discuss a lot, particularly with new investors. And it comes down to, really, not confusing price with value, because they\\'re two very different things. I\\'m assuming that what he\\'s saying, when he says, \"Cheap stocks,\" is he\\'s talking about stocks that are lower in actual price, so something that maybe $10 versus a $100. And really, we try to get investors to not really think about that whatsoever, because price and value are two very different things. A stock at $5 could actually be very expensive based on the fundamentals of the business.\\nSo, it all leads me to say, when you see a company like Amazon or Google [Alphabet] or Booking.com, with these share prices that are $1,000 or more, actually, we\\'re looking at companies like that today and thinking, \"You know what, those actually look pretty cheap from a valuation perspective.\" Historically speaking at least and given their positions in the markets.\\nNow, if you\\'re a little bit limited in how much money you have to invest, the nice thing about today is, the commissions are virtually nothing in most cases and there are always the options for fractional shares as well. So, I really would utilize this opportunity to focus on buying into the market leaders in their respective spaces. And, when we talk about attractive spaces, spaces that probably aren\\'t that attractive right now, energy certainly is at the top of the list, unless you know how to parse through all of that data and make some forecast there. But, yeah, just don\\'t confuse price with value.\\nHill: What do you think, Ron?\\nGross: Yeah, I completely agree with Jason. Don\\'t ever worry about the number of shares of a company that you\\'re buying, the only thing that matters is the amount of capital, the amount of money you are deploying. I know it feels better to own a hundred shares of something versus two shows or something, but honestly, it doesn\\'t make a difference to the investment, it just matters how much money you\\'re putting toward something. If you have a $1,000, I happen to personally be in a similar situation, I just added a $1,000 for the first time to my son\\'s Roth IRA and was trying to decide what to do with it, I was thinking about a third in an S&P 500 Index ETF, and then a third each in two stocks that I think look really great right now. And there are so many, whether it\\'s Microsoft or Apple, Disney, I think Target looks good here, Berkshire I think looks great here, especially with all that cash they have to deploy. So, I think it\\'s a great time to be getting into the markets, even though it certainly feels uncertain and you might feel a little bit panicky, but I think five or ten years down the road you\\'ll be in good shape.\\nHill: And, Jason, Keaton wasn\\'t asking specifically about penny stocks, but that\\'s really part of the appeal, isn\\'t it? The fact that you can -- particularly when you\\'re just starting out, it\\'s like, \"I\\'ve got so many shares.\" And then, to Ron\\'s point, it\\'s like, \"Yeah, you have so many shares of an awful company that\\'s probably going to zero.\"\\nMoser: Exactly. I mean, you can rationalize until the cows come home, \"Well, it\\'s only $1, all it has to do is get to $2; and that\\'s a double.\" Again, you got to understand the fundamentals of the business and the economics behind it, because in most cases stocks like those are destined to fail more often than not.\\nHill: We\\'ve just got about three minutes left, and I wanted to get your thoughts, guys, on an interesting tweet by our colleague, Brian Feroldi, he basically ran a screen for, companies that have a market cap of over $10 billion and they have no debt. And then, taking those two data points, he was looking for, \"Okay, companies that meet these two requirements, who are the stocks that have dropped the most?\" I was surprised by some of the brand names that we talk about frequently; and this is as of yesterday. Chipotle, down 43%; Lululemon, down 41%; Shopify, down 39%.\\nI don\\'t know, I look at this list and it seems like a really great starting point. Again, because, Jason, these are not upstart companies, they\\'re not small per se, and they\\'ve got no debt. And in times like these, I\\'m looking for companies that don\\'t have debt.\\nMoser: Yeah, I mean, zero debt or at least just very little debt. I got a question like that the other day from one of our members and just, \"Do you feel like these companies here in our scorecard for future of entertainment service, are these companies and their balance sheets OK to withstand this?\" And I think that\\'s a question you have to ask yourself in good times and bad, particularly, in good times, because you have to assume, at some point or another, bad times will come.\\nIt was very interesting to see that list of ten. They run the gamut of markets from restaurants to chipmakers and healthcare. Some of those look more attractive than others, but, yeah, there are some high quality businesses on that list.\\nGross: Yeah, what he did, it\\'s called running a screen, and you can choose any criteria, and this is a wonderful one. The $10 billion market cap, no debt, stock\\'s down 40%. That\\'s a great place to start, what a wonderful list that spits out. And then you can just dig in and see what you think about each individual company, whether you like the management team, whether you like the industry that they\\'re selling into, where their customers come from? That\\'s probably a great screen in any time, you know, $10 billion companies with strong balance sheets, you can maybe layer in some valuation criteria, if you\\'re so inclined.\\nBut I love investing that way, where I come up with a thesis. There\\'s plenty of software packages out there online where you can, kind of, test it, see what kind of list it spits back at you, and then you tackle each company one at a time.\\nMoser: And you do see, in times like these also, it\\'s been a unique time for companies in this low interest rate environment. We\\'ve seen a lot of companies out there raising cash through issuing debt, so just because a company has a slug of debt on their balance sheet doesn\\'t necessarily mean they\\'re in a financially precarious situation. Apple is the first name that comes to mind there.\\nHill: About 35 seconds left, Ron. Real quick before we let you go, our habits are changing in our daily lives, what is the biggest change you\\'ve made to your diet over the last couple of weeks?\\nGross: I am obscenely focused on frozen pepperoni pizzas unfortunately, so I am making sure to get on that treadmill every morning before the workday starts, otherwise this is not going to end well.\\nMoser: I feel sorry for all you people. Mom, thank you for teaching me how to cook when I was a kid, because my diet hasn\\'t changed at all, we\\'re still cooking all the same great stuff and we\\'re using a lot of McCormick spices, of course, Chris.\\nHill: Joining us now via a Zoom Video, Andy Cross. Andy, thanks for being here. When you think about everything that has gone on this week, what goes through your mind as an investor?\\nAndy Cross: Hey, guys, it\\'s been an incredible week, obviously. I mean, we have now the worst week probably in the markets since 2008 maybe. We\\'ll probably finish, down more than 12% for the week. So, the news flow, as you guys were talking about earlier in the show, just is really incredible when you just think about all of the information that investors are trying to digest and what that means for the stocks. And we still have so much of the trading driven by algorithms and institutions. The individual investors are actually hanging in there.\\nSome of the data coming out from Vanguard is that the individual investors haven\\'t really been panicking, which is great to see, we love that, we love investors who think much more optimistically, as best you can in this environment.\\nSo, when I see this, I personally am just trying to make sure my portfolio is set up for the next five years, capital that I\\'m going to invest in the markets is capital that I don\\'t need for the next few years, and thinking about the businesses I want to own. And when prices are dropping in dramatic fashion and I see my favorite stocks or stocks I want to add to my portfolio go on sale, I\\'m looking at this as a time to add. But it\\'s a really important time for investors to maintain that long-term perspective that we\\'ve been championing at The Motley Fool for so many years.\\nMoser: Yeah, it has been a really, really long negative news cycle. It\\'s been a straight-up month and we\\'ve gotten just no good news day after day. So, I think, early on, individual investors certainly, we\\'ve been looking for reassurance in some capacity, reassurance that the economy is not going to just completely blow up. So, we\\'re starting to see our policymakers coming up with solutions. I mean, it\\'s taking some time, of course, there\\'s a lot of moving parts here. But I do feel like, every day that passes, we\\'re getting another sign that maybe there is a little bit more reassurance there, which I know it\\'s difficult to see now, but I think down the road, people will start feeling a little bit better about that.\\nAnd we\\'re also getting, at least some idea of how this could potentially impact the economy over the coming year. Goldman Sachs just came out with some forecasts here for the coming year. We\\'ve gone from talking about, if we have a recession, really to just how long is this going to last and how bad is it going to get. And based on the numbers from Goldman, they\\'re projecting for Q1 here, that is yet to end, remember that ends at the end of this month, they\\'re talking about -6%. Going into Q2, -24%. Then, assuming that we get back to a little bit more of a state of normalcy, we see positive growth of 12% Q3. And then, 10%, Q4. But that\\'s still a full-year contraction of close to 4%.\\nI mean, this is a tough time for sure, but the more we can get at least some idea of how to quantify this and some reassurance from our policymakers, I think that things will start -- we\\'ll get into a little bit of a better news cycle and I think that\\'ll certainly help the cause.\\nCross: You know, Jason, I think that\\'s a really important point. Investors are going to start to see a lot -- we already have seen a lot of predictions, a lot of estimates, we\\'ve already seen companies adjusting our guidance down, we\\'ll get really good insights in the companies that report on their fourth quarter results sometime in April. As we hear that information come in and start to use that information to make decisions.\\nI\\'ll just say, you guys talked about it earlier, not trying to pick the bottom. The market is forward-looking, so the stocks will react far faster than the economic cycle starts to hit that recession. So, don\\'t try to time based on those economic cycles, because you just won\\'t be able to get it, in general. So, all the advice you guys were saying about trying to buy small positions, that\\'s what I\\'m doing, I\\'m just buying little positions in some of the businesses I want to own or some of my favorite businesses and I\\'m going to build on some positions as my portfolio allocation strategy warrants.\\nBut the stocks will react far before the economic cycle bottoms, we\\'ve seen it time and time again.\\nMoser: We\\'re looking for a good news cycle. Let\\'s just start that cycle right here, Chris. Andy, what do you say? This is the good news cycle, it begins right now, right here in this studio Motley Fool Money. [laughs]\\nHill: I think, for me, as an investor, and I\\'m sure I\\'m not alone on this, part of what is a complicating factor is, looking at entire industries where the stocks have been knocked down, thinking, \\'Long-term, of course, there\\'s going to be a bright future for that industry,\" but the amount of uncertainty in the short-term keeps me away.\\nAnd I\\'ll just throw out the airline industry as one example there. An industry which bounced back after 9/11, the business model improved, as evidenced by the fact that Warren Buffett and Berkshire Hathaway started jumping in and buying shares of airlines a couple of years ago. The complicating factor right now is, will there be a bailout, what does that look like are other industries going to get bailouts as well?\\nAnd one more narrative that\\'s out there is, essential services, what are the businesses that are essential to keep everyday life going along. And God bless the people who run GameStop for trying to come out and say, \"GameStop, we\\'re an essential business just like grocery stores or drugstores.\" And I don\\'t blame them for trying, but I\\'m sorry, if people can\\'t get to the grocery store, they go hungry. If people can\\'t get to the video game store, maybe pick up a book.\\nMoser: Well, if you paid attention at all to GameStop\\'s numbers they\\'ve been chalking up here over the last year. In the best of times, people weren\\'t going to their stores. So, clearly, you\\'re right, that was a shot in the dark, I don\\'t think that\\'s going to work out very well for them.\\nBut, yeah, I do not envy our policymakers at all. The moral hazard involved with making some of these decisions is going to be really, really high, and it\\'s not going to make everyone happy, but it is a matter of prioritizing. And airlines, you could argue, are very essential to our way of life. You look at what\\'s going on in Nevada, for example. I mean, I was listening to the call between the President and the Governor of Nevada yesterday, and bless him for trying, but I don\\'t know that you necessarily look at the gambling industry and say, that\\'s necessary, obviously, the ripple effects with all of the jobs that it impacts. Again, they\\'re going to have to be choices made and priorities assigned. And that\\'s just going to be very, very difficult to do.\\nCross: You know, guys, I was thinking about that morale hazard question, Jason, that you were just saying, and thinking about the decisions across the industries, the people, of course, a lot of consumers and a lot of employers and employees are going to be really challenged by this. We saw some of the initial unemployment claims come out this week and they really spiked. And so, we\\'re just seeing this, this will start a ripple effect and the unemployment levels will certainly increase and might even double maybe even more than that.\\nSo, we\\'re going to see a lot of business challenges and decisions to make for that. As an investor, I\\'m not thinking about this as a time to really start looking at those companies that are really struggling, that are going to potentially be rescued. Take a company like Boeing. I mean, the stock has just been decimated over the last couple of months, and now they\\'re looking for maybe a $60 billion handout. And it\\'s been struggling even before this with all the 737 challenges.\\nSo, as an investor there are just too many great businesses, when I look out five and ten years, that will be around, that will be more meaningful, that will be more relevant to consumers. They\\'re innovating, their customers are going to be returning to those businesses time and time again. And the businesses are not leveraged in a capital structure way that\\'s going to put them looking for that capital, looking for more and more help from the Federal government per se.\\nAnd I think those are the opportunities you really want to look for, because those stocks, as you guys were talking about in the earlier section, so many of those businesses are down 30%, 40% and use that as an opportunity to be buying their stocks.\\nAnd you\\'ll hear a lot about the Federal government supporting and coming in with fiscal measures (sic) to support some of those businesses\\' bailout, just like we saw in 2008-2009. You\\'re also going to have a lot of businesses that will continue to chug-along through this time and use this as an opportunity to build up their solutions and take market share.\\nHill: Our email address is Radio@Fool.com. From Kevin Marcotte, who writes, \"Thank you for continuing the daily podcast, even with everyone at home, it\\'s great to keep the daily routines of being able to listen to you guys and read your articles as a member of your services. I wanted to share my unexpected personal experience over the past couple of weeks as the market has been going through wild swings. I\\'ve been listening to The Motley Fool for years and slowly built up my portfolio and active watchlist. I feel I\\'ve done reasonably well to stay calm as the market has been dropping. What really shocked me the other day was when the market went up and stocks were up 5% to 10% in a single day. And that is when I started to get fearful. There\\'s a small panic in me that I\\'ve just missed the bottom. I\\'m in my mid-30s, so I\\'m thankful that I get decades more to be invested, but am I crazy to feel more emotional on the up days than I am on the down days? Thanks. And I always appreciate the work that you guys do.\"\\nThank you, Kevin, for being one of the dozens of listeners and a member of our services. And you\\'re not crazy. But his email, Jason, does speak to the heightened emotion. We\\'ve talked about the rise in the volatility index, I think it\\'s reasonable that there is a rise in everyone\\'s emotions too.\\nMoser: Oh, easily. And thanks, Kevin. I will say that\\'s a two-way street there, as much as it helps with our listeners\\' daily routines, I can assure you it helps with ours as well, because we\\'re grateful to be able to bring you all these shows every day and every week.\\nI think that\\'s just so -- I can almost picture myself sitting in my chair, seeing the market up on a day where it seems like there\\'s just no good news in sight. You\\'re trying to think, this makes no sense. It\\'s like the company that releases their earnings report and everything is just stellar and the stock tanks 20%. You can\\'t figure it out, sometimes it\\'s very difficult to rationalize what\\'s going on in the market. I definitely understand that fear, and that\\'s why it\\'s just so important to be able to take a step back, give yourself a minute to collect your thoughts, never act in haste; you know, you can be very successful investing, just take it slowly.\\nCross: It\\'s very interesting, how our brains operate at times of stress and what is firing inside our minds, because Kevin\\'s example is an example of FOMO, the Fear Of Missing Out. And so many had it over maybe the last couple of years, \"Oh, the stock now has gone up from $100 to $150, I don\\'t want to buy it.\" And then it goes on to $300. Now, of course, all those businesses and so many stocks have pulled back. But now you\\'re starting to see a little different side of the FOMO coin, and people are starting to see, \"Oh, I\\'m trying to, again, get the right bottom, the right timing around it.\" And that\\'s a very dangerous complete approach to take. Don\\'t think that way. Yes, there are times when you may be more aggressive in the markets, and not when stocks are really starting to fall off. We saw that in 2008 when all of the market drop started happening in the Fall and then the market bottomed in 2009. So, you have time to buy in these positions in little increments. And I would really encourage us to think about that way as opposed to thinking, I might have missed out on something.\\nBecause even if a stock rebounds 15% in a day, and we will see those, it doesn\\'t mean that you necessarily missed out when you think about the next three, five, seven years of investing.\\nMoser: Whatever you do, don\\'t fall victim to FOBI, that is, the Fear Of Being Invested. We want to do the opposite, we want to be invested, don\\'t fall victim to FOBI. This is not the time, folks.\\nHill: Andy, let me start with you, before we get to the stocks on our radar. It\\'s hard for me to imagine that there aren\\'t going to be entire industries that change. Yes, they will adapt. Yes, they will continue to do business, just as the airlines adapted after 9/11, but I\\'m curious, when you think about either individual companies or entire industries, what are you the most curious to see what the long-term ripple effects of all of this are?\\nCross: Oh, so many, Chris, when I think about the businesses that are going to have to evolve in this, and I think this will be a catalyst for so many to do. Obviously, collaborative work tools come immediately to mind.\\nWhat\\'s interesting, I was thinking about talking to my brothers. They just closed the gyms, I think, in Virginia. And my brother, who lives over in Virginia was a little bit upset. And I, first of all, was like, \"Codo, you shouldn\\'t be going to a gym. Codo, you\\'re a listener of Motley Fool Money, so don\\'t go to the gym.\" But it did get me thinking, I\\'ve been pretty hard on Peloton, but businesses like that, you have a lot of continued interest in just health and wellness. And how are we going to become healthier, how are we going to change our habits, will we continue to go to the gym, will we continue to congregate for health events in person? That\\'s just something that I was thinking about.\\nI use a lot of apps to monitor my health and to hopefully stay healthy; training systems on my bike. And I just think we\\'re going to see more and more of those initiatives keep up through the virus, but actually after this, as well. So, I\\'m more interested in how consumers adapt to the health and wellness post coronavirus?\\nHill: Jason, we\\'ve talked a lot about streaming entertainment and the opportunity there for those businesses. Earlier in the week, on MarketFoolery, Mac Greer and Dan Kline talked about Blue Apron, a business that was, sort of, on death\\'s door and suddenly saw its shares rise dramatically this week. Maybe there\\'s an opportunity for food delivery companies, I don\\'t know, but to your way of thinking, what are you curious to see, in terms of long-term ripple effects?\\nMoser: Yeah, you know, the Blue Apron thing, really -- I get it, but let\\'s remember, folks -- much like acquisitions, coronavirus is not a thesis, so don\\'t go out and invest in Blue Apron because now you think these meal prep kits all of a sudden makes sense. You know, the economics and the competitive disadvantages still exist.\\nFor me, travel to me looks like it\\'s going to be a fascinating opportunity here in the coming months and years. You don\\'t know where things are going to ultimately get back to normal. And look at companies like Vail Resorts, we think about all of the ski resorts that have shut down recently, Vail Resorts is one that to me, I don\\'t think people are going to -- I think that once we get back to a state of normalcy, I think people are going to be really itching to get out and go do things again.\\nBut the other one I keep on looking, and I\\'ve done more and more research over the past week here, I really think these are just nothing but tailwinds for a cashless society, Chris. The research either tells you, these viruses can live on paper money for up to, like, 14 to 17 days, which is just insane to think about. And if you walk around these days and you see anybody paying for anything with cash, it almost is like, \"Ew!\" you know there\\'s like \"Ew!\" factor. So, yeah, I do think the electronic payments system and how we pay for things, I think this hastens that move toward cashless.\\nHill: Alright. Let\\'s get to the stocks on our radar. Our man behind the glass, Steve Broido is going to hit you with a question. Andy Cross, you\\'re up first, what are you looking at this week?\\nCross: I\\'m looking at Redfin (NASDAQ: RDFN), symbol RDFN. Market cap of $1.1 billion, it\\'s a residential real estate broker, really built for the 21st century, provides services for home buying at a much lower rate and much lower fee than your typical broker. What was interesting is, this weekend they announced that they\\'re pausing RedfinNow, which is the business that buys and sells homes directly. That really has been a nice growth engine for them. Their CEO, Glenn Kelman, came out and just said, \"We remain committed as ever to giving homeowners the option of an instant offer, but we really want to know what that fair price is, and right now we don\\'t.\" so, they\\'ve paused that, it\\'s 30% in their sales last year, and it\\'s really been an engine of growth. So, I\\'m just kind of watching that. The stock was IPO\\'d at $15, peaked out $33 last year. Now, it\\'s at $13 after falling as low as $10. So, really rough time for Redfin. So, it has my attention, it\\'s recommended in a few of our services.\\nHill: Steve, a question about Redfin?\\nSteve Broido: So, if I recall correctly, after 9/11 there was a housing boom. Do we expect the same after something like this?\\nCross: You know, the housing market, obviously, over the next couple of months at least is going to be pretty disrupted, because it\\'s such a large purchase for so many people and there\\'s going to be some concerns on that. But I think over the next year or two, Steve, I think we\\'ll see a resurgence in homebuying.\\nHill: Jason Moser, what are you looking at?\\nMoser: Yeah, I\\'m talking about keeping our eyes on high quality business, market leaders, Intuitive Surgical (NASDAQ: ISRG), ticker ISRG, is one that I\\'ve gotten my eye on. Like most stocks, it\\'s down 30% over these past several weeks, for good reason. I mean, we talked about, on Motley Fool Money, several weeks back that while they recorded a good quarter, they placed 336 new da Vinci systems, global procedure growth was 19%. And recurring revenue continues to be such a strong part of the business model there.\\nBut they are running into some elongated consideration cycles. And ultimately what that means, there\\'s more competition out there competing for the space, they\\'re not the only game in town anymore when it comes to robotic surgery, so that was playing out a little bit on their revenue growth estimates and perhaps a little bit on the margin line as well. Now, they\\'re getting this, sort of, second wave, where hospitals are, obviously, having to prioritize focusing on taking care of folks with COVID-19 as opposed to other surgeries. Yeah, I look at this pull back in Intuitive Surgical, there\\'s potentially an opportunity here.\\nHill: Steve?\\nBroido: Is there a virtual medicine component here for Intuitive Surgical, yes or no?\\nMoser: Yes. Yes, there is, they have their IRIS Augmented Reality System, which is in clinical use now.\\nHill: What do you want to add to your watchlist, Steve?\\nBroido: ISRG, baby.\\nMoser: Hey, now.\\nHill: Alright. Andy Cross, Jason Moser, thanks for being here.\\nMoser: Thank you.\\nCross: Thanks, Chris.\\nHill: That\\'s going to do it for this week\\'s show. Thanks for listening, we\\'ll see you next week.\\nJohn Mackey, CEO of Whole Foods Market, an Amazon subsidiary, is a member of The Motley Fool\\'s board of directors. Suzanne Frey, an executive at Alphabet, is a member of The Motley Fool\\'s board of directors. Teresa Kersten, an employee of LinkedIn, a Microsoft subsidiary, is a member of The Motley Fool\\'s board of directors. Andy Cross owns shares of Booking Holdings, Chipotle Mexican Grill, and Microsoft. Chris Hill owns shares of Amazon and Walt Disney. Jason Moser owns shares of Alphabet (C shares), Amazon, Apple, Booking Holdings, Chipotle Mexican Grill, McCormick, Shopify, and Walt Disney. Ron Gross owns shares of Alphabet (C shares), Amazon, Apple, Microsoft, Target, and Walt Disney. The Motley Fool owns shares of and recommends Alphabet (A shares), Alphabet (C shares), Amazon, Apple, Booking Holdings, Chipotle Mexican Grill, Intuitive Surgical, Lululemon Athletica, Microsoft, Peloton Interactive, Redfin, Shopify, and Walt Disney. The Motley Fool recommends Marriott International, McCormick, and Vail Resorts and recommends the following options: long January 2021 $60 calls on Walt Disney, long January 2021 $85 calls on Microsoft, short April 2020 $135 calls on Walt Disney, and short January 2021 $115 calls on Microsoft. The Motley Fool has a disclosure policy.\\nThe views and opinions expressed herein are the views and opinions of the author and do not necessarily reflect those of Nasdaq, Inc.', 'url': 'https://www.nasdaq.com/articles/why-a-dividend-cut-can-be-a-good-sign-2020-03-24'}, references=None, uuid='86468cc0-40e6-5544-8be5-22aecab8cb50', vector=None, tenant=None, index=55, retry_count=0), original_uuid='86468cc0-40e6-5544-8be5-22aecab8cb50')\n"
     ]
    }
   ],
   "source": [
    "if len(articles.batch.failed_objects) > 0:\n",
    "    print(f\"Import completed with {len(articles.batch.failed_objects)} errors\")\n",
    "    for err in articles.batch.failed_objects[:5]:  # Show first 5 errors\n",
    "        print(err)\n",
    "else:\n",
    "    print(\"Import completed successfully with no errors\")"
   ]
  },
  {
   "cell_type": "markdown",
   "metadata": {},
   "source": [
    "## Verify the data\n",
    "\n",
    "Check that articles were imported correctly with embeddings."
   ]
  },
  {
   "cell_type": "code",
   "execution_count": 17,
   "metadata": {},
   "outputs": [
    {
     "name": "stdout",
     "output_type": "stream",
     "text": [
      "Total articles in collection: 99\n",
      "Title: Why Twenty-First Century Fox Stock Jumped 39% Last Year\n",
      "Content preview: What happened\n",
      "Shares of Twenty-First Century Fox (NASDAQ: FOXA) surged last year as the entertainmen...\n",
      "\n",
      "Title: Accenture forecasts fourth-quarter revenue below estimates on forex hit\n",
      "Content preview: adds forecast, recasts lead, shares\n",
      "June 23 (Reuters) - IT services company Accenture Plc ACN.N fore...\n",
      "\n",
      "Title: Noteworthy Tuesday Option Activity: GILD, CMI, AR\n",
      "Content preview: Looking at options trading activity among components of the Russell 3000 index, there is noteworthy ...\n",
      "\n"
     ]
    }
   ],
   "source": [
    "# Check collection size\n",
    "print(f\"Total articles in collection: {len(articles)}\")\n",
    "\n",
    "# Show sample data\n",
    "response = articles.query.fetch_objects(limit=3)\n",
    "\n",
    "for item in response.objects:\n",
    "    print(f\"Title: {item.properties['article_title']}\")\n",
    "    print(f\"Content preview: {item.properties['article'][:100]}...\\n\")"
   ]
  },
  {
   "cell_type": "code",
   "execution_count": 18,
   "metadata": {},
   "outputs": [
    {
     "name": "stdout",
     "output_type": "stream",
     "text": [
      "Article: Why Twenty-First Century Fox Stock Jumped 39% Last Year\n",
      "Title vector dimension: 1024\n",
      "Content vector dimension: 1024\n",
      "\n",
      "Article: Accenture forecasts fourth-quarter revenue below estimates on forex hit\n",
      "Title vector dimension: 1024\n",
      "Content vector dimension: 1024\n",
      "\n"
     ]
    }
   ],
   "source": [
    "# Verify embeddings were created\n",
    "response = articles.query.fetch_objects(\n",
    "    limit=2,\n",
    "    include_vector=[\"title\", \"content\"]\n",
    ")\n",
    "\n",
    "for item in response.objects:\n",
    "    print(f\"Article: {item.properties['article_title']}\")\n",
    "    print(f\"Title vector dimension: {len(item.vector['title'])}\")\n",
    "    print(f\"Content vector dimension: {len(item.vector['content'])}\\n\")"
   ]
  },
  {
   "cell_type": "markdown",
   "metadata": {},
   "source": [
    "## Test basic search\n",
    "\n",
    "Quick test to verify the collection works with semantic search."
   ]
  },
  {
   "cell_type": "code",
   "execution_count": 19,
   "metadata": {},
   "outputs": [
    {
     "name": "stdout",
     "output_type": "stream",
     "text": [
      "Search results for 'technology earnings':\n",
      "- Technology Sector Update for 07/14/2023: ASML, WDC, META, OPRA\n",
      "- Wednesday Sector Laggards: Utilities, Technology & Communications\n",
      "- Applied Materials (AMAT) Surpasses Q1 Earnings and Revenue Estimates\n"
     ]
    }
   ],
   "source": [
    "# Test semantic search on titles\n",
    "response = articles.query.near_text(\n",
    "    query=\"technology earnings\",\n",
    "    target_vector=\"title\",\n",
    "    limit=3\n",
    ")\n",
    "\n",
    "print(\"Search results for 'technology earnings':\")\n",
    "for item in response.objects:\n",
    "    print(f\"- {item.properties['article_title']}\")"
   ]
  },
  {
   "cell_type": "markdown",
   "metadata": {},
   "source": [
    "## Close the client\n",
    "\n",
    "Always close your connection when finished."
   ]
  },
  {
   "cell_type": "code",
   "execution_count": 20,
   "metadata": {},
   "outputs": [],
   "source": [
    "client.close()"
   ]
  },
  {
   "cell_type": "code",
   "execution_count": null,
   "metadata": {},
   "outputs": [],
   "source": []
  }
 ],
 "metadata": {
  "kernelspec": {
   "display_name": "202508-aws-genai-workshop-material",
   "language": "python",
   "name": "python3"
  },
  "language_info": {
   "codemirror_mode": {
    "name": "ipython",
    "version": 3
   },
   "file_extension": ".py",
   "mimetype": "text/x-python",
   "name": "python",
   "nbconvert_exporter": "python",
   "pygments_lexer": "ipython3",
   "version": "3.12.9"
  }
 },
 "nbformat": 4,
 "nbformat_minor": 4
}
