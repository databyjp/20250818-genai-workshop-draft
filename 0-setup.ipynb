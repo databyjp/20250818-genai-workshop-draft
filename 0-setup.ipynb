{
 "cells": [
  {
   "cell_type": "code",
   "execution_count": 1,
   "metadata": {
    "execution": {
     "iopub.execute_input": "2025-09-04T10:45:16.452448Z",
     "iopub.status.busy": "2025-09-04T10:45:16.451701Z",
     "iopub.status.idle": "2025-09-04T10:45:18.285548Z",
     "shell.execute_reply": "2025-09-04T10:45:18.284615Z",
     "shell.execute_reply.started": "2025-09-04T10:45:16.452422Z"
    }
   },
   "outputs": [],
   "source": [
    "!pip install -Uqq weaviate-client"
   ]
  },
  {
   "cell_type": "code",
   "execution_count": 2,
   "metadata": {
    "execution": {
     "iopub.execute_input": "2025-09-04T10:45:18.286792Z",
     "iopub.status.busy": "2025-09-04T10:45:18.286541Z",
     "iopub.status.idle": "2025-09-04T10:45:20.001003Z",
     "shell.execute_reply": "2025-09-04T10:45:19.999428Z",
     "shell.execute_reply.started": "2025-09-04T10:45:18.286766Z"
    }
   },
   "outputs": [
    {
     "name": "stderr",
     "output_type": "stream",
     "text": [
      "/opt/conda/lib/python3.12/site-packages/botocore/auth.py:425: DeprecationWarning: datetime.datetime.utcnow() is deprecated and scheduled for removal in a future version. Use timezone-aware objects to represent datetimes in UTC: datetime.datetime.now(datetime.UTC).\n",
      "  datetime_now = datetime.datetime.utcnow()\n"
     ]
    },
    {
     "name": "stdout",
     "output_type": "stream",
     "text": [
      "Weaviate IP: 34.221.71.168\n",
      "Stored 'WEAVIATE_IP' (str)\n",
      "AWS_ACCESS_KEY:\tASIA4V3I6UDOEZYI4HFO\n",
      "AWS_SECRET_KEY:\tH6+hoiYD1vOCHvn5t8PW3cZM3RVauVzsV4HbzWXh\n",
      "AWS_SESSION_TOKEN:\tIQoJb3JpZ2luX2VjEPP//////////wEaCXVzLXdlc3QtMiJHMEUCIQCKR9zHGTDb/VJ6QRHjCqg8kZ/9UQJH2Fv7Q3xCN+Ym4gIgcHMs8FQ1OZCmUIIMtI8htPzhcBJ2ZjszzaNRrxAyJykqlwMIXBAEGgw4NzE1NjE2MDEyNDQiDNYHcHtRimH5YAed5yr0Agl3l4NP21g7WdeBSUJ58Ezv576I7LjEkNbwOABt2PVU5/6hxPU0A5KnX9TQr2TwJipDzd8xSbROX3qwFDBAb9qTWFniCk/3UfW6lCwTWVpc7gQWdpKtsdKoRWrZclMBsY6tIGJEnr/Fc8kydYFq/icLv4OJEo8IYq2vIw8YwYQUyS2JU20VMa8itvphB9008A1BGz8AgOfsGGcoeaJWxbH/VfykjD2XB8rTf8Ayk7Qm4xnhUA96Dg2vZM7ULg598uJtqJprsU3k+Ml+z/sRehvWo/TN2l+UFNI6M9WKEkVO1w8vpdyjsQIRsVUc3YDdTzRffY80wKQ9utNF3HfutnxQ1tJVI53cyL6ZIU9pkIvm464aL6DvqifYCwTXXVr6Z/lEz4kLXrY/EGISQVbQTYBZZnc3iH9zYExX1gElKDoFgAgB3ouocKkFz3AE0Sy9WgiOa1l0U1yjinkHXPpqKIkx5c7uUdTrVZYQYA9PA/1ScI9CoTCf1+XFBjqaAZn3vUwdmwzSTKFZAxdLHK5uW2b/FiI4hHjJoW26q+xFX/s3VnAx+2WC3fgcjTUShcV/vEz/KhjzX1qVvZ0gJtm1giAOQ5fc6fMEpN+G1MgpTbEN5GMZgCvRBBV8rP2ygTqzA3WzNiFcyHPVrjfH777JFXQC0V+nOk3DuGKttud4IGQnOYtK7k2PYgQn/mG9dxpAjLQzvymf/+w=\n",
      "WEAVIATE_IP:\t34.221.71.168\n",
      "Stored 'AWS_ACCESS_KEY' (str)\n",
      "Stored 'AWS_SECRET_KEY' (str)\n",
      "Stored 'AWS_SESSION_TOKEN' (str)\n",
      "Created collection.\n",
      "{'TestCollection': _CollectionConfigSimple(name='TestCollection', description=None, generative_config=None, properties=[_Property(name='title', description=None, data_type=<DataType.TEXT: 'text'>, index_filterable=True, index_range_filters=False, index_searchable=True, nested_properties=None, tokenization=<Tokenization.WORD: 'word'>, vectorizer_config=None, vectorizer=None, vectorizer_configs={})], references=[], reranker_config=None, vectorizer_config=None, vectorizer=None, vector_config={'default': _NamedVectorConfig(vectorizer=_NamedVectorizerConfig(vectorizer=<Vectorizers.NONE: 'none'>, model={}, source_properties=None), vector_index_config=_VectorIndexConfigHNSW(multi_vector=None, quantizer=None, cleanup_interval_seconds=300, distance_metric=<VectorDistances.COSINE: 'cosine'>, dynamic_ef_min=100, dynamic_ef_max=500, dynamic_ef_factor=8, ef=-1, ef_construction=128, filter_strategy=<VectorFilterStrategy.SWEEPING: 'sweeping'>, flat_search_cutoff=40000, max_connections=32, skip=False, vector_cache_max_objects=1000000000000))})}\n"
     ]
    }
   ],
   "source": [
    "import boto3\n",
    "from boto3 import Session\n",
    "import weaviate\n",
    "import weaviate.classes as wvc\n",
    "\n",
    "# Initialize AWS clients\n",
    "ecs_client = boto3.client('ecs')\n",
    "ec2_client = boto3.client('ec2')\n",
    "\n",
    "# Get the task ARN\n",
    "response = ecs_client.list_tasks(cluster='weaviate-cluster', serviceName='weaviate-service')\n",
    "task_arn = response['taskArns'][0]\n",
    "\n",
    "# Get the ENI ID\n",
    "response = ecs_client.describe_tasks(cluster='weaviate-cluster', tasks=[task_arn])\n",
    "eni_id = next(\n",
    "    detail['value']\n",
    "    for task in response['tasks']\n",
    "    for attachment in task['attachments']\n",
    "    for detail in attachment['details']\n",
    "    if detail['name'] == 'networkInterfaceId'\n",
    ")\n",
    "\n",
    "# Get the Weaviate IP\n",
    "response = ec2_client.describe_network_interfaces(NetworkInterfaceIds=[eni_id])\n",
    "WEAVIATE_IP = response['NetworkInterfaces'][0]['Association']['PublicIp']\n",
    "\n",
    "print(f\"Weaviate IP: {WEAVIATE_IP}\")\n",
    "%store WEAVIATE_IP\n",
    "\n",
    "# Get the AWS Credentials\n",
    "session = Session()\n",
    "credentials = session.get_credentials()\n",
    "current_credentials = credentials.get_frozen_credentials()\n",
    "\n",
    "AWS_ACCESS_KEY = current_credentials.access_key\n",
    "AWS_SECRET_KEY = current_credentials.secret_key\n",
    "AWS_SESSION_TOKEN = current_credentials.token\n",
    "\n",
    "print(f\"AWS_ACCESS_KEY:\\t{AWS_ACCESS_KEY}\")\n",
    "print(f\"AWS_SECRET_KEY:\\t{AWS_SECRET_KEY}\")\n",
    "print(f\"AWS_SESSION_TOKEN:\\t{AWS_SESSION_TOKEN}\")\n",
    "print(f\"WEAVIATE_IP:\\t{WEAVIATE_IP}\")\n",
    "\n",
    "%store AWS_ACCESS_KEY\n",
    "%store AWS_SECRET_KEY\n",
    "%store AWS_SESSION_TOKEN\n",
    "\n",
    "# Connect to Weaviate\n",
    "client = weaviate.connect_to_local(WEAVIATE_IP)\n",
    "\n",
    "collection = client.collections.create(\n",
    "    name=\"TestCollection\",\n",
    "    properties=[\n",
    "        wvc.config.Property(\n",
    "            name=\"title\",\n",
    "            data_type=wvc.config.DataType.TEXT\n",
    "        )\n",
    "    ]\n",
    ")\n",
    "print(\"Created collection.\")\n",
    "collections = client.collections.list_all()\n",
    "client.collections.delete(\"TestCollection\")\n",
    "print(collections)\n",
    "client.close()"
   ]
  },
  {
   "cell_type": "code",
   "execution_count": 4,
   "metadata": {
    "execution": {
     "iopub.execute_input": "2025-09-04T10:53:57.602074Z",
     "iopub.status.busy": "2025-09-04T10:53:57.601777Z",
     "iopub.status.idle": "2025-09-04T10:54:15.854596Z",
     "shell.execute_reply": "2025-09-04T10:54:15.853656Z",
     "shell.execute_reply.started": "2025-09-04T10:53:57.602049Z"
    }
   },
   "outputs": [
    {
     "name": "stderr",
     "output_type": "stream",
     "text": [
      "/opt/conda/lib/python3.12/pty.py:95: DeprecationWarning: This process (pid=494) is multi-threaded, use of forkpty() may lead to deadlocks in the child.\n",
      "  pid, fd = os.forkpty()\n"
     ]
    },
    {
     "name": "stdout",
     "output_type": "stream",
     "text": [
      "\u001b[31mERROR: pip's dependency resolver does not currently take into account all the packages that are installed. This behaviour is the source of the following dependency conflicts.\n",
      "autogluon-multimodal 1.4.0 requires nvidia-ml-py3<8.0,>=7.352.0, which is not installed.\n",
      "amazon-sagemaker-jupyter-ai-q-developer 1.2.7 requires numpy<=2.0.1, but you have numpy 2.2.6 which is incompatible.\n",
      "amazon-sagemaker-sql-magic 0.1.4 requires numpy<2, but you have numpy 2.2.6 which is incompatible.\n",
      "autogluon-multimodal 1.4.0 requires transformers[sentencepiece]<4.50,>=4.38.0, but you have transformers 4.55.2 which is incompatible.\n",
      "autogluon-timeseries 1.4.0 requires transformers[sentencepiece]<4.50,>=4.38.0, but you have transformers 4.55.2 which is incompatible.\n",
      "catboost 1.2.7 requires numpy<2.0,>=1.16.0, but you have numpy 2.2.6 which is incompatible.\n",
      "gluonts 0.16.2 requires numpy<2.2,>=1.16, but you have numpy 2.2.6 which is incompatible.\n",
      "langchain-aws 0.2.19 requires boto3>=1.37.24, but you have boto3 1.37.1 which is incompatible.\n",
      "sagemaker 2.245.0 requires numpy==1.26.4, but you have numpy 2.2.6 which is incompatible.\n",
      "sparkmagic 0.21.0 requires pandas<2.0.0,>=0.17.1, but you have pandas 2.3.1 which is incompatible.\u001b[0m\u001b[31m\n",
      "\u001b[0m"
     ]
    }
   ],
   "source": [
    "!pip install -Uqq docling"
   ]
  },
  {
   "cell_type": "code",
   "execution_count": 6,
   "metadata": {
    "execution": {
     "iopub.execute_input": "2025-09-04T10:55:12.861485Z",
     "iopub.status.busy": "2025-09-04T10:55:12.861201Z",
     "iopub.status.idle": "2025-09-04T10:55:16.471789Z",
     "shell.execute_reply": "2025-09-04T10:55:16.470734Z",
     "shell.execute_reply.started": "2025-09-04T10:55:12.861461Z"
    }
   },
   "outputs": [
    {
     "name": "stderr",
     "output_type": "stream",
     "text": [
      "/opt/conda/lib/python3.12/pty.py:95: DeprecationWarning: This process (pid=494) is multi-threaded, use of forkpty() may lead to deadlocks in the child.\n",
      "  pid, fd = os.forkpty()\n"
     ]
    }
   ],
   "source": [
    "!pip install -Uqq pymupdf"
   ]
  },
  {
   "cell_type": "code",
   "execution_count": 7,
   "metadata": {
    "execution": {
     "iopub.execute_input": "2025-09-04T10:55:19.103159Z",
     "iopub.status.busy": "2025-09-04T10:55:19.102835Z",
     "iopub.status.idle": "2025-09-04T10:56:14.153422Z",
     "shell.execute_reply": "2025-09-04T10:56:14.152485Z",
     "shell.execute_reply.started": "2025-09-04T10:55:19.103133Z"
    }
   },
   "outputs": [
    {
     "name": "stdout",
     "output_type": "stream",
     "text": [
      "Converting data/pdfs/reddit_s1a.pdf to images...\n",
      "Converted 288 pages to images\n"
     ]
    },
    {
     "name": "stderr",
     "output_type": "stream",
     "text": [
      "2025-09-04 10:56:08.739276: I tensorflow/core/platform/cpu_feature_guard.cc:210] This TensorFlow binary is optimized to use available CPU instructions in performance-critical operations.\n",
      "To enable the following instructions: SSE4.1 SSE4.2 AVX AVX2 AVX512F FMA, in other operations, rebuild TensorFlow with the appropriate compiler flags.\n"
     ]
    },
    {
     "name": "stdout",
     "output_type": "stream",
     "text": [
      "Setup complete!\n"
     ]
    }
   ],
   "source": [
    "%%bash\n",
    "python pdf_to_img.py\n",
    "python pdf_to_md.py\n",
    "echo \"Setup complete!\""
   ]
  },
  {
   "cell_type": "code",
   "execution_count": null,
   "metadata": {},
   "outputs": [],
   "source": []
  }
 ],
 "metadata": {
  "kernelspec": {
   "display_name": "Python 3 (ipykernel)",
   "language": "python",
   "name": "python3"
  },
  "language_info": {
   "codemirror_mode": {
    "name": "ipython",
    "version": 3
   },
   "file_extension": ".py",
   "mimetype": "text/x-python",
   "name": "python",
   "nbconvert_exporter": "python",
   "pygments_lexer": "ipython3",
   "version": "3.12.9"
  }
 },
 "nbformat": 4,
 "nbformat_minor": 4
}
