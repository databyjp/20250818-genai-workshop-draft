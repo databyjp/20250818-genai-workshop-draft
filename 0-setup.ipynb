{
 "cells": [
  {
   "cell_type": "code",
   "execution_count": 1,
   "metadata": {
    "execution": {
     "iopub.execute_input": "2025-09-04T13:33:48.368803Z",
     "iopub.status.busy": "2025-09-04T13:33:48.368536Z",
     "iopub.status.idle": "2025-09-04T13:33:52.272390Z",
     "shell.execute_reply": "2025-09-04T13:33:52.271377Z",
     "shell.execute_reply.started": "2025-09-04T13:33:48.368781Z"
    }
   },
   "outputs": [
    {
     "name": "stdout",
     "output_type": "stream",
     "text": [
      "Note: you may need to restart the kernel to use updated packages.\n"
     ]
    }
   ],
   "source": [
    "try:\n",
    "    import weaviate\n",
    "except ImportError:\n",
    "    %pip install -Uqq weaviate-client"
   ]
  },
  {
   "cell_type": "code",
   "execution_count": 2,
   "metadata": {
    "execution": {
     "iopub.execute_input": "2025-09-04T13:34:04.544273Z",
     "iopub.status.busy": "2025-09-04T13:34:04.543569Z",
     "iopub.status.idle": "2025-09-04T13:34:06.911645Z",
     "shell.execute_reply": "2025-09-04T13:34:06.910994Z",
     "shell.execute_reply.started": "2025-09-04T13:34:04.544242Z"
    }
   },
   "outputs": [
    {
     "name": "stderr",
     "output_type": "stream",
     "text": [
      "/opt/conda/lib/python3.12/site-packages/botocore/auth.py:425: DeprecationWarning: datetime.datetime.utcnow() is deprecated and scheduled for removal in a future version. Use timezone-aware objects to represent datetimes in UTC: datetime.datetime.now(datetime.UTC).\n",
      "  datetime_now = datetime.datetime.utcnow()\n"
     ]
    },
    {
     "name": "stdout",
     "output_type": "stream",
     "text": [
      "Weaviate IP: 34.221.71.168\n",
      "Stored 'WEAVIATE_IP' (str)\n",
      "AWS_ACCESS_KEY:\tASIA4V3I6UDOJAKTNF4M\n",
      "AWS_SECRET_KEY:\tAJJECoaRrjOyqM7OkSkVsKFiNyBEE/Phed0Zdbex\n",
      "AWS_SESSION_TOKEN:\tIQoJb3JpZ2luX2VjEPb//////////wEaCXVzLXdlc3QtMiJGMEQCIGj/Ap36B8YYKZvvw4Sj+ufZ+RshZvn0kJgxn2BSXW1PAiAKUMTkQEBb208fQoKymQLaUU6QTAiCCqxgm4AJr7UHfyqXAwhfEAQaDDg3MTU2MTYwMTI0NCIM1KOc+5h4QvNZ0rd5KvQCO5XJnly2yLW2paTQQWU/HQBNcyzv4lstPEUtSUQQuCWfoDfiiuipBp+gjUcyTQHa/56o/e/21xnamGD8d4FSPkEQM037V/+wJHgyeudYsLXKQHPMGyeB2aAzzko1twWzfD5NG8GJdZ6z0TyphPzrcKOltBkep11e2WJgTIyX0jORV03iQqfgOEQeBYeHFuWwG2yxeJr/4E8Y0j400f9ElTze88TZOpTgcGrcitV/87Jypkt0VxifRu/0lK6zDH03gRbUWORvLxYVAijJysr5CDDxJJGnohbYSFgIfqTRoZVz+EqpOsDlmP9sFNfpj86fvGUjhuRQYoUvq/L+kejuyT+Bc4uSVflII+UbcrQ/q7UqlMeoNng1NBC0V3XIv030r2NtDQGrbTxt8u8zv2Es9B+UVUCOR7UOs+S7b0rIzKFlhZi2cjXUSANLvJpKykvFU8CjQg8UnFPPE/AWeo9Ldkrw/p+YsZP0op4lNXUeK20Jlys4MOap5sUGOpsB2wiXGePC1iGD4W9UVfMhY60rvasoTiWcUwfqxi1pNFfmTXvCeqOf7tw7n2KsRoTTghPAgir8fMZ9TU40fle1upRk5u+uRv6UeLQOzr0KJLCrDhCPibtAzH/0Siogr1rpEE/xoF4ulAKM1D1/BdoH3Jkt8aa/b+nTVZunAVs/5CgMh/fBMZi1y9AtyER998Lml7ZcHZlXOZQmRQ0=\n",
      "WEAVIATE_IP:\t34.221.71.168\n",
      "Stored 'AWS_ACCESS_KEY' (str)\n",
      "Stored 'AWS_SECRET_KEY' (str)\n",
      "Stored 'AWS_SESSION_TOKEN' (str)\n",
      "Created collection.\n",
      "{'FinancialArticles': _CollectionConfigSimple(name='FinancialArticles', description=None, generative_config=None, properties=[_Property(name='article_title', description=None, data_type=<DataType.TEXT: 'text'>, index_filterable=True, index_range_filters=False, index_searchable=True, nested_properties=None, tokenization=<Tokenization.WORD: 'word'>, vectorizer_config=None, vectorizer=None, vectorizer_configs={'text2vec-aws': _PropertyVectorizerConfig(skip=False, vectorize_property_name=False)}), _Property(name='article', description=None, data_type=<DataType.TEXT: 'text'>, index_filterable=True, index_range_filters=False, index_searchable=True, nested_properties=None, tokenization=<Tokenization.WORD: 'word'>, vectorizer_config=None, vectorizer=None, vectorizer_configs={'text2vec-aws': _PropertyVectorizerConfig(skip=False, vectorize_property_name=False)}), _Property(name='url', description=None, data_type=<DataType.TEXT: 'text'>, index_filterable=True, index_range_filters=False, index_searchable=True, nested_properties=None, tokenization=<Tokenization.WORD: 'word'>, vectorizer_config=None, vectorizer=None, vectorizer_configs={'text2vec-aws': _PropertyVectorizerConfig(skip=False, vectorize_property_name=False)})], references=[], reranker_config=None, vectorizer_config=None, vectorizer=None, vector_config={'content': _NamedVectorConfig(vectorizer=_NamedVectorizerConfig(vectorizer=<Vectorizers.TEXT2VEC_AWS: 'text2vec-aws'>, model={'model': 'amazon.titan-embed-text-v2:0', 'region': 'us-west-2', 'service': 'bedrock', 'vectorizeClassName': True}, source_properties=['article']), vector_index_config=_VectorIndexConfigHNSW(multi_vector=None, quantizer=None, cleanup_interval_seconds=300, distance_metric=<VectorDistances.COSINE: 'cosine'>, dynamic_ef_min=100, dynamic_ef_max=500, dynamic_ef_factor=8, ef=-1, ef_construction=128, filter_strategy=<VectorFilterStrategy.SWEEPING: 'sweeping'>, flat_search_cutoff=40000, max_connections=32, skip=False, vector_cache_max_objects=1000000000000)), 'title': _NamedVectorConfig(vectorizer=_NamedVectorizerConfig(vectorizer=<Vectorizers.TEXT2VEC_AWS: 'text2vec-aws'>, model={'model': 'amazon.titan-embed-text-v2:0', 'region': 'us-west-2', 'service': 'bedrock', 'vectorizeClassName': True}, source_properties=['article_title']), vector_index_config=_VectorIndexConfigHNSW(multi_vector=None, quantizer=None, cleanup_interval_seconds=300, distance_metric=<VectorDistances.COSINE: 'cosine'>, dynamic_ef_min=100, dynamic_ef_max=500, dynamic_ef_factor=8, ef=-1, ef_construction=128, filter_strategy=<VectorFilterStrategy.SWEEPING: 'sweeping'>, flat_search_cutoff=40000, max_connections=32, skip=False, vector_cache_max_objects=1000000000000))}), 'TestCollection': _CollectionConfigSimple(name='TestCollection', description=None, generative_config=None, properties=[_Property(name='title', description=None, data_type=<DataType.TEXT: 'text'>, index_filterable=True, index_range_filters=False, index_searchable=True, nested_properties=None, tokenization=<Tokenization.WORD: 'word'>, vectorizer_config=None, vectorizer=None, vectorizer_configs={})], references=[], reranker_config=None, vectorizer_config=None, vectorizer=None, vector_config={'default': _NamedVectorConfig(vectorizer=_NamedVectorizerConfig(vectorizer=<Vectorizers.NONE: 'none'>, model={}, source_properties=None), vector_index_config=_VectorIndexConfigHNSW(multi_vector=None, quantizer=None, cleanup_interval_seconds=300, distance_metric=<VectorDistances.COSINE: 'cosine'>, dynamic_ef_min=100, dynamic_ef_max=500, dynamic_ef_factor=8, ef=-1, ef_construction=128, filter_strategy=<VectorFilterStrategy.SWEEPING: 'sweeping'>, flat_search_cutoff=40000, max_connections=32, skip=False, vector_cache_max_objects=1000000000000))})}\n"
     ]
    }
   ],
   "source": [
    "import boto3\n",
    "from boto3 import Session\n",
    "import weaviate\n",
    "import weaviate.classes as wvc\n",
    "\n",
    "# Initialize AWS clients\n",
    "ecs_client = boto3.client('ecs')\n",
    "ec2_client = boto3.client('ec2')\n",
    "\n",
    "# Get the task ARN\n",
    "response = ecs_client.list_tasks(cluster='weaviate-cluster', serviceName='weaviate-service')\n",
    "task_arn = response['taskArns'][0]\n",
    "\n",
    "# Get the ENI ID\n",
    "response = ecs_client.describe_tasks(cluster='weaviate-cluster', tasks=[task_arn])\n",
    "eni_id = next(\n",
    "    detail['value']\n",
    "    for task in response['tasks']\n",
    "    for attachment in task['attachments']\n",
    "    for detail in attachment['details']\n",
    "    if detail['name'] == 'networkInterfaceId'\n",
    ")\n",
    "\n",
    "# Get the Weaviate IP\n",
    "response = ec2_client.describe_network_interfaces(NetworkInterfaceIds=[eni_id])\n",
    "WEAVIATE_IP = response['NetworkInterfaces'][0]['Association']['PublicIp']\n",
    "\n",
    "print(f\"Weaviate IP: {WEAVIATE_IP}\")\n",
    "%store WEAVIATE_IP\n",
    "\n",
    "# Get the AWS Credentials\n",
    "session = Session()\n",
    "credentials = session.get_credentials()\n",
    "current_credentials = credentials.get_frozen_credentials()\n",
    "\n",
    "AWS_ACCESS_KEY = current_credentials.access_key\n",
    "AWS_SECRET_KEY = current_credentials.secret_key\n",
    "AWS_SESSION_TOKEN = current_credentials.token\n",
    "\n",
    "print(f\"AWS_ACCESS_KEY:\\t{AWS_ACCESS_KEY}\")\n",
    "print(f\"AWS_SECRET_KEY:\\t{AWS_SECRET_KEY}\")\n",
    "print(f\"AWS_SESSION_TOKEN:\\t{AWS_SESSION_TOKEN}\")\n",
    "print(f\"WEAVIATE_IP:\\t{WEAVIATE_IP}\")\n",
    "\n",
    "%store AWS_ACCESS_KEY\n",
    "%store AWS_SECRET_KEY\n",
    "%store AWS_SESSION_TOKEN\n",
    "\n",
    "# Connect to Weaviate\n",
    "client = weaviate.connect_to_local(WEAVIATE_IP)\n",
    "\n",
    "collection = client.collections.create(\n",
    "    name=\"TestCollection\",\n",
    "    properties=[\n",
    "        wvc.config.Property(\n",
    "            name=\"title\",\n",
    "            data_type=wvc.config.DataType.TEXT\n",
    "        )\n",
    "    ]\n",
    ")\n",
    "print(\"Created collection.\")\n",
    "collections = client.collections.list_all()\n",
    "client.collections.delete(\"TestCollection\")\n",
    "print(collections)\n",
    "client.close()"
   ]
  },
  {
   "cell_type": "code",
   "execution_count": null,
   "metadata": {
    "execution": {
     "iopub.execute_input": "2025-09-04T10:53:57.602074Z",
     "iopub.status.busy": "2025-09-04T10:53:57.601777Z",
     "iopub.status.idle": "2025-09-04T10:54:15.854596Z",
     "shell.execute_reply": "2025-09-04T10:54:15.853656Z",
     "shell.execute_reply.started": "2025-09-04T10:53:57.602049Z"
    }
   },
   "outputs": [],
   "source": [
    "!pip install -Uqq docling"
   ]
  },
  {
   "cell_type": "code",
   "execution_count": null,
   "metadata": {
    "execution": {
     "iopub.execute_input": "2025-09-04T10:55:12.861485Z",
     "iopub.status.busy": "2025-09-04T10:55:12.861201Z",
     "iopub.status.idle": "2025-09-04T10:55:16.471789Z",
     "shell.execute_reply": "2025-09-04T10:55:16.470734Z",
     "shell.execute_reply.started": "2025-09-04T10:55:12.861461Z"
    }
   },
   "outputs": [],
   "source": [
    "!pip install -Uqq pymupdf"
   ]
  },
  {
   "cell_type": "code",
   "execution_count": null,
   "metadata": {
    "execution": {
     "iopub.execute_input": "2025-09-04T10:55:19.103159Z",
     "iopub.status.busy": "2025-09-04T10:55:19.102835Z",
     "iopub.status.idle": "2025-09-04T10:56:14.153422Z",
     "shell.execute_reply": "2025-09-04T10:56:14.152485Z",
     "shell.execute_reply.started": "2025-09-04T10:55:19.103133Z"
    }
   },
   "outputs": [],
   "source": [
    "%%bash\n",
    "python pdf_to_img.py\n",
    "python pdf_to_md.py\n",
    "echo \"Setup complete!\""
   ]
  },
  {
   "cell_type": "code",
   "execution_count": null,
   "metadata": {},
   "outputs": [],
   "source": []
  }
 ],
 "metadata": {
  "kernelspec": {
   "display_name": "202508-aws-genai-workshop-material",
   "language": "python",
   "name": "python3"
  },
  "language_info": {
   "codemirror_mode": {
    "name": "ipython",
    "version": 3
   },
   "file_extension": ".py",
   "mimetype": "text/x-python",
   "name": "python",
   "nbconvert_exporter": "python",
   "pygments_lexer": "ipython3",
   "version": "3.10.16"
  }
 },
 "nbformat": 4,
 "nbformat_minor": 4
}
