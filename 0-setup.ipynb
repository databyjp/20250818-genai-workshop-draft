{
 "cells": [
  {
   "cell_type": "code",
   "execution_count": 3,
   "metadata": {
    "execution": {
     "iopub.execute_input": "2025-09-04T14:54:09.894726Z",
     "iopub.status.busy": "2025-09-04T14:54:09.894445Z",
     "iopub.status.idle": "2025-09-04T14:54:09.898375Z",
     "shell.execute_reply": "2025-09-04T14:54:09.897503Z",
     "shell.execute_reply.started": "2025-09-04T14:54:09.894703Z"
    }
   },
   "outputs": [],
   "source": [
    "try:\n",
    "    import weaviate\n",
    "except ImportError:\n",
    "    %pip install -Uqq weaviate-client"
   ]
  },
  {
   "cell_type": "code",
   "execution_count": 5,
   "metadata": {
    "execution": {
     "iopub.execute_input": "2025-09-04T15:40:44.384718Z",
     "iopub.status.busy": "2025-09-04T15:40:44.384437Z",
     "iopub.status.idle": "2025-09-04T15:40:44.992646Z",
     "shell.execute_reply": "2025-09-04T15:40:44.991603Z",
     "shell.execute_reply.started": "2025-09-04T15:40:44.384697Z"
    }
   },
   "outputs": [
    {
     "name": "stdout",
     "output_type": "stream",
     "text": [
      "Weaviate IP: 34.221.71.168\n",
      "Stored 'WEAVIATE_IP' (str)\n",
      "AWS_ACCESS_KEY:\tASIA4V3I6UDOECDCSAIR\n",
      "AWS_SECRET_KEY:\t4HC6Jk6Qns+XMffG941zRtzms6pEZHOTTAITheOS\n",
      "AWS_SESSION_TOKEN:\tIQoJb3JpZ2luX2VjEPj//////////wEaCXVzLXdlc3QtMiJHMEUCIGNcS5LLZmqc8jT5ddBKlffu4+GUgy9HDWaUS6qFCe7PAiEA9MxOA61KzxlD+7/prYoVaOVaI+3kWXE4EjSIlX0CEQoqlwMIYRAEGgw4NzE1NjE2MDEyNDQiDDaLYdB1l8CFGCdW8yr0AqQHbuQHo6ohVYh+1mQoBpjpWeN1M07wDRYnOZO2ENHkq/E07LaWTJo0GCYvHLuFyMPxRIAJnNc/baBKeMD+sJ0NOJxjAAswd0CNmT/9/0zChRrVN4slYcmpCD0oyHgvi3bGErXEqbwergUggWYPu6MvvmPNQBeVpX352qLrXC1tWq2Cc8V+20PnkTMxVk1bXTI1A/40jX1nqQYz9Wh0rHAS9oI3K2ioWG+6EFO4J2wvPmFGFIlPkLsdZKOoZz2GFpsOiyQSUaGkidZEfY6sEc78WhBYONJt3q9cMFhoKRfD7N7qv5Hh5FMh+lQJ9BeZXTqkDvDiPvU6JIqJCeQAzKqKNjr3yNQ9+6BvFNDuj2SbXFjB24LEasyOg7EAFkKIskFsWjV1TBfraQS+1JrNCaqPTEfOeaDpd2TfpHNeHVcvn24jVXE2R00vvksD0m+1Jp1dpn9hF2d1CJn7dGYd32uyE4PTp2B0ZwZCSk92TmYZF61DRTCX4+bFBjqaAUbVwiTa/g8MZsTTZMiTn4w5dTO4Zwszrp6L3gdnpQfOdy69dZSJyUqS0EbNNgmm8ju+Lbov5jeJ+an79TcWA0Qy9pmrKGybQjWafEYs0s2TxmC3KHTFHFnp6nzW+SioOR+kV5GWYeu6xbvBJA3eYD0rEMOUxzh0hfzDHMMrNvNV+KiOoN+2V+HeQpSuNU0/tZivs3pLaeFE7q8=\n",
      "WEAVIATE_IP:\t34.221.71.168\n",
      "Stored 'AWS_ACCESS_KEY' (str)\n",
      "Stored 'AWS_SECRET_KEY' (str)\n",
      "Stored 'AWS_SESSION_TOKEN' (str)\n",
      "Created collection.\n",
      "{'Chunks': _CollectionConfigSimple(name='Chunks', description=None, generative_config=None, properties=[_Property(name='document_title', description=None, data_type=<DataType.TEXT: 'text'>, index_filterable=True, index_range_filters=False, index_searchable=True, nested_properties=None, tokenization=<Tokenization.WORD: 'word'>, vectorizer_config=None, vectorizer=None, vectorizer_configs={'text2vec-aws': _PropertyVectorizerConfig(skip=False, vectorize_property_name=False)}), _Property(name='chunk', description=None, data_type=<DataType.TEXT: 'text'>, index_filterable=True, index_range_filters=False, index_searchable=True, nested_properties=None, tokenization=<Tokenization.WORD: 'word'>, vectorizer_config=None, vectorizer=None, vectorizer_configs={'text2vec-aws': _PropertyVectorizerConfig(skip=False, vectorize_property_name=False)}), _Property(name='chunk_number', description=None, data_type=<DataType.INT: 'int'>, index_filterable=True, index_range_filters=False, index_searchable=False, nested_properties=None, tokenization=None, vectorizer_config=None, vectorizer=None, vectorizer_configs={'text2vec-aws': _PropertyVectorizerConfig(skip=False, vectorize_property_name=False)}), _Property(name='filename', description=None, data_type=<DataType.TEXT: 'text'>, index_filterable=True, index_range_filters=False, index_searchable=True, nested_properties=None, tokenization=<Tokenization.FIELD: 'field'>, vectorizer_config=None, vectorizer=None, vectorizer_configs={'text2vec-aws': _PropertyVectorizerConfig(skip=False, vectorize_property_name=False)})], references=[], reranker_config=None, vectorizer_config=None, vectorizer=None, vector_config={'default': _NamedVectorConfig(vectorizer=_NamedVectorizerConfig(vectorizer=<Vectorizers.TEXT2VEC_AWS: 'text2vec-aws'>, model={'model': 'amazon.titan-embed-text-v2:0', 'region': 'us-west-2', 'service': 'bedrock', 'vectorizeClassName': True}, source_properties=['document_title', 'chunk']), vector_index_config=_VectorIndexConfigHNSW(multi_vector=None, quantizer=None, cleanup_interval_seconds=300, distance_metric=<VectorDistances.COSINE: 'cosine'>, dynamic_ef_min=100, dynamic_ef_max=500, dynamic_ef_factor=8, ef=-1, ef_construction=128, filter_strategy=<VectorFilterStrategy.SWEEPING: 'sweeping'>, flat_search_cutoff=40000, max_connections=32, skip=False, vector_cache_max_objects=1000000000000))}), 'FinancialArticles': _CollectionConfigSimple(name='FinancialArticles', description=None, generative_config=None, properties=[_Property(name='article_title', description=None, data_type=<DataType.TEXT: 'text'>, index_filterable=True, index_range_filters=False, index_searchable=True, nested_properties=None, tokenization=<Tokenization.WORD: 'word'>, vectorizer_config=None, vectorizer=None, vectorizer_configs={'text2vec-aws': _PropertyVectorizerConfig(skip=False, vectorize_property_name=False)}), _Property(name='article', description=None, data_type=<DataType.TEXT: 'text'>, index_filterable=True, index_range_filters=False, index_searchable=True, nested_properties=None, tokenization=<Tokenization.WORD: 'word'>, vectorizer_config=None, vectorizer=None, vectorizer_configs={'text2vec-aws': _PropertyVectorizerConfig(skip=False, vectorize_property_name=False)}), _Property(name='url', description=None, data_type=<DataType.TEXT: 'text'>, index_filterable=True, index_range_filters=False, index_searchable=True, nested_properties=None, tokenization=<Tokenization.WORD: 'word'>, vectorizer_config=None, vectorizer=None, vectorizer_configs={'text2vec-aws': _PropertyVectorizerConfig(skip=False, vectorize_property_name=False)})], references=[], reranker_config=None, vectorizer_config=None, vectorizer=None, vector_config={'content': _NamedVectorConfig(vectorizer=_NamedVectorizerConfig(vectorizer=<Vectorizers.TEXT2VEC_AWS: 'text2vec-aws'>, model={'model': 'amazon.titan-embed-text-v2:0', 'region': 'us-west-2', 'service': 'bedrock', 'vectorizeClassName': True}, source_properties=['article']), vector_index_config=_VectorIndexConfigHNSW(multi_vector=None, quantizer=None, cleanup_interval_seconds=300, distance_metric=<VectorDistances.COSINE: 'cosine'>, dynamic_ef_min=100, dynamic_ef_max=500, dynamic_ef_factor=8, ef=-1, ef_construction=128, filter_strategy=<VectorFilterStrategy.SWEEPING: 'sweeping'>, flat_search_cutoff=40000, max_connections=32, skip=False, vector_cache_max_objects=1000000000000)), 'title': _NamedVectorConfig(vectorizer=_NamedVectorizerConfig(vectorizer=<Vectorizers.TEXT2VEC_AWS: 'text2vec-aws'>, model={'model': 'amazon.titan-embed-text-v2:0', 'region': 'us-west-2', 'service': 'bedrock', 'vectorizeClassName': True}, source_properties=['article_title']), vector_index_config=_VectorIndexConfigHNSW(multi_vector=None, quantizer=None, cleanup_interval_seconds=300, distance_metric=<VectorDistances.COSINE: 'cosine'>, dynamic_ef_min=100, dynamic_ef_max=500, dynamic_ef_factor=8, ef=-1, ef_construction=128, filter_strategy=<VectorFilterStrategy.SWEEPING: 'sweeping'>, flat_search_cutoff=40000, max_connections=32, skip=False, vector_cache_max_objects=1000000000000))}), 'TestCollection': _CollectionConfigSimple(name='TestCollection', description=None, generative_config=None, properties=[_Property(name='title', description=None, data_type=<DataType.TEXT: 'text'>, index_filterable=True, index_range_filters=False, index_searchable=True, nested_properties=None, tokenization=<Tokenization.WORD: 'word'>, vectorizer_config=None, vectorizer=None, vectorizer_configs={})], references=[], reranker_config=None, vectorizer_config=None, vectorizer=None, vector_config={'default': _NamedVectorConfig(vectorizer=_NamedVectorizerConfig(vectorizer=<Vectorizers.NONE: 'none'>, model={}, source_properties=None), vector_index_config=_VectorIndexConfigHNSW(multi_vector=None, quantizer=None, cleanup_interval_seconds=300, distance_metric=<VectorDistances.COSINE: 'cosine'>, dynamic_ef_min=100, dynamic_ef_max=500, dynamic_ef_factor=8, ef=-1, ef_construction=128, filter_strategy=<VectorFilterStrategy.SWEEPING: 'sweeping'>, flat_search_cutoff=40000, max_connections=32, skip=False, vector_cache_max_objects=1000000000000))})}\n"
     ]
    }
   ],
   "source": [
    "import boto3\n",
    "from boto3 import Session\n",
    "import weaviate\n",
    "import weaviate.classes as wvc\n",
    "\n",
    "# Initialize AWS clients\n",
    "ecs_client = boto3.client('ecs')\n",
    "ec2_client = boto3.client('ec2')\n",
    "\n",
    "# Get the task ARN\n",
    "response = ecs_client.list_tasks(cluster='weaviate-cluster', serviceName='weaviate-service')\n",
    "task_arn = response['taskArns'][0]\n",
    "\n",
    "# Get the ENI ID\n",
    "response = ecs_client.describe_tasks(cluster='weaviate-cluster', tasks=[task_arn])\n",
    "eni_id = next(\n",
    "    detail['value']\n",
    "    for task in response['tasks']\n",
    "    for attachment in task['attachments']\n",
    "    for detail in attachment['details']\n",
    "    if detail['name'] == 'networkInterfaceId'\n",
    ")\n",
    "\n",
    "# Get the Weaviate IP\n",
    "response = ec2_client.describe_network_interfaces(NetworkInterfaceIds=[eni_id])\n",
    "WEAVIATE_IP = response['NetworkInterfaces'][0]['Association']['PublicIp']\n",
    "\n",
    "print(f\"Weaviate IP: {WEAVIATE_IP}\")\n",
    "%store WEAVIATE_IP\n",
    "\n",
    "# Get the AWS Credentials\n",
    "session = Session()\n",
    "credentials = session.get_credentials()\n",
    "current_credentials = credentials.get_frozen_credentials()\n",
    "\n",
    "AWS_ACCESS_KEY = current_credentials.access_key\n",
    "AWS_SECRET_KEY = current_credentials.secret_key\n",
    "AWS_SESSION_TOKEN = current_credentials.token\n",
    "\n",
    "print(f\"AWS_ACCESS_KEY:\\t{AWS_ACCESS_KEY}\")\n",
    "print(f\"AWS_SECRET_KEY:\\t{AWS_SECRET_KEY}\")\n",
    "print(f\"AWS_SESSION_TOKEN:\\t{AWS_SESSION_TOKEN}\")\n",
    "print(f\"WEAVIATE_IP:\\t{WEAVIATE_IP}\")\n",
    "\n",
    "%store AWS_ACCESS_KEY\n",
    "%store AWS_SECRET_KEY\n",
    "%store AWS_SESSION_TOKEN\n",
    "\n",
    "# Connect to Weaviate\n",
    "client = weaviate.connect_to_local(WEAVIATE_IP)\n",
    "\n",
    "collection = client.collections.create(\n",
    "    name=\"TestCollection\",\n",
    "    properties=[\n",
    "        wvc.config.Property(\n",
    "            name=\"title\",\n",
    "            data_type=wvc.config.DataType.TEXT\n",
    "        )\n",
    "    ]\n",
    ")\n",
    "print(\"Created collection.\")\n",
    "collections = client.collections.list_all()\n",
    "client.collections.delete(\"TestCollection\")\n",
    "print(collections)\n",
    "client.close()"
   ]
  },
  {
   "cell_type": "code",
   "execution_count": null,
   "metadata": {},
   "outputs": [],
   "source": []
  }
 ],
 "metadata": {
  "kernelspec": {
   "display_name": "Python 3 (ipykernel)",
   "language": "python",
   "name": "python3"
  },
  "language_info": {
   "codemirror_mode": {
    "name": "ipython",
    "version": 3
   },
   "file_extension": ".py",
   "mimetype": "text/x-python",
   "name": "python",
   "nbconvert_exporter": "python",
   "pygments_lexer": "ipython3",
   "version": "3.12.9"
  }
 },
 "nbformat": 4,
 "nbformat_minor": 4
}
