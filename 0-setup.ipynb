{
 "cells": [
  {
   "cell_type": "code",
   "execution_count": 3,
   "metadata": {
    "execution": {
     "iopub.execute_input": "2025-09-04T14:54:09.894726Z",
     "iopub.status.busy": "2025-09-04T14:54:09.894445Z",
     "iopub.status.idle": "2025-09-04T14:54:09.898375Z",
     "shell.execute_reply": "2025-09-04T14:54:09.897503Z",
     "shell.execute_reply.started": "2025-09-04T14:54:09.894703Z"
    }
   },
   "outputs": [],
   "source": [
    "try:\n",
    "    import weaviate\n",
    "except ImportError:\n",
    "    %pip install -Uqq weaviate-client"
   ]
  },
  {
   "cell_type": "code",
   "execution_count": 4,
   "metadata": {
    "execution": {
     "iopub.execute_input": "2025-09-04T14:54:11.346443Z",
     "iopub.status.busy": "2025-09-04T14:54:11.346132Z",
     "iopub.status.idle": "2025-09-04T14:54:11.951333Z",
     "shell.execute_reply": "2025-09-04T14:54:11.950561Z",
     "shell.execute_reply.started": "2025-09-04T14:54:11.346403Z"
    }
   },
   "outputs": [
    {
     "name": "stdout",
     "output_type": "stream",
     "text": [
      "Weaviate IP: 34.221.71.168\n",
      "Stored 'WEAVIATE_IP' (str)\n",
      "AWS_ACCESS_KEY:\tASIA4V3I6UDOMILZ6EW5\n",
      "AWS_SECRET_KEY:\t7WvD5ClgwKXEBVm6TZkIdj3Di0AoYgFA18QCwJtj\n",
      "AWS_SESSION_TOKEN:\tIQoJb3JpZ2luX2VjEPf//////////wEaCXVzLXdlc3QtMiJIMEYCIQDTpKwsLIUPdXdq2tig34aOxcjkPQywYHS93al7y6zUggIhAKvGLYW49tsC1U8CNB0PDxtsnUHc37JL61gsbBF5pebbKpcDCGAQBBoMODcxNTYxNjAxMjQ0IgzlJLFbz1l3EAoYiAMq9ALqdZny3bZu2nMq7mpw0fBMWlR9TQSWJtSyd/9F3Yn7R+RyqkWsKWMaqdS2KAO9VOpkdLSWBy+v+Czaw4j9USwgpD+YN0adgkqHRslRX0YWoINEokKFYPnvi2S5MbdGPlJ/hZ27tHVGJD1AJ3sp5gnx6nqP7U0/6lOYiSkzhNtbOLGS7/f7Sgd+MUF6Ov4tmGXyAkKku13bQHtAp6sEwg/AcSvpXYl38KVj0pL1buJ7rgixW2dmooZicpDgMYrdK9/StsXessAuSF1djQtEHoZWtTVnQ/xdGuLulnoND1KUle0BgwX2elSdWNBLR+stekypKmvNj6ebGDApyHoHaSr82oxbv8Ic/nP+XYMV0fK0cOss/tXUJT+r7w1hKSp5/uw8Xvs7JQ4PzmDYmqNa2L8r7FIyBJP0jtjJ3ql/qmthq1HvTNC4GYnuS9S2wwJbl4EZCYv1C14HVksHMIfkx0YMD/aSgHHb+3EYPFIIWD5xcOCmltsw48bmxQY6mQExFPl2KHb7g39dT8iTH2jMrv6lZH6ILKG3wKmtZxgjRKm+Ou+DCu9nfNGdl0qGsb51YDDNzLUnAX6eUhDItIAJ5y+wzqGm7kzUQRkkVj3CeRrnAyuvo5o4yBFw/D6E8jlJo9CNDmNU3BwPO2tZgyGqYgh9z9lbjV+GPlPvlxn3U8At3iL58AkCpfmOJw1liai2cf/P07pBT1A=\n",
      "WEAVIATE_IP:\t34.221.71.168\n",
      "Stored 'AWS_ACCESS_KEY' (str)\n",
      "Stored 'AWS_SECRET_KEY' (str)\n",
      "Stored 'AWS_SESSION_TOKEN' (str)\n",
      "Created collection.\n",
      "{'Chunks': _CollectionConfigSimple(name='Chunks', description=None, generative_config=None, properties=[_Property(name='document_title', description=None, data_type=<DataType.TEXT: 'text'>, index_filterable=True, index_range_filters=False, index_searchable=True, nested_properties=None, tokenization=<Tokenization.WORD: 'word'>, vectorizer_config=None, vectorizer=None, vectorizer_configs={'text2vec-aws': _PropertyVectorizerConfig(skip=False, vectorize_property_name=False)}), _Property(name='chunk', description=None, data_type=<DataType.TEXT: 'text'>, index_filterable=True, index_range_filters=False, index_searchable=True, nested_properties=None, tokenization=<Tokenization.WORD: 'word'>, vectorizer_config=None, vectorizer=None, vectorizer_configs={'text2vec-aws': _PropertyVectorizerConfig(skip=False, vectorize_property_name=False)}), _Property(name='chunk_number', description=None, data_type=<DataType.INT: 'int'>, index_filterable=True, index_range_filters=False, index_searchable=False, nested_properties=None, tokenization=None, vectorizer_config=None, vectorizer=None, vectorizer_configs={'text2vec-aws': _PropertyVectorizerConfig(skip=False, vectorize_property_name=False)}), _Property(name='filename', description=None, data_type=<DataType.TEXT: 'text'>, index_filterable=True, index_range_filters=False, index_searchable=True, nested_properties=None, tokenization=<Tokenization.FIELD: 'field'>, vectorizer_config=None, vectorizer=None, vectorizer_configs={'text2vec-aws': _PropertyVectorizerConfig(skip=False, vectorize_property_name=False)})], references=[], reranker_config=None, vectorizer_config=None, vectorizer=None, vector_config={'default': _NamedVectorConfig(vectorizer=_NamedVectorizerConfig(vectorizer=<Vectorizers.TEXT2VEC_AWS: 'text2vec-aws'>, model={'model': 'amazon.titan-embed-text-v2:0', 'region': 'us-west-2', 'service': 'bedrock', 'vectorizeClassName': True}, source_properties=['document_title', 'chunk']), vector_index_config=_VectorIndexConfigHNSW(multi_vector=None, quantizer=None, cleanup_interval_seconds=300, distance_metric=<VectorDistances.COSINE: 'cosine'>, dynamic_ef_min=100, dynamic_ef_max=500, dynamic_ef_factor=8, ef=-1, ef_construction=128, filter_strategy=<VectorFilterStrategy.SWEEPING: 'sweeping'>, flat_search_cutoff=40000, max_connections=32, skip=False, vector_cache_max_objects=1000000000000))}), 'FinancialArticles': _CollectionConfigSimple(name='FinancialArticles', description=None, generative_config=None, properties=[_Property(name='article_title', description=None, data_type=<DataType.TEXT: 'text'>, index_filterable=True, index_range_filters=False, index_searchable=True, nested_properties=None, tokenization=<Tokenization.WORD: 'word'>, vectorizer_config=None, vectorizer=None, vectorizer_configs={'text2vec-aws': _PropertyVectorizerConfig(skip=False, vectorize_property_name=False)}), _Property(name='article', description=None, data_type=<DataType.TEXT: 'text'>, index_filterable=True, index_range_filters=False, index_searchable=True, nested_properties=None, tokenization=<Tokenization.WORD: 'word'>, vectorizer_config=None, vectorizer=None, vectorizer_configs={'text2vec-aws': _PropertyVectorizerConfig(skip=False, vectorize_property_name=False)}), _Property(name='url', description=None, data_type=<DataType.TEXT: 'text'>, index_filterable=True, index_range_filters=False, index_searchable=True, nested_properties=None, tokenization=<Tokenization.WORD: 'word'>, vectorizer_config=None, vectorizer=None, vectorizer_configs={'text2vec-aws': _PropertyVectorizerConfig(skip=False, vectorize_property_name=False)})], references=[], reranker_config=None, vectorizer_config=None, vectorizer=None, vector_config={'content': _NamedVectorConfig(vectorizer=_NamedVectorizerConfig(vectorizer=<Vectorizers.TEXT2VEC_AWS: 'text2vec-aws'>, model={'model': 'amazon.titan-embed-text-v2:0', 'region': 'us-west-2', 'service': 'bedrock', 'vectorizeClassName': True}, source_properties=['article']), vector_index_config=_VectorIndexConfigHNSW(multi_vector=None, quantizer=None, cleanup_interval_seconds=300, distance_metric=<VectorDistances.COSINE: 'cosine'>, dynamic_ef_min=100, dynamic_ef_max=500, dynamic_ef_factor=8, ef=-1, ef_construction=128, filter_strategy=<VectorFilterStrategy.SWEEPING: 'sweeping'>, flat_search_cutoff=40000, max_connections=32, skip=False, vector_cache_max_objects=1000000000000)), 'title': _NamedVectorConfig(vectorizer=_NamedVectorizerConfig(vectorizer=<Vectorizers.TEXT2VEC_AWS: 'text2vec-aws'>, model={'model': 'amazon.titan-embed-text-v2:0', 'region': 'us-west-2', 'service': 'bedrock', 'vectorizeClassName': True}, source_properties=['article_title']), vector_index_config=_VectorIndexConfigHNSW(multi_vector=None, quantizer=None, cleanup_interval_seconds=300, distance_metric=<VectorDistances.COSINE: 'cosine'>, dynamic_ef_min=100, dynamic_ef_max=500, dynamic_ef_factor=8, ef=-1, ef_construction=128, filter_strategy=<VectorFilterStrategy.SWEEPING: 'sweeping'>, flat_search_cutoff=40000, max_connections=32, skip=False, vector_cache_max_objects=1000000000000))}), 'TestCollection': _CollectionConfigSimple(name='TestCollection', description=None, generative_config=None, properties=[_Property(name='title', description=None, data_type=<DataType.TEXT: 'text'>, index_filterable=True, index_range_filters=False, index_searchable=True, nested_properties=None, tokenization=<Tokenization.WORD: 'word'>, vectorizer_config=None, vectorizer=None, vectorizer_configs={})], references=[], reranker_config=None, vectorizer_config=None, vectorizer=None, vector_config={'default': _NamedVectorConfig(vectorizer=_NamedVectorizerConfig(vectorizer=<Vectorizers.NONE: 'none'>, model={}, source_properties=None), vector_index_config=_VectorIndexConfigHNSW(multi_vector=None, quantizer=None, cleanup_interval_seconds=300, distance_metric=<VectorDistances.COSINE: 'cosine'>, dynamic_ef_min=100, dynamic_ef_max=500, dynamic_ef_factor=8, ef=-1, ef_construction=128, filter_strategy=<VectorFilterStrategy.SWEEPING: 'sweeping'>, flat_search_cutoff=40000, max_connections=32, skip=False, vector_cache_max_objects=1000000000000))})}\n"
     ]
    }
   ],
   "source": [
    "import boto3\n",
    "from boto3 import Session\n",
    "import weaviate\n",
    "import weaviate.classes as wvc\n",
    "\n",
    "# Initialize AWS clients\n",
    "ecs_client = boto3.client('ecs')\n",
    "ec2_client = boto3.client('ec2')\n",
    "\n",
    "# Get the task ARN\n",
    "response = ecs_client.list_tasks(cluster='weaviate-cluster', serviceName='weaviate-service')\n",
    "task_arn = response['taskArns'][0]\n",
    "\n",
    "# Get the ENI ID\n",
    "response = ecs_client.describe_tasks(cluster='weaviate-cluster', tasks=[task_arn])\n",
    "eni_id = next(\n",
    "    detail['value']\n",
    "    for task in response['tasks']\n",
    "    for attachment in task['attachments']\n",
    "    for detail in attachment['details']\n",
    "    if detail['name'] == 'networkInterfaceId'\n",
    ")\n",
    "\n",
    "# Get the Weaviate IP\n",
    "response = ec2_client.describe_network_interfaces(NetworkInterfaceIds=[eni_id])\n",
    "WEAVIATE_IP = response['NetworkInterfaces'][0]['Association']['PublicIp']\n",
    "\n",
    "print(f\"Weaviate IP: {WEAVIATE_IP}\")\n",
    "%store WEAVIATE_IP\n",
    "\n",
    "# Get the AWS Credentials\n",
    "session = Session()\n",
    "credentials = session.get_credentials()\n",
    "current_credentials = credentials.get_frozen_credentials()\n",
    "\n",
    "AWS_ACCESS_KEY = current_credentials.access_key\n",
    "AWS_SECRET_KEY = current_credentials.secret_key\n",
    "AWS_SESSION_TOKEN = current_credentials.token\n",
    "\n",
    "print(f\"AWS_ACCESS_KEY:\\t{AWS_ACCESS_KEY}\")\n",
    "print(f\"AWS_SECRET_KEY:\\t{AWS_SECRET_KEY}\")\n",
    "print(f\"AWS_SESSION_TOKEN:\\t{AWS_SESSION_TOKEN}\")\n",
    "print(f\"WEAVIATE_IP:\\t{WEAVIATE_IP}\")\n",
    "\n",
    "%store AWS_ACCESS_KEY\n",
    "%store AWS_SECRET_KEY\n",
    "%store AWS_SESSION_TOKEN\n",
    "\n",
    "# Connect to Weaviate\n",
    "client = weaviate.connect_to_local(WEAVIATE_IP)\n",
    "\n",
    "collection = client.collections.create(\n",
    "    name=\"TestCollection\",\n",
    "    properties=[\n",
    "        wvc.config.Property(\n",
    "            name=\"title\",\n",
    "            data_type=wvc.config.DataType.TEXT\n",
    "        )\n",
    "    ]\n",
    ")\n",
    "print(\"Created collection.\")\n",
    "collections = client.collections.list_all()\n",
    "client.collections.delete(\"TestCollection\")\n",
    "print(collections)\n",
    "client.close()"
   ]
  },
  {
   "cell_type": "code",
   "execution_count": null,
   "metadata": {},
   "outputs": [],
   "source": []
  }
 ],
 "metadata": {
  "kernelspec": {
   "display_name": "Python 3 (ipykernel)",
   "language": "python",
   "name": "python3"
  },
  "language_info": {
   "codemirror_mode": {
    "name": "ipython",
    "version": 3
   },
   "file_extension": ".py",
   "mimetype": "text/x-python",
   "name": "python",
   "nbconvert_exporter": "python",
   "pygments_lexer": "ipython3",
   "version": "3.12.9"
  }
 },
 "nbformat": 4,
 "nbformat_minor": 4
}
