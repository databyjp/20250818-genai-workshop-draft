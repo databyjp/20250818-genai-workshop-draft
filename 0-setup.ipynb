{
 "cells": [
  {
   "cell_type": "code",
   "execution_count": null,
   "metadata": {
    "execution": {
     "iopub.execute_input": "2025-09-04T10:45:16.452448Z",
     "iopub.status.busy": "2025-09-04T10:45:16.451701Z",
     "iopub.status.idle": "2025-09-04T10:45:18.285548Z",
     "shell.execute_reply": "2025-09-04T10:45:18.284615Z",
     "shell.execute_reply.started": "2025-09-04T10:45:16.452422Z"
    }
   },
   "outputs": [],
   "source": [
    "try:\n",
    "    import weaviate\n",
    "except ImportError:\n",
    "    %pip install -Uqq weaviate-client"
   ]
  },
  {
   "cell_type": "code",
   "execution_count": null,
   "metadata": {
    "execution": {
     "iopub.execute_input": "2025-09-04T10:45:18.286792Z",
     "iopub.status.busy": "2025-09-04T10:45:18.286541Z",
     "iopub.status.idle": "2025-09-04T10:45:20.001003Z",
     "shell.execute_reply": "2025-09-04T10:45:19.999428Z",
     "shell.execute_reply.started": "2025-09-04T10:45:18.286766Z"
    }
   },
   "outputs": [],
   "source": [
    "import boto3\n",
    "from boto3 import Session\n",
    "import weaviate\n",
    "import weaviate.classes as wvc\n",
    "\n",
    "# Initialize AWS clients\n",
    "ecs_client = boto3.client('ecs')\n",
    "ec2_client = boto3.client('ec2')\n",
    "\n",
    "# Get the task ARN\n",
    "response = ecs_client.list_tasks(cluster='weaviate-cluster', serviceName='weaviate-service')\n",
    "task_arn = response['taskArns'][0]\n",
    "\n",
    "# Get the ENI ID\n",
    "response = ecs_client.describe_tasks(cluster='weaviate-cluster', tasks=[task_arn])\n",
    "eni_id = next(\n",
    "    detail['value']\n",
    "    for task in response['tasks']\n",
    "    for attachment in task['attachments']\n",
    "    for detail in attachment['details']\n",
    "    if detail['name'] == 'networkInterfaceId'\n",
    ")\n",
    "\n",
    "# Get the Weaviate IP\n",
    "response = ec2_client.describe_network_interfaces(NetworkInterfaceIds=[eni_id])\n",
    "WEAVIATE_IP = response['NetworkInterfaces'][0]['Association']['PublicIp']\n",
    "\n",
    "print(f\"Weaviate IP: {WEAVIATE_IP}\")\n",
    "%store WEAVIATE_IP\n",
    "\n",
    "# Get the AWS Credentials\n",
    "session = Session()\n",
    "credentials = session.get_credentials()\n",
    "current_credentials = credentials.get_frozen_credentials()\n",
    "\n",
    "AWS_ACCESS_KEY = current_credentials.access_key\n",
    "AWS_SECRET_KEY = current_credentials.secret_key\n",
    "AWS_SESSION_TOKEN = current_credentials.token\n",
    "\n",
    "print(f\"AWS_ACCESS_KEY:\\t{AWS_ACCESS_KEY}\")\n",
    "print(f\"AWS_SECRET_KEY:\\t{AWS_SECRET_KEY}\")\n",
    "print(f\"AWS_SESSION_TOKEN:\\t{AWS_SESSION_TOKEN}\")\n",
    "print(f\"WEAVIATE_IP:\\t{WEAVIATE_IP}\")\n",
    "\n",
    "%store AWS_ACCESS_KEY\n",
    "%store AWS_SECRET_KEY\n",
    "%store AWS_SESSION_TOKEN\n",
    "\n",
    "# Connect to Weaviate\n",
    "client = weaviate.connect_to_local(WEAVIATE_IP)\n",
    "\n",
    "collection = client.collections.create(\n",
    "    name=\"TestCollection\",\n",
    "    properties=[\n",
    "        wvc.config.Property(\n",
    "            name=\"title\",\n",
    "            data_type=wvc.config.DataType.TEXT\n",
    "        )\n",
    "    ]\n",
    ")\n",
    "print(\"Created collection.\")\n",
    "collections = client.collections.list_all()\n",
    "client.collections.delete(\"TestCollection\")\n",
    "print(collections)\n",
    "client.close()"
   ]
  },
  {
   "cell_type": "code",
   "execution_count": null,
   "metadata": {
    "execution": {
     "iopub.execute_input": "2025-09-04T10:53:57.602074Z",
     "iopub.status.busy": "2025-09-04T10:53:57.601777Z",
     "iopub.status.idle": "2025-09-04T10:54:15.854596Z",
     "shell.execute_reply": "2025-09-04T10:54:15.853656Z",
     "shell.execute_reply.started": "2025-09-04T10:53:57.602049Z"
    }
   },
   "outputs": [],
   "source": [
    "!pip install -Uqq docling"
   ]
  },
  {
   "cell_type": "code",
   "execution_count": null,
   "metadata": {
    "execution": {
     "iopub.execute_input": "2025-09-04T10:55:12.861485Z",
     "iopub.status.busy": "2025-09-04T10:55:12.861201Z",
     "iopub.status.idle": "2025-09-04T10:55:16.471789Z",
     "shell.execute_reply": "2025-09-04T10:55:16.470734Z",
     "shell.execute_reply.started": "2025-09-04T10:55:12.861461Z"
    }
   },
   "outputs": [],
   "source": [
    "!pip install -Uqq pymupdf"
   ]
  },
  {
   "cell_type": "code",
   "execution_count": null,
   "metadata": {
    "execution": {
     "iopub.execute_input": "2025-09-04T10:55:19.103159Z",
     "iopub.status.busy": "2025-09-04T10:55:19.102835Z",
     "iopub.status.idle": "2025-09-04T10:56:14.153422Z",
     "shell.execute_reply": "2025-09-04T10:56:14.152485Z",
     "shell.execute_reply.started": "2025-09-04T10:55:19.103133Z"
    }
   },
   "outputs": [],
   "source": [
    "%%bash\n",
    "python pdf_to_img.py\n",
    "python pdf_to_md.py\n",
    "echo \"Setup complete!\""
   ]
  },
  {
   "cell_type": "code",
   "execution_count": null,
   "metadata": {},
   "outputs": [],
   "source": []
  }
 ],
 "metadata": {
  "kernelspec": {
   "display_name": "202508-aws-genai-workshop-material",
   "language": "python",
   "name": "python3"
  },
  "language_info": {
   "codemirror_mode": {
    "name": "ipython",
    "version": 3
   },
   "file_extension": ".py",
   "mimetype": "text/x-python",
   "name": "python",
   "nbconvert_exporter": "python",
   "pygments_lexer": "ipython3",
   "version": "3.10.16"
  }
 },
 "nbformat": 4,
 "nbformat_minor": 4
}
