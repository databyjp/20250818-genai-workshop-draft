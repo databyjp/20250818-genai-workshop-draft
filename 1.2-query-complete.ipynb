{
 "cells": [
  {
   "cell_type": "markdown",
   "metadata": {},
   "source": [
    "# Query data\n",
    "\n",
    "Learn three search methods: **Vector** (semantic similarity), **Keyword** (BM25), and **Hybrid** (combines both)."
   ]
  },
  {
   "cell_type": "markdown",
   "metadata": {},
   "source": [
    "## Connect to Weaviate\n",
    "\n",
    "Connect to a Weaviate instance."
   ]
  },
  {
   "cell_type": "code",
   "execution_count": 1,
   "metadata": {},
   "outputs": [
    {
     "data": {
      "text/plain": [
       "True"
      ]
     },
     "execution_count": 1,
     "metadata": {},
     "output_type": "execute_result"
    }
   ],
   "source": [
    "import weaviate\n",
    "from weaviate.classes.init import Auth\n",
    "import os\n",
    "# from weaviate.classes.init import AdditionalConfig, Timeout\n",
    "\n",
    "# client = weaviate.connect_to_custom(\n",
    "#     http_host=\"<http_host>\",\n",
    "#     http_port=\"<http_port>\",\n",
    "#     grpc_host=\"<grpc_host>\",\n",
    "#     grpc_port=\"<grpc_port>\",\n",
    "# )\n",
    "\n",
    "client = weaviate.connect_to_weaviate_cloud(\n",
    "    cluster_url=os.environ[\"WCD_TEST_URL\"],\n",
    "    auth_credentials=os.environ[\"WCD_TEST_KEY\"]\n",
    ")\n",
    "\n",
    "client.is_ready()"
   ]
  },
  {
   "cell_type": "markdown",
   "metadata": {},
   "source": [
    "### Helper function\n",
    "\n",
    "Get our collection of financial articles (5000 articles total)."
   ]
  },
  {
   "cell_type": "code",
   "execution_count": null,
   "metadata": {},
   "outputs": [],
   "source": [
    "articles = client.collections.use(\"FinancialArticles\")"
   ]
  },
  {
   "cell_type": "code",
   "execution_count": 3,
   "metadata": {},
   "outputs": [
    {
     "data": {
      "text/plain": [
       "100"
      ]
     },
     "execution_count": 3,
     "metadata": {},
     "output_type": "execute_result"
    }
   ],
   "source": [
    "len(articles)"
   ]
  },
  {
   "cell_type": "markdown",
   "metadata": {},
   "source": [
    "## Vector search\n",
    "\n",
    "![images/search_vector.png](images/search_vector.png)\n",
    "\n",
    "[Docs - near_text](https://weaviate.io/developers/weaviate/search/similarity#an-input-medium)"
   ]
  },
  {
   "cell_type": "code",
   "execution_count": 4,
   "metadata": {},
   "outputs": [
    {
     "name": "stdout",
     "output_type": "stream",
     "text": [
      "Wednesday Sector Laggards: Utilities, Technology & Communications\n",
      "Technology Sector Update for 07/14/2023: ASML, WDC, META, OPRA\n",
      "Does Nvidia Have a $1 Trillion Market Opportunity?\n",
      "A Bull Market Is Coming: 2 Phenomenal Growth Stocks Insiders Are Buying Like There's No Tomorrow\n",
      "Analog Devices (ADI) Q4 Earnings to Ride on End Market Growth\n"
     ]
    }
   ],
   "source": [
    "response = articles.query.near_text(\n",
    "    query=\"tech market trends\",\n",
    "    limit=5,\n",
    "    target_vector=\"title\"\n",
    ")\n",
    "\n",
    "for item in response.objects:\n",
    "    print(item.properties[\"article_title\"])"
   ]
  },
  {
   "cell_type": "code",
   "execution_count": 5,
   "metadata": {},
   "outputs": [
    {
     "name": "stdout",
     "output_type": "stream",
     "text": [
      "Wednesday Sector Laggards: Utilities, Technology & Communications\n",
      "0.6580092310905457\n",
      "Technology Sector Update for 07/14/2023: ASML, WDC, META, OPRA\n",
      "0.6774057149887085\n",
      "Does Nvidia Have a $1 Trillion Market Opportunity?\n",
      "0.6901583075523376\n",
      "A Bull Market Is Coming: 2 Phenomenal Growth Stocks Insiders Are Buying Like There's No Tomorrow\n",
      "0.7020165920257568\n",
      "Analog Devices (ADI) Q4 Earnings to Ride on End Market Growth\n",
      "0.707457423210144\n"
     ]
    }
   ],
   "source": [
    "from weaviate.classes.query import MetadataQuery\n",
    "\n",
    "response = articles.query.near_text(\n",
    "    query=\"tech market trends\",\n",
    "    limit=5,\n",
    "    target_vector=\"title\",\n",
    "    return_metadata=MetadataQuery(distance=True)\n",
    ")\n",
    "\n",
    "for item in response.objects:\n",
    "    print(item.properties[\"article_title\"])\n",
    "    print(item.metadata.distance)"
   ]
  },
  {
   "cell_type": "markdown",
   "metadata": {},
   "source": [
    "## Filters\n",
    "\n",
    "Add conditions to narrow down search results before querying."
   ]
  },
  {
   "cell_type": "markdown",
   "metadata": {},
   "source": [
    "### Fetch with filters"
   ]
  },
  {
   "cell_type": "code",
   "execution_count": 6,
   "metadata": {},
   "outputs": [
    {
     "name": "stdout",
     "output_type": "stream",
     "text": [
      "Returned object count: 0\n"
     ]
    }
   ],
   "source": [
    "from weaviate.classes.query import Filter\n",
    "\n",
    "response = articles.query.fetch_objects(\n",
    "    limit=5,\n",
    "    filters=Filter.by_property(\"article_title\").like(\"apple\")\n",
    ")\n",
    "\n",
    "print(f\"Returned object count: {len(response.objects)}\")\n",
    "\n",
    "for item in response.objects:\n",
    "    print(item.properties[\"article_title\"])"
   ]
  },
  {
   "cell_type": "code",
   "execution_count": 7,
   "metadata": {},
   "outputs": [
    {
     "name": "stdout",
     "output_type": "stream",
     "text": [
      "Returned object count: 0\n"
     ]
    }
   ],
   "source": [
    "from weaviate.classes.query import Filter\n",
    "\n",
    "response = articles.query.fetch_objects(\n",
    "    limit=5,\n",
    "    filters=(\n",
    "        Filter.by_property(\"article_title\").like(\"aust*\") &\n",
    "        Filter.by_property(\"article_title\").like(\"ev\")\n",
    "    )\n",
    ")\n",
    "\n",
    "print(f\"Returned object count: {len(response.objects)}\")\n",
    "\n",
    "for item in response.objects:\n",
    "    print(item.properties[\"article_title\"])"
   ]
  },
  {
   "cell_type": "markdown",
   "metadata": {},
   "source": [
    "## Search with filters\n",
    "\n",
    "Combine vector search with filters for precise results."
   ]
  },
  {
   "cell_type": "code",
   "execution_count": 8,
   "metadata": {},
   "outputs": [
    {
     "name": "stdout",
     "output_type": "stream",
     "text": [
      "Returned object count: 0\n"
     ]
    }
   ],
   "source": [
    "from weaviate.classes.query import Filter\n",
    "\n",
    "response = articles.query.near_text(\n",
    "    query=\"strategy\",\n",
    "    target_vector=\"title\",\n",
    "    limit=5,\n",
    "    filters=Filter.by_property(\"article_title\").like(\"netflix\")\n",
    ")\n",
    "\n",
    "print(f\"Returned object count: {len(response.objects)}\")\n",
    "\n",
    "for item in response.objects:\n",
    "    print(item.properties[\"article_title\"])"
   ]
  },
  {
   "cell_type": "markdown",
   "metadata": {},
   "source": [
    "## Keyword Search\n",
    "\n",
    "![images/search_keyword.png](images/search_keyword.png)\n",
    "\n",
    "[Docs - keyword/bm25](https://weaviate.io/developers/weaviate/search/bm25)"
   ]
  },
  {
   "cell_type": "code",
   "execution_count": 9,
   "metadata": {},
   "outputs": [
    {
     "name": "stdout",
     "output_type": "stream",
     "text": [
      "Microsoft says product chief Panay to leave, report says headed to Amazon\n",
      "Cirrus Logic (CRUS) Q2 Earnings & Revenues Top, Shares Up\n",
      "Ansys Q2 22 Earnings Conference Call At 8:30 AM ET\n",
      "Analog Devices (ADI) Q4 Earnings to Ride on End Market Growth\n",
      "PepsiCo (PEP) Q4 Earnings: Taking a Look at Key Metrics Versus Estimates\n"
     ]
    }
   ],
   "source": [
    "response = articles.query.bm25(\n",
    "    query=\"earnings report\",\n",
    "    query_properties=[\"article_title\"],\n",
    "    limit=5,\n",
    ")\n",
    "\n",
    "for item in response.objects:\n",
    "    print(item.properties[\"article_title\"])"
   ]
  },
  {
   "cell_type": "code",
   "execution_count": 10,
   "metadata": {},
   "outputs": [
    {
     "name": "stdout",
     "output_type": "stream",
     "text": [
      "Microsoft says product chief Panay to leave, report says headed to Amazon\n",
      "1.4298129081726074\n",
      "Cirrus Logic (CRUS) Q2 Earnings & Revenues Top, Shares Up\n",
      "1.0003288984298706\n",
      "Ansys Q2 22 Earnings Conference Call At 8:30 AM ET\n",
      "0.92288738489151\n",
      "Analog Devices (ADI) Q4 Earnings to Ride on End Market Growth\n",
      "0.92288738489151\n",
      "PepsiCo (PEP) Q4 Earnings: Taking a Look at Key Metrics Versus Estimates\n",
      "0.8884954452514648\n"
     ]
    }
   ],
   "source": [
    "from weaviate.classes.query import MetadataQuery\n",
    "\n",
    "response = articles.query.bm25(\n",
    "    query=\"earnings report\",\n",
    "    query_properties=[\"article_title\"],\n",
    "    limit=5,\n",
    "    return_metadata=MetadataQuery(score=True)\n",
    ")\n",
    "\n",
    "for item in response.objects:\n",
    "    print(item.properties[\"article_title\"])\n",
    "    print(item.metadata.score)"
   ]
  },
  {
   "cell_type": "code",
   "execution_count": 11,
   "metadata": {},
   "outputs": [
    {
     "name": "stdout",
     "output_type": "stream",
     "text": [
      "Cirrus Logic (CRUS) Q2 Earnings & Revenues Top, Shares Up\n",
      "2.1827924251556396\n",
      "Nokia (NOK) Solutions to Power Charter's Network Connectivity\n",
      "2.061749219894409\n",
      "Dollar Tree (DLTR) Stock Moves -0.48%: What You Should Know\n",
      "2.014293909072876\n",
      "Pre-Market Most Active for Feb 4, 2014 : JCP, ATMI, KORS, SIRI, ZNGA, BAC, XIV, FB, ARMH, ALU, NMR, DB\n",
      "1.9457871913909912\n",
      "Stocks End Mostly Lower in Late Selloff\n",
      "1.8376561403274536\n"
     ]
    }
   ],
   "source": [
    "from weaviate.classes.query import MetadataQuery\n",
    "\n",
    "response = articles.query.bm25(\n",
    "    query=\"earnings report\",\n",
    "    query_properties=[\"article_title\", \"article\"],\n",
    "    limit=5,\n",
    "    return_metadata=MetadataQuery(score=True)\n",
    ")\n",
    "\n",
    "for item in response.objects:\n",
    "    print(item.properties[\"article_title\"])\n",
    "    print(item.metadata.score)"
   ]
  },
  {
   "cell_type": "code",
   "execution_count": 12,
   "metadata": {},
   "outputs": [
    {
     "name": "stdout",
     "output_type": "stream",
     "text": [
      "Nokia (NOK) Solutions to Power Charter's Network Connectivity\n",
      "6.185247421264648\n",
      "Dollar Tree (DLTR) Stock Moves -0.48%: What You Should Know\n",
      "6.042881488800049\n",
      "Pre-Market Most Active for Feb 4, 2014 : JCP, ATMI, KORS, SIRI, ZNGA, BAC, XIV, FB, ARMH, ALU, NMR, DB\n",
      "5.8373613357543945\n",
      "Stocks End Mostly Lower in Late Selloff\n",
      "5.51296854019165\n",
      "Cirrus Logic (CRUS) Q2 Earnings & Revenues Top, Shares Up\n",
      "5.491669654846191\n"
     ]
    }
   ],
   "source": [
    "from weaviate.classes.query import MetadataQuery\n",
    "\n",
    "response = articles.query.bm25(\n",
    "    query=\"earnings report\",\n",
    "    query_properties=[\"article_title\", \"article^3\"],\n",
    "    limit=5,\n",
    "    return_metadata=MetadataQuery(score=True)\n",
    ")\n",
    "\n",
    "for item in response.objects:\n",
    "    print(item.properties[\"article_title\"])\n",
    "    print(item.metadata.score)"
   ]
  },
  {
   "cell_type": "markdown",
   "metadata": {},
   "source": [
    "## Hybrid search\n",
    "\n",
    "![images/search_hybrid.png](images/search_hybrid.png)\n",
    "\n",
    "[Docs - hybrid](https://weaviate.io/developers/weaviate/search/hybrid)"
   ]
  },
  {
   "cell_type": "code",
   "execution_count": 13,
   "metadata": {},
   "outputs": [
    {
     "name": "stdout",
     "output_type": "stream",
     "text": [
      "JD.com (JD) to Report Q3 Earnings: What's in the Offing?\n",
      "Berkshire Hathaway Q2 Earnings Lag; to Ink its Biggest Deal - Analyst Blog\n",
      "Applied Materials (AMAT) Surpasses Q1 Earnings and Revenue Estimates\n",
      "Validea Guru Fundamental Report for AAPL - 2/25/2023\n",
      "Fortinet's Q4 Earnings Lag, Rev Beats - Analyst Blog\n"
     ]
    }
   ],
   "source": [
    "response = articles.query.hybrid(\n",
    "    query=\"earnings report\",\n",
    "    query_properties=[\"article_title\"],\n",
    "    limit=5,\n",
    "    alpha=0.7,\n",
    "    target_vector=\"title\"\n",
    ")\n",
    "\n",
    "for item in response.objects:\n",
    "    print(item.properties[\"article_title\"])"
   ]
  },
  {
   "cell_type": "markdown",
   "metadata": {},
   "source": [
    "### Hybrid - Explain score\n",
    "\n",
    "See how hybrid search combines vector and keyword scores."
   ]
  },
  {
   "cell_type": "code",
   "execution_count": 14,
   "metadata": {},
   "outputs": [
    {
     "name": "stdout",
     "output_type": "stream",
     "text": [
      "JD.com (JD) to Report Q3 Earnings: What's in the Offing?\n",
      "1.0\n",
      "\n",
      "Hybrid (Result Set keyword,bm25) Document de2e20e7-017b-5582-8610-1354b7ff9d37: original score 2.3183084, normalized score: 0.3 - \n",
      "Hybrid (Result Set vector,hybridVector) Document de2e20e7-017b-5582-8610-1354b7ff9d37: original score 0.29265332, normalized score: 0.7\n",
      "Berkshire Hathaway Q2 Earnings Lag; to Ink its Biggest Deal - Analyst Blog\n",
      "0.675672173500061\n",
      "\n",
      "Hybrid (Result Set keyword,bm25) Document 3ebf30a7-badd-5e3b-9a08-066d0e18ca7a: original score 0.88849545, normalized score: 0.0065512634 - \n",
      "Hybrid (Result Set vector,hybridVector) Document 3ebf30a7-badd-5e3b-9a08-066d0e18ca7a: original score 0.2802862, normalized score: 0.6691209\n",
      "Applied Materials (AMAT) Surpasses Q1 Earnings and Revenue Estimates\n",
      "0.6292091012001038\n",
      "\n",
      "Hybrid (Result Set keyword,bm25) Document d9d2b595-dd70-5eee-98e6-a865f97f2fcd: original score 1.0003289, normalized score: 0.029503489 - \n",
      "Hybrid (Result Set vector,hybridVector) Document d9d2b595-dd70-5eee-98e6-a865f97f2fcd: original score 0.25248528, normalized score: 0.59970564\n",
      "Validea Guru Fundamental Report for AAPL - 2/25/2023\n",
      "0.6282263398170471\n",
      "\n",
      "Hybrid (Result Set keyword,bm25) Document 99dc565c-7f05-5716-bc85-587dc0d34b30: original score 1.6097809, normalized score: 0.15458483 - \n",
      "Hybrid (Result Set vector,hybridVector) Document 99dc565c-7f05-5716-bc85-587dc0d34b30: original score 0.20199639, normalized score: 0.4736415\n",
      "Fortinet's Q4 Earnings Lag, Rev Beats - Analyst Blog\n",
      "0.5949819087982178\n",
      "\n",
      "Hybrid (Result Set keyword,bm25) Document fda528c4-c8ce-564e-a8c1-2d30fc4dbe35: original score 1.0003289, normalized score: 0.029503489 - \n",
      "Hybrid (Result Set vector,hybridVector) Document fda528c4-c8ce-564e-a8c1-2d30fc4dbe35: original score 0.23877722, normalized score: 0.56547844\n"
     ]
    }
   ],
   "source": [
    "from weaviate.classes.query import MetadataQuery\n",
    "\n",
    "response = articles.query.hybrid(\n",
    "    query=\"earnings report\",\n",
    "    query_properties=[\"article_title\"],\n",
    "    limit=5,\n",
    "    alpha=0.7,\n",
    "    target_vector=\"title\",\n",
    "    return_metadata=MetadataQuery(score=True, explain_score=True)\n",
    ")\n",
    "\n",
    "for item in response.objects:\n",
    "    print(item.properties[\"article_title\"])\n",
    "    print(item.metadata.score)\n",
    "    print(item.metadata.explain_score)"
   ]
  },
  {
   "cell_type": "markdown",
   "metadata": {},
   "source": [
    "## Close the client\n",
    "\n",
    "Always close your connection when finished."
   ]
  },
  {
   "cell_type": "code",
   "execution_count": 15,
   "metadata": {},
   "outputs": [],
   "source": [
    "client.close()"
   ]
  }
 ],
 "metadata": {
  "kernelspec": {
   "display_name": "202508-aws-genai-workshop-material",
   "language": "python",
   "name": "python3"
  },
  "language_info": {
   "codemirror_mode": {
    "name": "ipython",
    "version": 3
   },
   "file_extension": ".py",
   "mimetype": "text/x-python",
   "name": "python",
   "nbconvert_exporter": "python",
   "pygments_lexer": "ipython3",
   "version": "3.10.16"
  }
 },
 "nbformat": 4,
 "nbformat_minor": 2
}
