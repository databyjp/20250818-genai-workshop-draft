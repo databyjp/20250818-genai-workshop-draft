{
 "cells": [
  {
   "cell_type": "markdown",
   "metadata": {},
   "source": "# Query data\n\nLearn three search methods: **Vector** (semantic similarity), **Keyword** (BM25), and **Hybrid** (combines both).\n\n#### Get keys and urls"
  },
  {
   "cell_type": "markdown",
   "metadata": {},
   "source": "## Connect to Weaviate\n\nConnect to a Weaviate instance."
  },
  {
   "cell_type": "code",
   "execution_count": null,
   "metadata": {},
   "outputs": [
    {
     "data": {
      "text/plain": [
       "True"
      ]
     },
     "execution_count": 44,
     "metadata": {},
     "output_type": "execute_result"
    }
   ],
   "source": [
    "import weaviate\n",
    "from weaviate.classes.init import Auth\n",
    "# from weaviate.classes.init import AdditionalConfig, Timeout\n",
    "\n",
    "# client = weaviate.connect_to_custom(\n",
    "#     http_host=\"<http_host>\",\n",
    "#     http_port=\"<http_port>\",\n",
    "#     grpc_host=\"<grpc_host>\",\n",
    "#     grpc_port=\"<grpc_port>\",\n",
    "# )\n",
    "\n",
    "client = weaviate.connect_to_weaviate_cloud(\n",
    "    cluster_url=os.environ[\"WCD_TEST_URL\"],\n",
    "    auth_credentials=os.environ[\"WCD_TEST_KEY\"]\n",
    ")\n",
    "\n",
    "client.is_ready()"
   ]
  },
  {
   "cell_type": "markdown",
   "metadata": {},
   "source": "### Helper function\n\nGet our collection of financial articles (5000 articles total)."
  },
  {
   "cell_type": "code",
   "execution_count": 45,
   "metadata": {},
   "outputs": [],
   "source": [
    "articles = client.collections.get(\"FinancialArticles\")"
   ]
  },
  {
   "cell_type": "code",
   "execution_count": 46,
   "metadata": {},
   "outputs": [
    {
     "data": {
      "text/plain": [
       "5000"
      ]
     },
     "execution_count": 46,
     "metadata": {},
     "output_type": "execute_result"
    }
   ],
   "source": [
    "len(articles)"
   ]
  },
  {
   "cell_type": "markdown",
   "metadata": {},
   "source": [
    "## Vector search\n",
    "\n",
    "![images/search_vector.png](images/search_vector.png)\n",
    "\n",
    "[Docs - near_text](https://weaviate.io/developers/weaviate/search/similarity#an-input-medium)"
   ]
  },
  {
   "cell_type": "code",
   "execution_count": 47,
   "metadata": {},
   "outputs": [
    {
     "name": "stdout",
     "output_type": "stream",
     "text": [
      "GLOBAL MARKETS-US tech stocks gain in mixed global moves as inflation lingers\n",
      "2 Tech Stocks Riding Huge Megatrends\n",
      "Buy 5 Tech Stocks at Attractive Valuation to Tap Market Rally\n",
      "Market Split Continues With Chips, Leading Techs Retreating; S&P 500 Futures\n",
      "Sector Update: Technology Stocks Pressured in Pre-Market\n"
     ]
    }
   ],
   "source": [
    "response = articles.query.near_text(\n",
    "    query=\"tech market trends\",\n",
    "    limit=5,\n",
    "    target_vector=\"title\"\n",
    ")\n",
    "\n",
    "for item in response.objects:\n",
    "    print(item.properties[\"article_title\"])"
   ]
  },
  {
   "cell_type": "code",
   "execution_count": 48,
   "metadata": {},
   "outputs": [
    {
     "name": "stdout",
     "output_type": "stream",
     "text": [
      "GLOBAL MARKETS-US tech stocks gain in mixed global moves as inflation lingers\n",
      "0.5290522575378418\n",
      "2 Tech Stocks Riding Huge Megatrends\n",
      "0.5424867272377014\n",
      "Buy 5 Tech Stocks at Attractive Valuation to Tap Market Rally\n",
      "0.5463999509811401\n",
      "Market Split Continues With Chips, Leading Techs Retreating; S&P 500 Futures\n",
      "0.5475603938102722\n",
      "Sector Update: Technology Stocks Pressured in Pre-Market\n",
      "0.5492198467254639\n"
     ]
    }
   ],
   "source": [
    "from weaviate.classes.query import MetadataQuery\n",
    "\n",
    "response = articles.query.near_text(\n",
    "    query=\"tech market trends\",\n",
    "    limit=5,\n",
    "    target_vector=\"title\",\n",
    "    return_metadata=MetadataQuery(distance=True)\n",
    ")\n",
    "\n",
    "for item in response.objects:\n",
    "    print(item.properties[\"article_title\"])\n",
    "    print(item.metadata.distance)"
   ]
  },
  {
   "cell_type": "markdown",
   "metadata": {},
   "source": "## Filters\n\nAdd conditions to narrow down search results before querying."
  },
  {
   "cell_type": "markdown",
   "metadata": {},
   "source": [
    "### Fetch with filters"
   ]
  },
  {
   "cell_type": "code",
   "execution_count": 49,
   "metadata": {},
   "outputs": [
    {
     "name": "stdout",
     "output_type": "stream",
     "text": [
      "Returned object count: 5\n",
      "Qualcomm, Jabil: Should Apple's Suppliers Look Forward To A Strong 2021?\n",
      "Apple Implications Overshadow Qualcomm’s Earnings Beat\n",
      "Apple's Steady Results Prove Why It's the Ultimate Warren Buffett Stock\n",
      "Thursday’s Vital Data: Intel, Apple and Nvidia\n",
      "Buying This Fund Is Like Buying Apple With a 12.1% Dividend\n"
     ]
    }
   ],
   "source": [
    "from weaviate.classes.query import Filter\n",
    "\n",
    "response = articles.query.fetch_objects(\n",
    "    limit=5,\n",
    "    filters=Filter.by_property(\"article_title\").like(\"apple\")\n",
    ")\n",
    "\n",
    "print(f\"Returned object count: {len(response.objects)}\")\n",
    "\n",
    "for item in response.objects:\n",
    "    print(item.properties[\"article_title\"])"
   ]
  },
  {
   "cell_type": "code",
   "execution_count": 50,
   "metadata": {},
   "outputs": [
    {
     "name": "stdout",
     "output_type": "stream",
     "text": [
      "Returned object count: 2\n",
      "ANALYSIS-Australia's push for faster EV uptake will be slow to charge\n",
      "BMW AG (BAMXF) Announces Ambitious EV Plans in China, Austria\n"
     ]
    }
   ],
   "source": [
    "from weaviate.classes.query import Filter\n",
    "\n",
    "response = articles.query.fetch_objects(\n",
    "    limit=5,\n",
    "    filters=(\n",
    "        Filter.by_property(\"article_title\").like(\"aust*\") &\n",
    "        Filter.by_property(\"article_title\").like(\"ev\")\n",
    "    )\n",
    ")\n",
    "\n",
    "print(f\"Returned object count: {len(response.objects)}\")\n",
    "\n",
    "for item in response.objects:\n",
    "    print(item.properties[\"article_title\"])"
   ]
  },
  {
   "cell_type": "markdown",
   "metadata": {},
   "source": "## Search with filters\n\nCombine vector search with filters for precise results."
  },
  {
   "cell_type": "code",
   "execution_count": 51,
   "metadata": {},
   "outputs": [
    {
     "name": "stdout",
     "output_type": "stream",
     "text": [
      "Returned object count: 5\n",
      "3 Key Ways Netflix Has Changed Its Content Strategy\n",
      "Could This Be Netflix's Next Big Move?\n",
      "PREVIEW-Netflix shielded from Hollywood strike by global crew, strong pipeline\n",
      "Comcast Might Be the Key to Netflix's Continued Subscriber Growth\n",
      "SA Stocks To Watch: Netflix To The Rescue?\n"
     ]
    }
   ],
   "source": [
    "from weaviate.classes.query import Filter\n",
    "\n",
    "response = articles.query.near_text(\n",
    "    query=\"strategy\",\n",
    "    target_vector=\"title\",\n",
    "    limit=5,\n",
    "    filters=Filter.by_property(\"article_title\").like(\"netflix\")\n",
    ")\n",
    "\n",
    "print(f\"Returned object count: {len(response.objects)}\")\n",
    "\n",
    "for item in response.objects:\n",
    "    print(item.properties[\"article_title\"])"
   ]
  },
  {
   "cell_type": "markdown",
   "metadata": {},
   "source": [
    "## Keyword Search\n",
    "\n",
    "![images/search_keyword.png](images/search_keyword.png)\n",
    "\n",
    "[Docs - keyword/bm25](https://weaviate.io/developers/weaviate/search/bm25)"
   ]
  },
  {
   "cell_type": "code",
   "execution_count": 55,
   "metadata": {},
   "outputs": [
    {
     "name": "stdout",
     "output_type": "stream",
     "text": [
      "5 Big Takeaways From Costco's Earnings Report\n",
      "My Take on AMD's Strong Earnings Report\n",
      "Walgreens Boots Alliance to report earnings March 28\n",
      "Here's What Stood Out in Starbucks' Earnings Report\n",
      "1 Number To Watch in Alphabet's Earnings Report\n"
     ]
    }
   ],
   "source": [
    "response = articles.query.bm25(\n",
    "    query=\"earnings report\",\n",
    "    query_properties=[\"article_title\"],\n",
    "    limit=5,\n",
    ")\n",
    "\n",
    "for item in response.objects:\n",
    "    print(item.properties[\"article_title\"])"
   ]
  },
  {
   "cell_type": "code",
   "execution_count": 56,
   "metadata": {},
   "outputs": [
    {
     "name": "stdout",
     "output_type": "stream",
     "text": [
      "5 Big Takeaways From Costco's Earnings Report\n",
      "2.764371156692505\n",
      "My Take on AMD's Strong Earnings Report\n",
      "2.764371156692505\n",
      "Walgreens Boots Alliance to report earnings March 28\n",
      "2.764371156692505\n",
      "Here's What Stood Out in Starbucks' Earnings Report\n",
      "2.6476149559020996\n",
      "1 Number To Watch in Alphabet's Earnings Report\n",
      "2.6476149559020996\n"
     ]
    }
   ],
   "source": [
    "from weaviate.classes.query import MetadataQuery\n",
    "\n",
    "response = articles.query.bm25(\n",
    "    query=\"earnings report\",\n",
    "    query_properties=[\"article_title\"],\n",
    "    limit=5,\n",
    "    return_metadata=MetadataQuery(score=True)\n",
    ")\n",
    "\n",
    "for item in response.objects:\n",
    "    print(item.properties[\"article_title\"])\n",
    "    print(item.metadata.score)"
   ]
  },
  {
   "cell_type": "code",
   "execution_count": 57,
   "metadata": {},
   "outputs": [
    {
     "name": "stdout",
     "output_type": "stream",
     "text": [
      "Drug Stocks' Earnings Previews: KERX, BXLT, BMRN, AGEN, IMGN\n",
      "2.3673558235168457\n",
      "Taking Stock of the Q3 Earnings season - Analyst Blog\n",
      "2.3612799644470215\n",
      "Revenue Weakness Stands Out in Q3 Reports\n",
      "2.3432424068450928\n",
      "Drug Stocks Earnings Slated for Feb 14: INCY, PRTA & More\n",
      "2.3295507431030273\n",
      "Q4 Earnings Inform the Market - Ahead of Wall Street\n",
      "2.3190536499023438\n"
     ]
    }
   ],
   "source": [
    "from weaviate.classes.query import MetadataQuery\n",
    "\n",
    "response = articles.query.bm25(\n",
    "    query=\"earnings report\",\n",
    "    query_properties=[\"article_title\", \"article\"],\n",
    "    limit=5,\n",
    "    return_metadata=MetadataQuery(score=True)\n",
    ")\n",
    "\n",
    "for item in response.objects:\n",
    "    print(item.properties[\"article_title\"])\n",
    "    print(item.metadata.score)"
   ]
  },
  {
   "cell_type": "code",
   "execution_count": 58,
   "metadata": {},
   "outputs": [
    {
     "name": "stdout",
     "output_type": "stream",
     "text": [
      "Analog Devices (ADI) Q4 Earnings to Ride on End Market Growth\n",
      "6.443612098693848\n",
      "Nokia (NOK) Solutions to Power Charter's Network Connectivity\n",
      "6.225020885467529\n",
      "Why Seagate (STX) Stock is a Must Have in Your Portfolio\n",
      "6.199409484863281\n",
      "Dollar Tree (DLTR) Stock Moves -0.48%: What You Should Know\n",
      "6.085502624511719\n",
      "Dow Takes Back 13,000, But Can't Reclaim Key Trendline Support\n",
      "6.079561710357666\n"
     ]
    }
   ],
   "source": [
    "from weaviate.classes.query import MetadataQuery\n",
    "\n",
    "response = articles.query.bm25(\n",
    "    query=\"earnings report\",\n",
    "    query_properties=[\"article_title\", \"article^3\"],\n",
    "    limit=5,\n",
    "    return_metadata=MetadataQuery(score=True)\n",
    ")\n",
    "\n",
    "for item in response.objects:\n",
    "    print(item.properties[\"article_title\"])\n",
    "    print(item.metadata.score)"
   ]
  },
  {
   "cell_type": "markdown",
   "metadata": {},
   "source": [
    "## Hybrid search\n",
    "\n",
    "![images/search_hybrid.png](images/search_hybrid.png)\n",
    "\n",
    "[Docs - hybrid](https://weaviate.io/developers/weaviate/search/hybrid)"
   ]
  },
  {
   "cell_type": "code",
   "execution_count": 60,
   "metadata": {},
   "outputs": [
    {
     "name": "stdout",
     "output_type": "stream",
     "text": [
      "Weekly Market Summary: Investors Digest Strong Earnings Reports\n",
      "1 Number To Watch in Alphabet's Earnings Report\n",
      "My Take on AMD's Strong Earnings Report\n",
      "PREVIEW-Tesla investors to focus on demand issues in earnings report\n",
      "5 Big Takeaways From Costco's Earnings Report\n"
     ]
    }
   ],
   "source": [
    "response = articles.query.hybrid(\n",
    "    query=\"earnings report\",\n",
    "    query_properties=[\"article_title\"],\n",
    "    limit=5,\n",
    "    alpha=0.7,\n",
    "    target_vector=\"title\"\n",
    ")\n",
    "\n",
    "for item in response.objects:\n",
    "    print(item.properties[\"article_title\"])"
   ]
  },
  {
   "cell_type": "markdown",
   "metadata": {},
   "source": "### Hybrid - Explain score\n\nSee how hybrid search combines vector and keyword scores."
  },
  {
   "cell_type": "code",
   "execution_count": null,
   "metadata": {},
   "outputs": [
    {
     "name": "stdout",
     "output_type": "stream",
     "text": [
      "Weekly Market Summary: Investors Digest Strong Earnings Reports\n",
      "0.699999988079071\n",
      "\n",
      "Hybrid (Result Set vector,hybridVector) Document dc5b84ad-fb6c-4b1f-a5cc-de45b53372b9: original score 0.45347238, normalized score: 0.7\n",
      "1 Number To Watch in Alphabet's Earnings Report\n",
      "0.6810106635093689\n",
      "\n",
      "Hybrid (Result Set keyword,bm25) Document 14566206-b405-4336-8b61-a5b05f06b9d5: original score 2.647615, normalized score: 0.26749945 - \n",
      "Hybrid (Result Set vector,hybridVector) Document 14566206-b405-4336-8b61-a5b05f06b9d5: original score 0.39000446, normalized score: 0.41351122\n",
      "My Take on AMD's Strong Earnings Report\n",
      "0.6388599872589111\n",
      "\n",
      "Hybrid (Result Set keyword,bm25) Document 50145e66-2b4e-42dd-bffd-0cbb17657775: original score 2.7643712, normalized score: 0.3 - \n",
      "Hybrid (Result Set vector,hybridVector) Document 50145e66-2b4e-42dd-bffd-0cbb17657775: original score 0.37346643, normalized score: 0.33885998\n",
      "PREVIEW-Tesla investors to focus on demand issues in earnings report\n",
      "0.6061513423919678\n",
      "\n",
      "Hybrid (Result Set keyword,bm25) Document ec28910b-d8e0-451a-a683-302f78cf2228: original score 2.4413855, normalized score: 0.21009289 - \n",
      "Hybrid (Result Set vector,hybridVector) Document ec28910b-d8e0-451a-a683-302f78cf2228: original score 0.38613802, normalized score: 0.39605847\n",
      "5 Big Takeaways From Costco's Earnings Report\n",
      "0.5828041434288025\n",
      "\n",
      "Hybrid (Result Set keyword,bm25) Document 98ce8808-7949-4bcb-bf72-a57f679abeb2: original score 2.7643712, normalized score: 0.3 - \n",
      "Hybrid (Result Set vector,hybridVector) Document 98ce8808-7949-4bcb-bf72-a57f679abeb2: original score 0.36104798, normalized score: 0.28280413\n"
     ]
    }
   ],
   "source": [
    "from weaviate.classes.query import MetadataQuery\n",
    "\n",
    "response = articles.query.hybrid(\n",
    "    query=\"earnings report\",\n",
    "    query_properties=[\"article_title\"],\n",
    "    limit=5,\n",
    "    alpha=0.7,\n",
    "    target_vector=\"title\",\n",
    "    return_metadata=MetadataQuery(score=True, explain_score=True)\n",
    ")\n",
    "\n",
    "for item in response.objects:\n",
    "    print(item.properties[\"article_title\"])\n",
    "    print(item.metadata.score)\n",
    "    print(item.metadata.explain_score)"
   ]
  },
  {
   "cell_type": "markdown",
   "metadata": {},
   "source": "## Close the client\n\nAlways close your connection when finished."
  },
  {
   "cell_type": "code",
   "execution_count": null,
   "metadata": {},
   "outputs": [],
   "source": [
    "client.close()"
   ]
  },
  {
   "cell_type": "code",
   "execution_count": null,
   "metadata": {},
   "outputs": [],
   "source": []
  }
 ],
 "metadata": {
  "kernelspec": {
   "display_name": ".venv",
   "language": "python",
   "name": "python3"
  },
  "language_info": {
   "codemirror_mode": {
    "name": "ipython",
    "version": 3
   },
   "file_extension": ".py",
   "mimetype": "text/x-python",
   "name": "python",
   "nbconvert_exporter": "python",
   "pygments_lexer": "ipython3",
   "version": "3.10.16"
  }
 },
 "nbformat": 4,
 "nbformat_minor": 2
}