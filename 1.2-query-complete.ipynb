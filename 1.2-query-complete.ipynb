{
 "cells": [
  {
   "cell_type": "markdown",
   "metadata": {},
   "source": [
    "# Query data\n",
    "\n",
    "Learn three search methods: **Vector** (semantic similarity), **Keyword** (BM25), and **Hybrid** (combines both)."
   ]
  },
  {
   "cell_type": "markdown",
   "metadata": {},
   "source": [
    "## Connect to Weaviate\n",
    "\n",
    "Connect to a Weaviate instance."
   ]
  },
  {
   "cell_type": "code",
   "execution_count": 1,
   "metadata": {},
   "outputs": [
    {
     "data": {
      "text/plain": [
       "True"
      ]
     },
     "execution_count": 1,
     "metadata": {},
     "output_type": "execute_result"
    }
   ],
   "source": [
    "import weaviate\n",
    "\n",
    "%store -r WEAVIATE_IP\n",
    "%store -r AWS_ACCESS_KEY\n",
    "%store -r AWS_SECRET_KEY\n",
    "%store -r AWS_SESSION_TOKEN\n",
    "\n",
    "client = weaviate.connect_to_local(\n",
    "    WEAVIATE_IP,\n",
    "    headers = {\n",
    "        \"X-AWS-Access-Key\": AWS_ACCESS_KEY,\n",
    "        \"X-AWS-Secret-Key\": AWS_SECRET_KEY,\n",
    "        \"X-AWS-Session-Token\": AWS_SESSION_TOKEN,\n",
    "    }        \n",
    ")\n",
    "\n",
    "client.is_ready()"
   ]
  },
  {
   "cell_type": "markdown",
   "metadata": {},
   "source": [
    "### Helper function\n",
    "\n",
    "Get our collection of financial articles (5000 articles total)."
   ]
  },
  {
   "cell_type": "code",
   "execution_count": 2,
   "metadata": {},
   "outputs": [],
   "source": [
    "articles = client.collections.use(\"FinancialArticles\")"
   ]
  },
  {
   "cell_type": "code",
   "execution_count": 3,
   "metadata": {},
   "outputs": [
    {
     "data": {
      "text/plain": [
       "5000"
      ]
     },
     "execution_count": 3,
     "metadata": {},
     "output_type": "execute_result"
    }
   ],
   "source": [
    "len(articles)"
   ]
  },
  {
   "cell_type": "markdown",
   "metadata": {},
   "source": [
    "## Vector search\n",
    "\n",
    "![images/search_vector.png](images/search_vector.png)\n",
    "\n",
    "[Docs - near_text](https://weaviate.io/developers/weaviate/search/similarity#an-input-medium)"
   ]
  },
  {
   "cell_type": "code",
   "execution_count": 4,
   "metadata": {},
   "outputs": [
    {
     "name": "stdout",
     "output_type": "stream",
     "text": [
      "Technology Sector Update for 05/18/2023: GOOG, META, SNOW\n",
      "Technology Sector Update for 07/28/2023: INTC, YOU, META\n",
      "Technology Sector Update for 05/17/2023: IBM, GOOG, TSLA, TME\n",
      "Technology Sector Update for 01/19/2018: ZAYO,IBM,CRM,LRAD,ALGN,IPHI,WD\n",
      "Technology Sector Update for 01/05/2022: GOOG,GOOGL,AMZN,AAPL,FB,WATT,GLBE,SHOP,SHOP.TO\n"
     ]
    }
   ],
   "source": [
    "response = articles.query.near_text(\n",
    "    query=\"tech market trends\",\n",
    "    limit=5,\n",
    "    target_vector=\"title\"\n",
    ")\n",
    "\n",
    "for item in response.objects:\n",
    "    print(item.properties[\"article_title\"])"
   ]
  },
  {
   "cell_type": "code",
   "execution_count": 5,
   "metadata": {},
   "outputs": [
    {
     "name": "stdout",
     "output_type": "stream",
     "text": [
      "Technology Sector Update for 05/18/2023: GOOG, META, SNOW\n",
      "0.5262356400489807\n",
      "Technology Sector Update for 07/28/2023: INTC, YOU, META\n",
      "0.5352218151092529\n",
      "Technology Sector Update for 05/17/2023: IBM, GOOG, TSLA, TME\n",
      "0.5485501289367676\n",
      "Technology Sector Update for 01/19/2018: ZAYO,IBM,CRM,LRAD,ALGN,IPHI,WD\n",
      "0.5497270822525024\n",
      "Technology Sector Update for 01/05/2022: GOOG,GOOGL,AMZN,AAPL,FB,WATT,GLBE,SHOP,SHOP.TO\n",
      "0.5543919801712036\n"
     ]
    }
   ],
   "source": [
    "from weaviate.classes.query import MetadataQuery\n",
    "\n",
    "response = articles.query.near_text(\n",
    "    query=\"tech market trends\",\n",
    "    limit=5,\n",
    "    target_vector=\"title\",\n",
    "    return_metadata=MetadataQuery(distance=True)\n",
    ")\n",
    "\n",
    "for item in response.objects:\n",
    "    print(item.properties[\"article_title\"])\n",
    "    print(item.metadata.distance)"
   ]
  },
  {
   "cell_type": "markdown",
   "metadata": {},
   "source": [
    "## Filters\n",
    "\n",
    "Add conditions to narrow down search results before querying."
   ]
  },
  {
   "cell_type": "markdown",
   "metadata": {},
   "source": [
    "### Fetch with filters"
   ]
  },
  {
   "cell_type": "code",
   "execution_count": 6,
   "metadata": {},
   "outputs": [
    {
     "name": "stdout",
     "output_type": "stream",
     "text": [
      "Returned object count: 5\n",
      "Qualcomm, Jabil: Should Apple's Suppliers Look Forward To A Strong 2021?\n",
      "Apple Implications Overshadow Qualcomm’s Earnings Beat\n",
      "Apple's Steady Results Prove Why It's the Ultimate Warren Buffett Stock\n",
      "Thursday’s Vital Data: Intel, Apple and Nvidia\n",
      "Is Unity Stock a Buy as It Gets a Major Boost From Apple?\n"
     ]
    }
   ],
   "source": [
    "from weaviate.classes.query import Filter\n",
    "\n",
    "response = articles.query.fetch_objects(\n",
    "    limit=5,\n",
    "    filters=Filter.by_property(\"article_title\").like(\"apple\")\n",
    ")\n",
    "\n",
    "print(f\"Returned object count: {len(response.objects)}\")\n",
    "\n",
    "for item in response.objects:\n",
    "    print(item.properties[\"article_title\"])"
   ]
  },
  {
   "cell_type": "code",
   "execution_count": 7,
   "metadata": {},
   "outputs": [
    {
     "name": "stdout",
     "output_type": "stream",
     "text": [
      "Returned object count: 2\n",
      "ANALYSIS-Australia's push for faster EV uptake will be slow to charge\n",
      "BMW AG (BAMXF) Announces Ambitious EV Plans in China, Austria\n"
     ]
    }
   ],
   "source": [
    "from weaviate.classes.query import Filter\n",
    "\n",
    "response = articles.query.fetch_objects(\n",
    "    limit=5,\n",
    "    filters=(\n",
    "        Filter.by_property(\"article_title\").like(\"aust*\") &\n",
    "        Filter.by_property(\"article_title\").like(\"ev\")\n",
    "    )\n",
    ")\n",
    "\n",
    "print(f\"Returned object count: {len(response.objects)}\")\n",
    "\n",
    "for item in response.objects:\n",
    "    print(item.properties[\"article_title\"])"
   ]
  },
  {
   "cell_type": "markdown",
   "metadata": {},
   "source": [
    "## Search with filters\n",
    "\n",
    "Combine vector search with filters for precise results."
   ]
  },
  {
   "cell_type": "code",
   "execution_count": 8,
   "metadata": {},
   "outputs": [
    {
     "name": "stdout",
     "output_type": "stream",
     "text": [
      "Returned object count: 5\n",
      "3 Key Ways Netflix Has Changed Its Content Strategy\n",
      "How I Knew to Stay Away from Netflix Before Earnings\n",
      "Could This Be Netflix's Next Big Move?\n",
      "Zacks Investment Ideas feature highlights: Microsoft, Netflix, Nvidia, Ionq and Oracle\n",
      "The Zacks Analyst Blog Highlights: Time Warner, Netflix, Altria Group, Disney, CBS and Comcast\n"
     ]
    }
   ],
   "source": [
    "from weaviate.classes.query import Filter\n",
    "\n",
    "response = articles.query.near_text(\n",
    "    query=\"strategy\",\n",
    "    target_vector=\"title\",\n",
    "    limit=5,\n",
    "    filters=Filter.by_property(\"article_title\").like(\"netflix\")\n",
    ")\n",
    "\n",
    "print(f\"Returned object count: {len(response.objects)}\")\n",
    "\n",
    "for item in response.objects:\n",
    "    print(item.properties[\"article_title\"])"
   ]
  },
  {
   "cell_type": "markdown",
   "metadata": {},
   "source": [
    "## Keyword Search\n",
    "\n",
    "![images/search_keyword.png](images/search_keyword.png)\n",
    "\n",
    "[Docs - keyword/bm25](https://weaviate.io/developers/weaviate/search/bm25)"
   ]
  },
  {
   "cell_type": "code",
   "execution_count": 9,
   "metadata": {},
   "outputs": [
    {
     "name": "stdout",
     "output_type": "stream",
     "text": [
      "My Take on AMD's Strong Earnings Report\n",
      "Walgreens Boots Alliance to report earnings March 28\n",
      "5 Big Takeaways From Costco's Earnings Report\n",
      "1 Number To Watch in Alphabet's Earnings Report\n",
      "Here's What Stood Out in Starbucks' Earnings Report\n"
     ]
    }
   ],
   "source": [
    "response = articles.query.bm25(\n",
    "    query=\"earnings report\",\n",
    "    query_properties=[\"article_title\"],\n",
    "    limit=5,\n",
    ")\n",
    "\n",
    "for item in response.objects:\n",
    "    print(item.properties[\"article_title\"])"
   ]
  },
  {
   "cell_type": "code",
   "execution_count": 10,
   "metadata": {},
   "outputs": [
    {
     "name": "stdout",
     "output_type": "stream",
     "text": [
      "My Take on AMD's Strong Earnings Report\n",
      "2.764371156692505\n",
      "Walgreens Boots Alliance to report earnings March 28\n",
      "2.764371156692505\n",
      "5 Big Takeaways From Costco's Earnings Report\n",
      "2.764371156692505\n",
      "1 Number To Watch in Alphabet's Earnings Report\n",
      "2.6476149559020996\n",
      "Here's What Stood Out in Starbucks' Earnings Report\n",
      "2.6476149559020996\n"
     ]
    }
   ],
   "source": [
    "from weaviate.classes.query import MetadataQuery\n",
    "\n",
    "response = articles.query.bm25(\n",
    "    query=\"earnings report\",\n",
    "    query_properties=[\"article_title\"],\n",
    "    limit=5,\n",
    "    return_metadata=MetadataQuery(score=True)\n",
    ")\n",
    "\n",
    "for item in response.objects:\n",
    "    print(item.properties[\"article_title\"])\n",
    "    print(item.metadata.score)"
   ]
  },
  {
   "cell_type": "code",
   "execution_count": 11,
   "metadata": {},
   "outputs": [
    {
     "name": "stdout",
     "output_type": "stream",
     "text": [
      "Drug Stocks' Earnings Previews: KERX, BXLT, BMRN, AGEN, IMGN\n",
      "2.3630902767181396\n",
      "Taking Stock of the Q3 Earnings season - Analyst Blog\n",
      "2.357506036758423\n",
      "Drug Stocks Earnings Slated for Feb 14: INCY, PRTA & More\n",
      "2.322143316268921\n",
      "Q4 Earnings Inform the Market - Ahead of Wall Street\n",
      "2.313457727432251\n",
      "Can PVH Corp.'s (PVH) Q2 Earnings Maintain Solid Trend?\n",
      "2.306293249130249\n"
     ]
    }
   ],
   "source": [
    "from weaviate.classes.query import MetadataQuery\n",
    "\n",
    "response = articles.query.bm25(\n",
    "    query=\"earnings report\",\n",
    "    query_properties=[\"article_title\", \"article\"],\n",
    "    limit=5,\n",
    "    return_metadata=MetadataQuery(score=True)\n",
    ")\n",
    "\n",
    "for item in response.objects:\n",
    "    print(item.properties[\"article_title\"])\n",
    "    print(item.metadata.score)"
   ]
  },
  {
   "cell_type": "code",
   "execution_count": 12,
   "metadata": {},
   "outputs": [
    {
     "name": "stdout",
     "output_type": "stream",
     "text": [
      "Paccar (PCAR) Up 7.9% Since Last Earnings Report: Can It Continue?\n",
      "7.3204569816589355\n",
      "Will Costco (COST) Earnings Beat Estimates this Season? - Analyst Blog\n",
      "6.74637508392334\n",
      "Can Tech Data (TECD) Spring a Surprise This Earnings Season?\n",
      "6.525173664093018\n",
      "Analog Devices (ADI) Q4 Earnings to Ride on End Market Growth\n",
      "6.401626110076904\n",
      "Biogen Inc. (BIIB) Expected to Beat Earnings Estimates: What to Know Ahead of Q3 Release\n",
      "6.385735511779785\n"
     ]
    }
   ],
   "source": [
    "from weaviate.classes.query import MetadataQuery\n",
    "\n",
    "response = articles.query.bm25(\n",
    "    query=\"earnings report\",\n",
    "    query_properties=[\"article_title\", \"article^3\"],\n",
    "    limit=5,\n",
    "    return_metadata=MetadataQuery(score=True)\n",
    ")\n",
    "\n",
    "for item in response.objects:\n",
    "    print(item.properties[\"article_title\"])\n",
    "    print(item.metadata.score)"
   ]
  },
  {
   "cell_type": "markdown",
   "metadata": {},
   "source": [
    "## Hybrid search\n",
    "\n",
    "![images/search_hybrid.png](images/search_hybrid.png)\n",
    "\n",
    "[Docs - hybrid](https://weaviate.io/developers/weaviate/search/hybrid)"
   ]
  },
  {
   "cell_type": "code",
   "execution_count": 13,
   "metadata": {},
   "outputs": [
    {
     "name": "stdout",
     "output_type": "stream",
     "text": [
      "New Quarterly Earnings Results for DIS, CMG, SNAP and More\n",
      "Electronic Arts' (EA) Q3 Earnings and Revenues Increase Y/Y\n",
      "Q4 Earnings Inform the Market - Ahead of Wall Street\n",
      "Earnings Season: 3 Upcoming Reports Investors Can't Ignore\n",
      "A Review of Big Techs’ Earnings Results\n"
     ]
    }
   ],
   "source": [
    "response = articles.query.hybrid(\n",
    "    query=\"earnings report\",\n",
    "    query_properties=[\"article_title\"],\n",
    "    limit=5,\n",
    "    alpha=0.7,\n",
    "    target_vector=\"title\"\n",
    ")\n",
    "\n",
    "for item in response.objects:\n",
    "    print(item.properties[\"article_title\"])"
   ]
  },
  {
   "cell_type": "markdown",
   "metadata": {},
   "source": [
    "### Hybrid - Explain score\n",
    "\n",
    "See how hybrid search combines vector and keyword scores."
   ]
  },
  {
   "cell_type": "code",
   "execution_count": 14,
   "metadata": {},
   "outputs": [
    {
     "name": "stdout",
     "output_type": "stream",
     "text": [
      "New Quarterly Earnings Results for DIS, CMG, SNAP and More\n",
      "0.699999988079071\n",
      "\n",
      "Hybrid (Result Set vector,hybridVector) Document 174bf34a-639b-5229-bd24-532c7f91ccac: original score 0.38914192, normalized score: 0.7\n",
      "Electronic Arts' (EA) Q3 Earnings and Revenues Increase Y/Y\n",
      "0.6494570374488831\n",
      "\n",
      "Hybrid (Result Set vector,hybridVector) Document 7c868813-e065-5e4a-9261-cfd7f197fcf7: original score 0.38081086, normalized score: 0.64945704\n",
      "Q4 Earnings Inform the Market - Ahead of Wall Street\n",
      "0.6336445212364197\n",
      "\n",
      "Hybrid (Result Set vector,hybridVector) Document 1b47ac7d-ac03-588e-a030-b18e9bb4a056: original score 0.37820446, normalized score: 0.6336445\n",
      "Earnings Season: 3 Upcoming Reports Investors Can't Ignore\n",
      "0.5480558276176453\n",
      "\n",
      "Hybrid (Result Set vector,hybridVector) Document 841143ca-0896-51ef-b2c3-c4d2a4dfa1a5: original score 0.36409676, normalized score: 0.5480558\n",
      "A Review of Big Techs’ Earnings Results\n",
      "0.5287110805511475\n",
      "\n",
      "Hybrid (Result Set vector,hybridVector) Document b49744c9-6f88-5943-a0da-1ad149ff6a3a: original score 0.36090815, normalized score: 0.5287111\n"
     ]
    }
   ],
   "source": [
    "from weaviate.classes.query import MetadataQuery\n",
    "\n",
    "response = articles.query.hybrid(\n",
    "    query=\"earnings report\",\n",
    "    query_properties=[\"article_title\"],\n",
    "    limit=5,\n",
    "    alpha=0.7,\n",
    "    target_vector=\"title\",\n",
    "    return_metadata=MetadataQuery(score=True, explain_score=True)\n",
    ")\n",
    "\n",
    "for item in response.objects:\n",
    "    print(item.properties[\"article_title\"])\n",
    "    print(item.metadata.score)\n",
    "    print(item.metadata.explain_score)"
   ]
  },
  {
   "cell_type": "markdown",
   "metadata": {},
   "source": [
    "## Close the client\n",
    "\n",
    "Always close your connection when finished."
   ]
  },
  {
   "cell_type": "code",
   "execution_count": 15,
   "metadata": {},
   "outputs": [],
   "source": [
    "client.close()"
   ]
  }
 ],
 "metadata": {
  "kernelspec": {
   "display_name": "Python 3 (ipykernel)",
   "language": "python",
   "name": "python3"
  },
  "language_info": {
   "codemirror_mode": {
    "name": "ipython",
    "version": 3
   },
   "file_extension": ".py",
   "mimetype": "text/x-python",
   "name": "python",
   "nbconvert_exporter": "python",
   "pygments_lexer": "ipython3",
   "version": "3.12.9"
  }
 },
 "nbformat": 4,
 "nbformat_minor": 4
}
