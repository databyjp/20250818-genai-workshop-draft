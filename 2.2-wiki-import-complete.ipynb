{
 "cells": [
  {
   "cell_type": "markdown",
   "metadata": {},
   "source": [
    "# Import pre-vectorized Wikipedia data\n",
    "\n",
    "Learn how to import large datasets with pre-computed embeddings. This notebook shows how to work with the Weaviate Wikipedia dataset that includes Snowflake Arctic embeddings."
   ]
  },
  {
   "cell_type": "markdown",
   "metadata": {},
   "source": [
    "## Connect to Weaviate\n",
    "\n",
    "Connect to a Weaviate instance for importing pre-vectorized data."
   ]
  },
  {
   "cell_type": "code",
   "execution_count": 1,
   "metadata": {
    "execution": {
     "iopub.execute_input": "2025-09-04T16:35:51.734503Z",
     "iopub.status.busy": "2025-09-04T16:35:51.734067Z",
     "iopub.status.idle": "2025-09-04T16:35:51.877312Z",
     "shell.execute_reply": "2025-09-04T16:35:51.876625Z",
     "shell.execute_reply.started": "2025-09-04T16:35:51.734470Z"
    }
   },
   "outputs": [],
   "source": [
    "# Refresh credentials & load the Weaviate IP\n",
    "from helpers import update_creds\n",
    "\n",
    "AWS_ACCESS_KEY, AWS_SECRET_KEY, AWS_SESSION_TOKEN = update_creds()\n",
    "\n",
    "%store -r WEAVIATE_IP"
   ]
  },
  {
   "cell_type": "code",
   "execution_count": 2,
   "metadata": {
    "execution": {
     "iopub.execute_input": "2025-09-04T16:35:51.878763Z",
     "iopub.status.busy": "2025-09-04T16:35:51.878297Z",
     "iopub.status.idle": "2025-09-04T16:35:52.799608Z",
     "shell.execute_reply": "2025-09-04T16:35:52.798861Z",
     "shell.execute_reply.started": "2025-09-04T16:35:51.878730Z"
    }
   },
   "outputs": [
    {
     "data": {
      "text/plain": [
       "True"
      ]
     },
     "execution_count": 2,
     "metadata": {},
     "output_type": "execute_result"
    }
   ],
   "source": [
    "import weaviate\n",
    "\n",
    "client = weaviate.connect_to_local(\n",
    "    WEAVIATE_IP,\n",
    "    headers = {\n",
    "        \"X-AWS-Access-Key\": AWS_ACCESS_KEY,\n",
    "        \"X-AWS-Secret-Key\": AWS_SECRET_KEY,\n",
    "        \"X-AWS-Session-Token\": AWS_SESSION_TOKEN,\n",
    "    }        \n",
    ")\n",
    "\n",
    "client.is_ready()"
   ]
  },
  {
   "cell_type": "markdown",
   "metadata": {},
   "source": [
    "## Create Wikipedia collection\n",
    "\n",
    "Create a collection configured for pre-vectorized Wikipedia data with named vectors."
   ]
  },
  {
   "cell_type": "code",
   "execution_count": 3,
   "metadata": {
    "execution": {
     "iopub.execute_input": "2025-09-04T16:35:52.805190Z",
     "iopub.status.busy": "2025-09-04T16:35:52.804896Z",
     "iopub.status.idle": "2025-09-04T16:35:52.974828Z",
     "shell.execute_reply": "2025-09-04T16:35:52.974133Z",
     "shell.execute_reply.started": "2025-09-04T16:35:52.805159Z"
    }
   },
   "outputs": [
    {
     "name": "stdout",
     "output_type": "stream",
     "text": [
      "Created Wiki collection with Snowflake Arctic embeddings\n"
     ]
    }
   ],
   "source": [
    "from weaviate.classes.config import Configure, Property, DataType\n",
    "\n",
    "def create_wiki_collection():\n",
    "    # Delete existing collection if it exists\n",
    "    if client.collections.exists(\"Wiki\"):\n",
    "        client.collections.delete(\"Wiki\")\n",
    "\n",
    "    # Create collection for pre-vectorized Wikipedia data\n",
    "    client.collections.create(\n",
    "        name=\"Wiki\",\n",
    "\n",
    "        # Configure for pre-computed vectors with matching model\n",
    "        vector_config=[\n",
    "            Configure.Vectors.text2vec_weaviate(\n",
    "                name=\"main_vector\",\n",
    "                model=\"Snowflake/snowflake-arctic-embed-l-v2.0\",\n",
    "                source_properties=['title', 'text']  # Properties used for embedding\n",
    "            )\n",
    "        ],\n",
    "\n",
    "        # Define the schema for Wikipedia articles\n",
    "        properties=[\n",
    "            Property(name=\"wiki_id\", data_type=DataType.TEXT),\n",
    "            Property(name=\"title\", data_type=DataType.TEXT),\n",
    "            Property(name=\"text\", data_type=DataType.TEXT),\n",
    "            Property(name=\"url\", data_type=DataType.TEXT),\n",
    "        ],\n",
    "    )\n",
    "\n",
    "    print(\"Created Wiki collection with Snowflake Arctic embeddings\")\n",
    "\n",
    "create_wiki_collection()"
   ]
  },
  {
   "cell_type": "markdown",
   "metadata": {},
   "source": [
    "## Load pre-vectorized Wikipedia dataset\n",
    "\n",
    "Load the Weaviate Wikipedia dataset with pre-computed Snowflake Arctic embeddings.\n",
    "\n",
    "[Dataset source](https://huggingface.co/datasets/weaviate/wiki-sample)"
   ]
  },
  {
   "cell_type": "code",
   "execution_count": 8,
   "metadata": {
    "execution": {
     "iopub.execute_input": "2025-09-04T16:57:35.125829Z",
     "iopub.status.busy": "2025-09-04T16:57:35.125508Z",
     "iopub.status.idle": "2025-09-04T16:58:02.850668Z",
     "shell.execute_reply": "2025-09-04T16:58:02.849940Z",
     "shell.execute_reply.started": "2025-09-04T16:57:35.125755Z"
    }
   },
   "outputs": [
    {
     "name": "stdout",
     "output_type": "stream",
     "text": [
      "Downloading weaviate/snowflake-arctic-v2/0001.parquet\n",
      "Downloading weaviate/snowflake-arctic-v2/0002.parquet\n",
      "Downloading weaviate/snowflake-arctic-v2/0003.parquet\n",
      "Downloading weaviate/snowflake-arctic-v2/0004.parquet\n",
      "Downloading weaviate/snowflake-arctic-v2/0005.parquet\n",
      "Downloading weaviate/snowflake-arctic-v2/0006.parquet\n",
      "Downloading weaviate/snowflake-arctic-v2/0007.parquet\n",
      "Downloading weaviate/snowflake-arctic-v2/0008.parquet\n",
      "Downloading weaviate/snowflake-arctic-v2/0009.parquet\n",
      "Downloading weaviate/snowflake-arctic-v2/0010.parquet\n"
     ]
    }
   ],
   "source": [
    "%%bash\n",
    "python prep-data.py"
   ]
  },
  {
   "cell_type": "code",
   "execution_count": 9,
   "metadata": {
    "execution": {
     "iopub.execute_input": "2025-09-04T17:02:57.886831Z",
     "iopub.status.busy": "2025-09-04T17:02:57.886544Z",
     "iopub.status.idle": "2025-09-04T17:02:58.166867Z",
     "shell.execute_reply": "2025-09-04T17:02:58.166055Z",
     "shell.execute_reply.started": "2025-09-04T17:02:57.886810Z"
    }
   },
   "outputs": [
    {
     "name": "stdout",
     "output_type": "stream",
     "text": [
      "Dataset loading function prepared\n"
     ]
    },
    {
     "name": "stderr",
     "output_type": "stream",
     "text": [
      "Using custom data configuration default-bbe2e31989cedbce\n"
     ]
    }
   ],
   "source": [
    "from datasets import load_dataset\n",
    "\n",
    "def prepare_dataset():\n",
    "    \"\"\"Load the pre-vectorized Wikipedia dataset\"\"\"\n",
    "    return load_dataset(\n",
    "        'parquet',\n",
    "        data_files={'train': ['wiki-data/weaviate/snowflake-arctic-v2/*.parquet']},\n",
    "        split=\"train\",\n",
    "        streaming=True\n",
    "    )\n",
    "\n",
    "print(\"Dataset loading function prepared\")\n",
    "\n",
    "# Preview the first few items to understand the data structure\n",
    "dataset = prepare_dataset()"
   ]
  },
  {
   "cell_type": "markdown",
   "metadata": {},
   "source": [
    "### Preview the dataset structure"
   ]
  },
  {
   "cell_type": "code",
   "execution_count": 10,
   "metadata": {
    "execution": {
     "iopub.execute_input": "2025-09-04T17:03:04.733753Z",
     "iopub.status.busy": "2025-09-04T17:03:04.733391Z",
     "iopub.status.idle": "2025-09-04T17:03:09.771176Z",
     "shell.execute_reply": "2025-09-04T17:03:09.770370Z",
     "shell.execute_reply.started": "2025-09-04T17:03:04.733725Z"
    }
   },
   "outputs": [
    {
     "name": "stdout",
     "output_type": "stream",
     "text": [
      "Sample Wikipedia articles with pre-computed embeddings:\n",
      "============================================================\n",
      "\n",
      "Title: Unicode\n",
      "Wiki ID: 20231101.simple_64846_4\n",
      "Text preview: The Unicode Standard includes more than just the base code. Alongside the character encodings, the C...\n",
      "Vector dimensions: 1024\n",
      "URL: https://simple.wikipedia.org/wiki/Unicode\n",
      "\n",
      "Title: Book of Genesis\n",
      "Wiki ID: 20231101.simple_11278_4\n",
      "Text preview: The people of the world attempted to build a high tower (Tower of Babel) to show the power of mankin...\n",
      "Vector dimensions: 1024\n",
      "URL: https://simple.wikipedia.org/wiki/Book%20of%20Genesis\n",
      "\n",
      "Title: Rock Demers\n",
      "Wiki ID: 20231101.simple_864656_0\n",
      "Text preview: Rock Demers,  (December 11, 1933 – August 17, 2021) was a Canadian movie producer.  He was the found...\n",
      "Vector dimensions: 1024\n",
      "URL: https://simple.wikipedia.org/wiki/Rock%20Demers\n"
     ]
    }
   ],
   "source": [
    "print(\"Sample Wikipedia articles with pre-computed embeddings:\")\n",
    "print(\"=\" * 60)\n",
    "\n",
    "counter = 3\n",
    "for item in dataset:\n",
    "    print(f\"\\nTitle: {item['title']}\")\n",
    "    print(f\"Wiki ID: {item['wiki_id']}\")\n",
    "    print(f\"Text preview: {item['text'][:100]}...\")\n",
    "    print(f\"Vector dimensions: {len(item['vector'])}\")\n",
    "    print(f\"URL: {item['url']}\")\n",
    "\n",
    "    counter -= 1\n",
    "    if counter == 0:\n",
    "        break"
   ]
  },
  {
   "cell_type": "markdown",
   "metadata": {},
   "source": [
    "## Import Wikipedia data with vectors\n",
    "\n",
    "Efficient batch import of pre-vectorized Wikipedia articles."
   ]
  },
  {
   "cell_type": "code",
   "execution_count": 11,
   "metadata": {
    "execution": {
     "iopub.execute_input": "2025-09-04T17:03:17.569735Z",
     "iopub.status.busy": "2025-09-04T17:03:17.569455Z",
     "iopub.status.idle": "2025-09-04T17:03:58.083583Z",
     "shell.execute_reply": "2025-09-04T17:03:58.082806Z",
     "shell.execute_reply.started": "2025-09-04T17:03:17.569715Z"
    }
   },
   "outputs": [
    {
     "name": "stdout",
     "output_type": "stream",
     "text": [
      "Importing up to 25,000 Wikipedia articles with embeddings...\n"
     ]
    },
    {
     "name": "stderr",
     "output_type": "stream",
     "text": [
      "Using custom data configuration default-bbe2e31989cedbce\n",
      "Importing articles: 100%|█████████▉| 24999/25000 [00:37<00:00, 657.93it/s] \n"
     ]
    },
    {
     "name": "stdout",
     "output_type": "stream",
     "text": [
      "\n",
      "Import completed successfully with no errors\n",
      "Successfully imported 25,000 Wikipedia articles\n"
     ]
    }
   ],
   "source": [
    "from tqdm import tqdm\n",
    "from weaviate.util import generate_uuid5\n",
    "\n",
    "def import_wiki_data(max_rows=25000):\n",
    "    \"\"\"Import Wikipedia articles with their pre-computed vectors\"\"\"\n",
    "    print(f\"Importing up to {max_rows:,} Wikipedia articles with embeddings...\")\n",
    "\n",
    "    dataset = prepare_dataset()\n",
    "    wiki = client.collections.use(\"Wiki\")\n",
    "\n",
    "    counter = 0\n",
    "    error_threshold = 10\n",
    "\n",
    "    with wiki.batch.fixed_size(batch_size=500, concurrent_requests=2) as batch:\n",
    "        for item in tqdm(dataset, total=max_rows, desc=\"Importing articles\"):\n",
    "\n",
    "            # Prepare the article data\n",
    "            article_data = {\n",
    "                \"wiki_id\": item[\"wiki_id\"],\n",
    "                \"text\": item[\"text\"],\n",
    "                \"title\": item[\"title\"],\n",
    "                \"url\": item[\"url\"],\n",
    "            }\n",
    "\n",
    "            # Generate consistent UUID from wiki_id\n",
    "            article_uuid = generate_uuid5(item[\"wiki_id\"])\n",
    "\n",
    "            # Prepare the pre-computed vector\n",
    "            article_vector = {\n",
    "                \"main_vector\": item[\"vector\"]\n",
    "            }\n",
    "\n",
    "            # Add to batch\n",
    "            batch.add_object(\n",
    "                properties=article_data,\n",
    "                uuid=article_uuid,\n",
    "                vector=article_vector\n",
    "            )\n",
    "\n",
    "            # Check for errors during import\n",
    "            if batch.number_errors > error_threshold:\n",
    "                print(f\"\\nStopping import: reached {batch.number_errors} errors\")\n",
    "                break\n",
    "\n",
    "            # Stop when reaching max_rows limit\n",
    "            counter += 1\n",
    "            if counter >= max_rows:\n",
    "                break\n",
    "\n",
    "    # Final error check\n",
    "    failed_objects = wiki.batch.failed_objects\n",
    "    if len(failed_objects) > 0:\n",
    "        print(f\"\\nImport completed with {len(failed_objects)} errors\")\n",
    "        print(\"Sample error:\", failed_objects[-1])\n",
    "    else:\n",
    "        print(\"\\nImport completed successfully with no errors\")\n",
    "\n",
    "    print(f\"Successfully imported {counter:,} Wikipedia articles\")\n",
    "    return counter\n",
    "\n",
    "# Import the dataset\n",
    "imported_count = import_wiki_data(25000)"
   ]
  },
  {
   "cell_type": "markdown",
   "metadata": {},
   "source": [
    "## Verify the import\n",
    "\n",
    "Check that articles were imported correctly with their embeddings."
   ]
  },
  {
   "cell_type": "code",
   "execution_count": 12,
   "metadata": {
    "execution": {
     "iopub.execute_input": "2025-09-04T17:04:01.166190Z",
     "iopub.status.busy": "2025-09-04T17:04:01.165755Z",
     "iopub.status.idle": "2025-09-04T17:04:01.200182Z",
     "shell.execute_reply": "2025-09-04T17:04:01.199216Z",
     "shell.execute_reply.started": "2025-09-04T17:04:01.166162Z"
    }
   },
   "outputs": [
    {
     "name": "stdout",
     "output_type": "stream",
     "text": [
      "Total articles in Wiki collection: 25,000\n",
      "Expected articles imported: 25,000\n",
      "Import success rate: 100.0%\n"
     ]
    }
   ],
   "source": [
    "# Check total count in collection\n",
    "wiki = client.collections.use(\"Wiki\")\n",
    "total_articles = len(wiki)\n",
    "\n",
    "print(f\"Total articles in Wiki collection: {total_articles:,}\")\n",
    "print(f\"Expected articles imported: {imported_count:,}\")\n",
    "print(f\"Import success rate: {(total_articles/imported_count*100):.1f}%\" if imported_count > 0 else \"No articles to compare\")"
   ]
  },
  {
   "cell_type": "code",
   "execution_count": 13,
   "metadata": {
    "execution": {
     "iopub.execute_input": "2025-09-04T17:04:03.886107Z",
     "iopub.status.busy": "2025-09-04T17:04:03.885640Z",
     "iopub.status.idle": "2025-09-04T17:04:03.901282Z",
     "shell.execute_reply": "2025-09-04T17:04:03.900315Z",
     "shell.execute_reply.started": "2025-09-04T17:04:03.886080Z"
    }
   },
   "outputs": [
    {
     "name": "stdout",
     "output_type": "stream",
     "text": [
      "Sample imported articles:\n",
      "==================================================\n",
      "\n",
      "Article 1:\n",
      "  Title: Unicode\n",
      "  Wiki ID: 20231101.simple_64846_4\n",
      "  Text preview: The Unicode Standard includes more than just the base code. Alongside the character encodings, the C...\n",
      "  Vector dimensions: 1024\n",
      "  Vector sample: [-0.0174560546875, 0.041229248046875, -0.050750732421875, 0.03729248046875, 0.03704833984375]...\n",
      "\n",
      "Article 2:\n",
      "  Title: Book of Genesis\n",
      "  Wiki ID: 20231101.simple_11278_4\n",
      "  Text preview: The people of the world attempted to build a high tower (Tower of Babel) to show the power of mankin...\n",
      "  Vector dimensions: 1024\n",
      "  Vector sample: [0.04656982421875, 0.08062744140625, 0.031402587890625, -0.0224761962890625, -0.0400390625]...\n"
     ]
    }
   ],
   "source": [
    "# Verify article content and vectors\n",
    "response = wiki.query.fetch_objects(limit=2, include_vector=True)\n",
    "\n",
    "print(\"Sample imported articles:\")\n",
    "print(\"=\" * 50)\n",
    "\n",
    "for i, article in enumerate(response.objects, 1):\n",
    "    props = article.properties\n",
    "    vector = article.vector\n",
    "\n",
    "    print(f\"\\nArticle {i}:\")\n",
    "    print(f\"  Title: {props['title']}\")\n",
    "    print(f\"  Wiki ID: {props['wiki_id']}\")\n",
    "    print(f\"  Text preview: {props['text'][:100]}...\")\n",
    "    print(f\"  Vector dimensions: {len(vector['main_vector'])}\")\n",
    "    print(f\"  Vector sample: {vector['main_vector'][:5]}...\")"
   ]
  },
  {
   "cell_type": "markdown",
   "metadata": {},
   "source": [
    "## Quick search test\n",
    "\n",
    "Verify the collection works with semantic search."
   ]
  },
  {
   "cell_type": "code",
   "execution_count": 14,
   "metadata": {
    "execution": {
     "iopub.execute_input": "2025-09-04T17:04:08.741604Z",
     "iopub.status.busy": "2025-09-04T17:04:08.741325Z",
     "iopub.status.idle": "2025-09-04T17:04:09.014878Z",
     "shell.execute_reply": "2025-09-04T17:04:09.013607Z",
     "shell.execute_reply.started": "2025-09-04T17:04:08.741583Z"
    }
   },
   "outputs": [
    {
     "ename": "WeaviateQueryError",
     "evalue": "Query call with protocol GRPC search failed with message explorer: get class: concurrentTargetVectorSearch): explorer: get class: vectorize search vector: vectorize params: vectorize params: vectorize keywords: remote client vectorize: authentication token: neither authentication token found in request header: Authorization nor api key in environment variable under WEAVIATE_APIKEY.",
     "output_type": "error",
     "traceback": [
      "\u001b[0;31m---------------------------------------------------------------------------\u001b[0m",
      "\u001b[0;31m_InactiveRpcError\u001b[0m                         Traceback (most recent call last)",
      "File \u001b[0;32m/opt/conda/lib/python3.12/site-packages/weaviate/connect/v4.py:987\u001b[0m, in \u001b[0;36mConnectionSync.grpc_search\u001b[0;34m(self, request)\u001b[0m\n\u001b[1;32m    986\u001b[0m \u001b[38;5;28;01massert\u001b[39;00m \u001b[38;5;28mself\u001b[39m\u001b[38;5;241m.\u001b[39mgrpc_stub \u001b[38;5;129;01mis\u001b[39;00m \u001b[38;5;129;01mnot\u001b[39;00m \u001b[38;5;28;01mNone\u001b[39;00m\n\u001b[0;32m--> 987\u001b[0m res \u001b[38;5;241m=\u001b[39m \u001b[43m_Retry\u001b[49m\u001b[43m(\u001b[49m\u001b[38;5;241;43m4\u001b[39;49m\u001b[43m)\u001b[49m\u001b[38;5;241;43m.\u001b[39;49m\u001b[43mwith_exponential_backoff\u001b[49m\u001b[43m(\u001b[49m\n\u001b[1;32m    988\u001b[0m \u001b[43m    \u001b[49m\u001b[38;5;241;43m0\u001b[39;49m\u001b[43m,\u001b[49m\n\u001b[1;32m    989\u001b[0m \u001b[43m    \u001b[49m\u001b[38;5;124;43mf\u001b[39;49m\u001b[38;5;124;43m\"\u001b[39;49m\u001b[38;5;124;43mSearching in collection \u001b[39;49m\u001b[38;5;132;43;01m{\u001b[39;49;00m\u001b[43mrequest\u001b[49m\u001b[38;5;241;43m.\u001b[39;49m\u001b[43mcollection\u001b[49m\u001b[38;5;132;43;01m}\u001b[39;49;00m\u001b[38;5;124;43m\"\u001b[39;49m\u001b[43m,\u001b[49m\n\u001b[1;32m    990\u001b[0m \u001b[43m    \u001b[49m\u001b[38;5;28;43mself\u001b[39;49m\u001b[38;5;241;43m.\u001b[39;49m\u001b[43mgrpc_stub\u001b[49m\u001b[38;5;241;43m.\u001b[39;49m\u001b[43mSearch\u001b[49m\u001b[43m,\u001b[49m\n\u001b[1;32m    991\u001b[0m \u001b[43m    \u001b[49m\u001b[43mrequest\u001b[49m\u001b[43m,\u001b[49m\n\u001b[1;32m    992\u001b[0m \u001b[43m    \u001b[49m\u001b[43mmetadata\u001b[49m\u001b[38;5;241;43m=\u001b[39;49m\u001b[38;5;28;43mself\u001b[39;49m\u001b[38;5;241;43m.\u001b[39;49m\u001b[43mgrpc_headers\u001b[49m\u001b[43m(\u001b[49m\u001b[43m)\u001b[49m\u001b[43m,\u001b[49m\n\u001b[1;32m    993\u001b[0m \u001b[43m    \u001b[49m\u001b[43mtimeout\u001b[49m\u001b[38;5;241;43m=\u001b[39;49m\u001b[38;5;28;43mself\u001b[39;49m\u001b[38;5;241;43m.\u001b[39;49m\u001b[43mtimeout_config\u001b[49m\u001b[38;5;241;43m.\u001b[39;49m\u001b[43mquery\u001b[49m\u001b[43m,\u001b[49m\n\u001b[1;32m    994\u001b[0m \u001b[43m\u001b[49m\u001b[43m)\u001b[49m\n\u001b[1;32m    995\u001b[0m \u001b[38;5;28;01mreturn\u001b[39;00m cast(search_get_pb2\u001b[38;5;241m.\u001b[39mSearchReply, res)\n",
      "File \u001b[0;32m/opt/conda/lib/python3.12/site-packages/weaviate/retry.py:54\u001b[0m, in \u001b[0;36m_Retry.with_exponential_backoff\u001b[0;34m(self, count, error, f, *args, **kwargs)\u001b[0m\n\u001b[1;32m     53\u001b[0m \u001b[38;5;28;01mif\u001b[39;00m err\u001b[38;5;241m.\u001b[39mcode() \u001b[38;5;241m!=\u001b[39m StatusCode\u001b[38;5;241m.\u001b[39mUNAVAILABLE:\n\u001b[0;32m---> 54\u001b[0m     \u001b[38;5;28;01mraise\u001b[39;00m e\n\u001b[1;32m     55\u001b[0m logger\u001b[38;5;241m.\u001b[39minfo(\n\u001b[1;32m     56\u001b[0m     \u001b[38;5;124mf\u001b[39m\u001b[38;5;124m\"\u001b[39m\u001b[38;5;132;01m{\u001b[39;00merror\u001b[38;5;132;01m}\u001b[39;00m\u001b[38;5;124m received exception: \u001b[39m\u001b[38;5;132;01m{\u001b[39;00me\u001b[38;5;132;01m}\u001b[39;00m\u001b[38;5;124m. Retrying with exponential backoff in \u001b[39m\u001b[38;5;132;01m{\u001b[39;00m\u001b[38;5;241m2\u001b[39m\u001b[38;5;241m*\u001b[39m\u001b[38;5;241m*\u001b[39mcount\u001b[38;5;132;01m}\u001b[39;00m\u001b[38;5;124m seconds\u001b[39m\u001b[38;5;124m\"\u001b[39m\n\u001b[1;32m     57\u001b[0m )\n",
      "File \u001b[0;32m/opt/conda/lib/python3.12/site-packages/weaviate/retry.py:50\u001b[0m, in \u001b[0;36m_Retry.with_exponential_backoff\u001b[0;34m(self, count, error, f, *args, **kwargs)\u001b[0m\n\u001b[1;32m     49\u001b[0m \u001b[38;5;28;01mtry\u001b[39;00m:\n\u001b[0;32m---> 50\u001b[0m     \u001b[38;5;28;01mreturn\u001b[39;00m \u001b[43mf\u001b[49m\u001b[43m(\u001b[49m\u001b[38;5;241;43m*\u001b[39;49m\u001b[43margs\u001b[49m\u001b[43m,\u001b[49m\u001b[43m \u001b[49m\u001b[38;5;241;43m*\u001b[39;49m\u001b[38;5;241;43m*\u001b[39;49m\u001b[43mkwargs\u001b[49m\u001b[43m)\u001b[49m\n\u001b[1;32m     51\u001b[0m \u001b[38;5;28;01mexcept\u001b[39;00m RpcError \u001b[38;5;28;01mas\u001b[39;00m e:\n",
      "File \u001b[0;32m/opt/conda/lib/python3.12/site-packages/grpc/_channel.py:1181\u001b[0m, in \u001b[0;36m_UnaryUnaryMultiCallable.__call__\u001b[0;34m(self, request, timeout, metadata, credentials, wait_for_ready, compression)\u001b[0m\n\u001b[1;32m   1175\u001b[0m (\n\u001b[1;32m   1176\u001b[0m     state,\n\u001b[1;32m   1177\u001b[0m     call,\n\u001b[1;32m   1178\u001b[0m ) \u001b[38;5;241m=\u001b[39m \u001b[38;5;28mself\u001b[39m\u001b[38;5;241m.\u001b[39m_blocking(\n\u001b[1;32m   1179\u001b[0m     request, timeout, metadata, credentials, wait_for_ready, compression\n\u001b[1;32m   1180\u001b[0m )\n\u001b[0;32m-> 1181\u001b[0m \u001b[38;5;28;01mreturn\u001b[39;00m \u001b[43m_end_unary_response_blocking\u001b[49m\u001b[43m(\u001b[49m\u001b[43mstate\u001b[49m\u001b[43m,\u001b[49m\u001b[43m \u001b[49m\u001b[43mcall\u001b[49m\u001b[43m,\u001b[49m\u001b[43m \u001b[49m\u001b[38;5;28;43;01mFalse\u001b[39;49;00m\u001b[43m,\u001b[49m\u001b[43m \u001b[49m\u001b[38;5;28;43;01mNone\u001b[39;49;00m\u001b[43m)\u001b[49m\n",
      "File \u001b[0;32m/opt/conda/lib/python3.12/site-packages/grpc/_channel.py:1006\u001b[0m, in \u001b[0;36m_end_unary_response_blocking\u001b[0;34m(state, call, with_call, deadline)\u001b[0m\n\u001b[1;32m   1005\u001b[0m \u001b[38;5;28;01melse\u001b[39;00m:\n\u001b[0;32m-> 1006\u001b[0m     \u001b[38;5;28;01mraise\u001b[39;00m _InactiveRpcError(state)\n",
      "\u001b[0;31m_InactiveRpcError\u001b[0m: <_InactiveRpcError of RPC that terminated with:\n\tstatus = StatusCode.UNKNOWN\n\tdetails = \"explorer: get class: concurrentTargetVectorSearch): explorer: get class: vectorize search vector: vectorize params: vectorize params: vectorize keywords: remote client vectorize: authentication token: neither authentication token found in request header: Authorization nor api key in environment variable under WEAVIATE_APIKEY\"\n\tdebug_error_string = \"UNKNOWN:Error received from peer  {created_time:\"2025-09-04T17:04:08.747340507+00:00\", grpc_status:2, grpc_message:\"explorer: get class: concurrentTargetVectorSearch): explorer: get class: vectorize search vector: vectorize params: vectorize params: vectorize keywords: remote client vectorize: authentication token: neither authentication token found in request header: Authorization nor api key in environment variable under WEAVIATE_APIKEY\"}\"\n>",
      "\nDuring handling of the above exception, another exception occurred:\n",
      "\u001b[0;31mWeaviateQueryError\u001b[0m                        Traceback (most recent call last)",
      "Cell \u001b[0;32mIn[14], line 2\u001b[0m\n\u001b[1;32m      1\u001b[0m \u001b[38;5;66;03m# Test semantic search on the imported data\u001b[39;00m\n\u001b[0;32m----> 2\u001b[0m response \u001b[38;5;241m=\u001b[39m \u001b[43mwiki\u001b[49m\u001b[38;5;241;43m.\u001b[39;49m\u001b[43mquery\u001b[49m\u001b[38;5;241;43m.\u001b[39;49m\u001b[43mnear_text\u001b[49m\u001b[43m(\u001b[49m\n\u001b[1;32m      3\u001b[0m \u001b[43m    \u001b[49m\u001b[43mquery\u001b[49m\u001b[38;5;241;43m=\u001b[39;49m\u001b[38;5;124;43m\"\u001b[39;49m\u001b[38;5;124;43mspace exploration NASA\u001b[39;49m\u001b[38;5;124;43m\"\u001b[39;49m\u001b[43m,\u001b[49m\n\u001b[1;32m      4\u001b[0m \u001b[43m    \u001b[49m\u001b[43mlimit\u001b[49m\u001b[38;5;241;43m=\u001b[39;49m\u001b[38;5;241;43m3\u001b[39;49m\u001b[43m,\u001b[49m\n\u001b[1;32m      5\u001b[0m \u001b[43m    \u001b[49m\u001b[43mtarget_vector\u001b[49m\u001b[38;5;241;43m=\u001b[39;49m\u001b[38;5;124;43m\"\u001b[39;49m\u001b[38;5;124;43mmain_vector\u001b[39;49m\u001b[38;5;124;43m\"\u001b[39;49m\n\u001b[1;32m      6\u001b[0m \u001b[43m)\u001b[49m\n\u001b[1;32m      8\u001b[0m \u001b[38;5;28mprint\u001b[39m(\u001b[38;5;124m\"\u001b[39m\u001b[38;5;124mSearch results for \u001b[39m\u001b[38;5;124m'\u001b[39m\u001b[38;5;124mspace exploration NASA\u001b[39m\u001b[38;5;124m'\u001b[39m\u001b[38;5;124m:\u001b[39m\u001b[38;5;124m\"\u001b[39m)\n\u001b[1;32m      9\u001b[0m \u001b[38;5;28mprint\u001b[39m(\u001b[38;5;124m\"\u001b[39m\u001b[38;5;124m=\u001b[39m\u001b[38;5;124m\"\u001b[39m \u001b[38;5;241m*\u001b[39m \u001b[38;5;241m45\u001b[39m)\n",
      "File \u001b[0;32m/opt/conda/lib/python3.12/site-packages/weaviate/collections/queries/near_text/query/executor.py:424\u001b[0m, in \u001b[0;36m_NearTextQueryExecutor.near_text\u001b[0;34m(self, query, certainty, distance, move_to, move_away, limit, offset, auto_limit, filters, group_by, rerank, target_vector, include_vector, return_metadata, return_properties, return_references)\u001b[0m\n\u001b[1;32m    391\u001b[0m     \u001b[38;5;28;01mreturn\u001b[39;00m cast(\n\u001b[1;32m    392\u001b[0m         Any,\n\u001b[1;32m    393\u001b[0m         \u001b[38;5;28mself\u001b[39m\u001b[38;5;241m.\u001b[39m_result_to_query_or_groupby_return(\n\u001b[0;32m   (...)\u001b[0m\n\u001b[1;32m    404\u001b[0m         ),\n\u001b[1;32m    405\u001b[0m     )\n\u001b[1;32m    407\u001b[0m request \u001b[38;5;241m=\u001b[39m \u001b[38;5;28mself\u001b[39m\u001b[38;5;241m.\u001b[39m_query\u001b[38;5;241m.\u001b[39mnear_text(\n\u001b[1;32m    408\u001b[0m     near_text\u001b[38;5;241m=\u001b[39mquery,\n\u001b[1;32m    409\u001b[0m     certainty\u001b[38;5;241m=\u001b[39mcertainty,\n\u001b[0;32m   (...)\u001b[0m\n\u001b[1;32m    422\u001b[0m     return_references\u001b[38;5;241m=\u001b[39m\u001b[38;5;28mself\u001b[39m\u001b[38;5;241m.\u001b[39m_parse_return_references(return_references),\n\u001b[1;32m    423\u001b[0m )\n\u001b[0;32m--> 424\u001b[0m \u001b[38;5;28;01mreturn\u001b[39;00m \u001b[43mexecutor\u001b[49m\u001b[38;5;241;43m.\u001b[39;49m\u001b[43mexecute\u001b[49m\u001b[43m(\u001b[49m\n\u001b[1;32m    425\u001b[0m \u001b[43m    \u001b[49m\u001b[43mresponse_callback\u001b[49m\u001b[38;5;241;43m=\u001b[39;49m\u001b[43mresp\u001b[49m\u001b[43m,\u001b[49m\n\u001b[1;32m    426\u001b[0m \u001b[43m    \u001b[49m\u001b[43mmethod\u001b[49m\u001b[38;5;241;43m=\u001b[39;49m\u001b[38;5;28;43mself\u001b[39;49m\u001b[38;5;241;43m.\u001b[39;49m\u001b[43m_connection\u001b[49m\u001b[38;5;241;43m.\u001b[39;49m\u001b[43mgrpc_search\u001b[49m\u001b[43m,\u001b[49m\n\u001b[1;32m    427\u001b[0m \u001b[43m    \u001b[49m\u001b[43mrequest\u001b[49m\u001b[38;5;241;43m=\u001b[39;49m\u001b[43mrequest\u001b[49m\u001b[43m,\u001b[49m\n\u001b[1;32m    428\u001b[0m \u001b[43m\u001b[49m\u001b[43m)\u001b[49m\n",
      "File \u001b[0;32m/opt/conda/lib/python3.12/site-packages/weaviate/connect/executor.py:99\u001b[0m, in \u001b[0;36mexecute\u001b[0;34m(method, response_callback, exception_callback, *args, **kwargs)\u001b[0m\n\u001b[1;32m     97\u001b[0m     \u001b[38;5;28;01mreturn\u001b[39;00m resp_call\n\u001b[1;32m     98\u001b[0m \u001b[38;5;28;01mexcept\u001b[39;00m \u001b[38;5;167;01mException\u001b[39;00m \u001b[38;5;28;01mas\u001b[39;00m e:\n\u001b[0;32m---> 99\u001b[0m     \u001b[38;5;28;01mreturn\u001b[39;00m cast(T, \u001b[43mexception_callback\u001b[49m\u001b[43m(\u001b[49m\u001b[43me\u001b[49m\u001b[43m)\u001b[49m)\n",
      "File \u001b[0;32m/opt/conda/lib/python3.12/site-packages/weaviate/connect/executor.py:38\u001b[0m, in \u001b[0;36mraise_exception\u001b[0;34m(e)\u001b[0m\n\u001b[1;32m     37\u001b[0m \u001b[38;5;28;01mdef\u001b[39;00m\u001b[38;5;250m \u001b[39m\u001b[38;5;21mraise_exception\u001b[39m(e: \u001b[38;5;167;01mException\u001b[39;00m) \u001b[38;5;241m-\u001b[39m\u001b[38;5;241m>\u001b[39m Any:\n\u001b[0;32m---> 38\u001b[0m     \u001b[38;5;28;01mraise\u001b[39;00m e\n",
      "File \u001b[0;32m/opt/conda/lib/python3.12/site-packages/weaviate/connect/executor.py:80\u001b[0m, in \u001b[0;36mexecute\u001b[0;34m(method, response_callback, exception_callback, *args, **kwargs)\u001b[0m\n\u001b[1;32m     71\u001b[0m \u001b[38;5;28;01mdef\u001b[39;00m\u001b[38;5;250m \u001b[39m\u001b[38;5;21mexecute\u001b[39m(\n\u001b[1;32m     72\u001b[0m     method: SyncOrAsyncMethod[P, R],\n\u001b[1;32m     73\u001b[0m     response_callback: SyncOrAsyncCallback[R, T, A],\n\u001b[0;32m   (...)\u001b[0m\n\u001b[1;32m     77\u001b[0m ) \u001b[38;5;241m-\u001b[39m\u001b[38;5;241m>\u001b[39m Union[T, Awaitable[T], Awaitable[A]]:\n\u001b[1;32m     78\u001b[0m     \u001b[38;5;66;03m# wrap method call in try-except to catch exceptions for sync method\u001b[39;00m\n\u001b[1;32m     79\u001b[0m     \u001b[38;5;28;01mtry\u001b[39;00m:\n\u001b[0;32m---> 80\u001b[0m         call \u001b[38;5;241m=\u001b[39m \u001b[43mmethod\u001b[49m\u001b[43m(\u001b[49m\u001b[38;5;241;43m*\u001b[39;49m\u001b[43margs\u001b[49m\u001b[43m,\u001b[49m\u001b[43m \u001b[49m\u001b[38;5;241;43m*\u001b[39;49m\u001b[38;5;241;43m*\u001b[39;49m\u001b[43mkwargs\u001b[49m\u001b[43m)\u001b[49m\n\u001b[1;32m     81\u001b[0m         \u001b[38;5;28;01mif\u001b[39;00m \u001b[38;5;28misinstance\u001b[39m(call, Awaitable):\n\u001b[1;32m     83\u001b[0m             \u001b[38;5;28;01masync\u001b[39;00m \u001b[38;5;28;01mdef\u001b[39;00m\u001b[38;5;250m \u001b[39m\u001b[38;5;21m_execute\u001b[39m() \u001b[38;5;241m-\u001b[39m\u001b[38;5;241m>\u001b[39m T:\n\u001b[1;32m     84\u001b[0m                 \u001b[38;5;66;03m# wrap await in try-except to catch exceptions for async method\u001b[39;00m\n",
      "File \u001b[0;32m/opt/conda/lib/python3.12/site-packages/weaviate/connect/v4.py:1000\u001b[0m, in \u001b[0;36mConnectionSync.grpc_search\u001b[0;34m(self, request)\u001b[0m\n\u001b[1;32m    998\u001b[0m     \u001b[38;5;28;01mif\u001b[39;00m error\u001b[38;5;241m.\u001b[39mcode() \u001b[38;5;241m==\u001b[39m StatusCode\u001b[38;5;241m.\u001b[39mPERMISSION_DENIED:\n\u001b[1;32m    999\u001b[0m         \u001b[38;5;28;01mraise\u001b[39;00m InsufficientPermissionsError(error)\n\u001b[0;32m-> 1000\u001b[0m     \u001b[38;5;28;01mraise\u001b[39;00m WeaviateQueryError(\u001b[38;5;28mstr\u001b[39m(error\u001b[38;5;241m.\u001b[39mdetails()), \u001b[38;5;124m\"\u001b[39m\u001b[38;5;124mGRPC search\u001b[39m\u001b[38;5;124m\"\u001b[39m)  \u001b[38;5;66;03m# pyright: ignore\u001b[39;00m\n\u001b[1;32m   1001\u001b[0m \u001b[38;5;28;01mexcept\u001b[39;00m WeaviateRetryError \u001b[38;5;28;01mas\u001b[39;00m e:\n\u001b[1;32m   1002\u001b[0m     \u001b[38;5;28;01mraise\u001b[39;00m WeaviateQueryError(\u001b[38;5;28mstr\u001b[39m(e), \u001b[38;5;124m\"\u001b[39m\u001b[38;5;124mGRPC search\u001b[39m\u001b[38;5;124m\"\u001b[39m)\n",
      "\u001b[0;31mWeaviateQueryError\u001b[0m: Query call with protocol GRPC search failed with message explorer: get class: concurrentTargetVectorSearch): explorer: get class: vectorize search vector: vectorize params: vectorize params: vectorize keywords: remote client vectorize: authentication token: neither authentication token found in request header: Authorization nor api key in environment variable under WEAVIATE_APIKEY."
     ]
    }
   ],
   "source": [
    "# Test semantic search on the imported data\n",
    "response = wiki.query.near_text(\n",
    "    query=\"space exploration NASA\",\n",
    "    limit=3,\n",
    "    target_vector=\"main_vector\"\n",
    ")\n",
    "\n",
    "print(\"Search results for 'space exploration NASA':\")\n",
    "print(\"=\" * 45)\n",
    "\n",
    "for i, article in enumerate(response.objects, 1):\n",
    "    print(f\"\\n{i}. {article.properties['title']}\")\n",
    "    print(f\"   Content: {article.properties['text'][:120]}...\")\n",
    "    print(f\"   URL: {article.properties['url']}\")"
   ]
  },
  {
   "cell_type": "markdown",
   "metadata": {},
   "source": [
    "## Summary\n",
    "\n",
    "This notebook demonstrated:\n",
    "- Creating collections for pre-vectorized data\n",
    "- Loading large datasets with embeddings from external sources\n",
    "- Efficient batch import with error handling\n",
    "- Verifying data integrity and search functionality\n",
    "\n",
    "The imported Wikipedia collection can now be used for various search and RAG applications."
   ]
  },
  {
   "cell_type": "markdown",
   "metadata": {},
   "source": [
    "## Close the client\n",
    "\n",
    "Always close your connection when finished."
   ]
  },
  {
   "cell_type": "code",
   "execution_count": null,
   "metadata": {
    "execution": {
     "iopub.status.busy": "2025-09-04T16:35:55.632431Z",
     "iopub.status.idle": "2025-09-04T16:35:55.632779Z",
     "shell.execute_reply": "2025-09-04T16:35:55.632614Z",
     "shell.execute_reply.started": "2025-09-04T16:35:55.632597Z"
    }
   },
   "outputs": [],
   "source": [
    "client.close()"
   ]
  }
 ],
 "metadata": {
  "kernelspec": {
   "display_name": "Python 3 (ipykernel)",
   "language": "python",
   "name": "python3"
  },
  "language_info": {
   "codemirror_mode": {
    "name": "ipython",
    "version": 3
   },
   "file_extension": ".py",
   "mimetype": "text/x-python",
   "name": "python",
   "nbconvert_exporter": "python",
   "pygments_lexer": "ipython3",
   "version": "3.12.9"
  }
 },
 "nbformat": 4,
 "nbformat_minor": 4
}
